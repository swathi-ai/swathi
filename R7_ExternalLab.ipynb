{
 "cells": [
  {
   "cell_type": "markdown",
   "metadata": {
    "colab_type": "text",
    "id": "4WH1Pr4KQlCh"
   },
   "source": [
    "### Build a DNN using Keras with `RELU` and `ADAM`"
   ]
  },
  {
   "cell_type": "markdown",
   "metadata": {
    "colab_type": "text",
    "id": "TbvI8LqlQlCl"
   },
   "source": [
    "#### 1. Load tensorflow (1 Mark)"
   ]
  },
  {
   "cell_type": "code",
   "execution_count": 0,
   "metadata": {
    "colab": {},
    "colab_type": "code",
    "id": "oxAjMprhETEH"
   },
   "outputs": [],
   "source": [
    "import tensorflow as tf\n",
    "import numpy as np"
   ]
  },
  {
   "cell_type": "markdown",
   "metadata": {
    "colab_type": "text",
    "id": "74cQBsi5QlCw"
   },
   "source": [
    "#### 2. Collect Fashion mnist data from tf.keras.datasets (1 Mark)"
   ]
  },
  {
   "cell_type": "code",
   "execution_count": 0,
   "metadata": {
    "colab": {},
    "colab_type": "code",
    "id": "Y1gQiviMETEO"
   },
   "outputs": [],
   "source": [
    "(train_x, train_y), (test_x, test_y) = tf.keras.datasets.fashion_mnist.load_data()\n"
   ]
  },
  {
   "cell_type": "markdown",
   "metadata": {
    "colab_type": "text",
    "id": "0TEkr2SSETER"
   },
   "source": [
    "#### Please run this cell as class names are not included, need to create them to plot the images"
   ]
  },
  {
   "cell_type": "code",
   "execution_count": 0,
   "metadata": {
    "colab": {},
    "colab_type": "code",
    "id": "sRrJIQM2ETES"
   },
   "outputs": [],
   "source": [
    "class_names = ['T-shirt/top', 'Trouser', 'Pullover', 'Dress', 'Coat', 'Sandal', 'Shirt', 'Sneaker', 'Bag', 'Ankle boot']"
   ]
  },
  {
   "cell_type": "markdown",
   "metadata": {
    "colab_type": "text",
    "id": "lHK3xtX4ETEV"
   },
   "source": [
    "#### 3(a). Display Shapes of Train and Test sets (0.5 Mark)"
   ]
  },
  {
   "cell_type": "code",
   "execution_count": 33,
   "metadata": {
    "colab": {
     "base_uri": "https://localhost:8080/",
     "height": 35
    },
    "colab_type": "code",
    "id": "Q_KfUT9fETEW",
    "outputId": "a4bdfc94-e655-4cbd-8b80-3a00ec5a0e23"
   },
   "outputs": [
    {
     "data": {
      "text/plain": [
       "(60000, 28, 28)"
      ]
     },
     "execution_count": 33,
     "metadata": {
      "tags": []
     },
     "output_type": "execute_result"
    }
   ],
   "source": [
    "train_x.shape"
   ]
  },
  {
   "cell_type": "code",
   "execution_count": 34,
   "metadata": {
    "colab": {
     "base_uri": "https://localhost:8080/",
     "height": 35
    },
    "colab_type": "code",
    "id": "8TIo3idzFnVU",
    "outputId": "6fa45b8f-5919-4dd9-c0d5-3b4b4dcf3e49"
   },
   "outputs": [
    {
     "data": {
      "text/plain": [
       "(10000, 28, 28)"
      ]
     },
     "execution_count": 34,
     "metadata": {
      "tags": []
     },
     "output_type": "execute_result"
    }
   ],
   "source": [
    "test_x.shape"
   ]
  },
  {
   "cell_type": "markdown",
   "metadata": {
    "colab_type": "text",
    "id": "-fOENMy8ETEZ"
   },
   "source": [
    "#### 3(b). Check how many classes (unique categories) we have in target column (0.5 Mark)\n",
    "\n",
    "#### Hint: np.unique"
   ]
  },
  {
   "cell_type": "code",
   "execution_count": 35,
   "metadata": {
    "colab": {
     "base_uri": "https://localhost:8080/",
     "height": 35
    },
    "colab_type": "code",
    "id": "3yVDfq7UETEa",
    "outputId": "b0c648a0-247a-45ae-f2f0-9097025f58d0"
   },
   "outputs": [
    {
     "data": {
      "text/plain": [
       "array([0, 1, 2, 3, 4, 5, 6, 7, 8, 9], dtype=uint8)"
      ]
     },
     "execution_count": 35,
     "metadata": {
      "tags": []
     },
     "output_type": "execute_result"
    }
   ],
   "source": [
    "np.unique(train_y)"
   ]
  },
  {
   "cell_type": "markdown",
   "metadata": {
    "colab_type": "text",
    "id": "nUpEuBvrETEf"
   },
   "source": [
    "#### 4. Plot/Visualize the first image from the training dataset using matplotlib's imshow and display the class name below the image (2 Marks)"
   ]
  },
  {
   "cell_type": "code",
   "execution_count": 0,
   "metadata": {
    "colab": {},
    "colab_type": "code",
    "id": "F3LBuZT_ETEg"
   },
   "outputs": [],
   "source": [
    "import matplotlib.pyplot as plt"
   ]
  },
  {
   "cell_type": "code",
   "execution_count": 49,
   "metadata": {
    "colab": {
     "base_uri": "https://localhost:8080/",
     "height": 279
    },
    "colab_type": "code",
    "id": "k20ORCNFETEi",
    "outputId": "417150eb-2768-42f7-8f16-6eb5ee2c2269"
   },
   "outputs": [
    {
     "data": {
      "image/png": "[encoded data removed]",
      "text/plain": [
       "<Figure size 432x288 with 1 Axes>"
      ]
     },
     "metadata": {
      "tags": []
     },
     "output_type": "display_data"
    }
   ],
   "source": [
    "img_num = np.random.randint(0,test_x.shape[0])\n",
    "plt.imshow(test_x[img_num],cmap='gray')\n",
    "\n",
    "plt.xlabel(class_names[test_y[img_num]])\n",
    "plt.show()"
   ]
  },
  {
   "cell_type": "markdown",
   "metadata": {
    "colab_type": "text",
    "id": "no7aWYZyQlC1"
   },
   "source": [
    "#### 5. Change train and test labels into one-hot vectors (1 Mark)"
   ]
  },
  {
   "cell_type": "code",
   "execution_count": 0,
   "metadata": {
    "colab": {},
    "colab_type": "code",
    "id": "UX6otc4wQlC2"
   },
   "outputs": [],
   "source": [
    "train_y = tf.keras.utils.to_categorical(train_y)\n",
    "test_y = tf.keras.utils.to_categorical(test_y)"
   ]
  },
  {
   "cell_type": "markdown",
   "metadata": {
    "colab_type": "text",
    "id": "QjNrRTdoQlC5"
   },
   "source": [
    "### Build the Graph"
   ]
  },
  {
   "cell_type": "markdown",
   "metadata": {
    "colab_type": "text",
    "id": "CDJ9DHVNQlC7"
   },
   "source": [
    "#### 6.Initialize model, reshape & batch normalize data (1 Mark)"
   ]
  },
  {
   "cell_type": "code",
   "execution_count": 0,
   "metadata": {
    "colab": {},
    "colab_type": "code",
    "id": "pCDQs_g1QlC8"
   },
   "outputs": [],
   "source": [
    "tf.keras.backend.clear_session()\n",
    "#initialise the model\n",
    "model = tf.keras.models.Sequential()\n",
    "#reshape the input\n",
    "model.add(tf.keras.layers.Reshape((784,), input_shape = (28,28,)))\n",
    "#batch normalise the data\n",
    "model.add(tf.keras.layers.BatchNormalization())"
   ]
  },
  {
   "cell_type": "markdown",
   "metadata": {
    "colab_type": "text",
    "id": "kBGwTTilQlDD"
   },
   "source": [
    "#### 7(a). Add two fully connected layers with 200 and 100 neurons respectively with `relu` activations. (1 Mark)"
   ]
  },
  {
   "cell_type": "code",
   "execution_count": 0,
   "metadata": {
    "colab": {},
    "colab_type": "code",
    "id": "IXbfpfOzQlDF"
   },
   "outputs": [],
   "source": [
    "#adding 1st hidden layer\n",
    "model.add(tf.keras.layers.Dense(200, activation='relu'))\n",
    "#adding 2nd hidden layer\n",
    "model.add(tf.keras.layers.Dense(100, activation='relu'))"
   ]
  },
  {
   "cell_type": "markdown",
   "metadata": {
    "colab_type": "text",
    "id": "ewUVAhnDETEz"
   },
   "source": [
    "#### 7(b). Add a dropout layer with `p=0.25` (1 Mark)"
   ]
  },
  {
   "cell_type": "code",
   "execution_count": 0,
   "metadata": {
    "colab": {},
    "colab_type": "code",
    "id": "Ak-5B7SrETE0"
   },
   "outputs": [],
   "source": [
    "model.add(tf.keras.layers.Dropout(0.25))"
   ]
  },
  {
   "cell_type": "markdown",
   "metadata": {
    "colab_type": "text",
    "id": "9DEL39zPETE2"
   },
   "source": [
    "#### 8. Add the output layer with a fully connected layer with 10 neurons with `softmax` activation. (1 Mark)"
   ]
  },
  {
   "cell_type": "code",
   "execution_count": 0,
   "metadata": {
    "colab": {},
    "colab_type": "code",
    "id": "0ejQwEc2ETE3"
   },
   "outputs": [],
   "source": [
    "#Add OUTPUT layer\n",
    "model.add(tf.keras.layers.Dense(10, activation='softmax'))"
   ]
  },
  {
   "cell_type": "markdown",
   "metadata": {
    "colab_type": "text",
    "id": "5I8f5otcQlDJ"
   },
   "source": [
    "### Compile Model\n",
    "#### 9. Use `categorical_crossentropy` loss, `adam` optimizer, `accuracy` metric and compile the model. (1 Mark)"
   ]
  },
  {
   "cell_type": "code",
   "execution_count": 0,
   "metadata": {
    "colab": {},
    "colab_type": "code",
    "id": "E25kuP_NQlDM"
   },
   "outputs": [],
   "source": [
    "#compile the model\n",
    "model.compile(optimizer='adam', loss='categorical_crossentropy', metrics=['accuracy'])"
   ]
  },
  {
   "cell_type": "markdown",
   "metadata": {
    "colab_type": "text",
    "id": "C2W0ooEOETFA"
   },
   "source": [
    "### Model Training\n",
    "#### 10. Fit your model on train set, using validation_split=0.2, epochs=10 and batch_size=32 and assign it to a variable \"hist_model\" which can be used to plot loss and accuracy curves using saved history. (5 Marks)"
   ]
  },
  {
   "cell_type": "code",
   "execution_count": 63,
   "metadata": {
    "colab": {
     "base_uri": "https://localhost:8080/",
     "height": 390
    },
    "colab_type": "code",
    "id": "aScH4pKKETFB",
    "outputId": "2f86f886-f097-49b8-af24-5161f5b27864"
   },
   "outputs": [
    {
     "name": "stdout",
     "output_type": "stream",
     "text": [
      "Train on 48000 samples, validate on 12000 samples\n",
      "Epoch 1/10\n",
      "48000/48000 [==============================] - 8s 176us/sample - loss: 0.5288 - acc: 0.8111 - val_loss: 0.3896 - val_acc: 0.8542\n",
      "Epoch 2/10\n",
      "48000/48000 [==============================] - 8s 166us/sample - loss: 0.4064 - acc: 0.8522 - val_loss: 0.3619 - val_acc: 0.8679\n",
      "Epoch 3/10\n",
      "48000/48000 [==============================] - 9s 178us/sample - loss: 0.3673 - acc: 0.8648 - val_loss: 0.3566 - val_acc: 0.8730\n",
      "Epoch 4/10\n",
      "48000/48000 [==============================] - 8s 165us/sample - loss: 0.3421 - acc: 0.8736 - val_loss: 0.3350 - val_acc: 0.8788\n",
      "Epoch 5/10\n",
      "48000/48000 [==============================] - 8s 163us/sample - loss: 0.3235 - acc: 0.8788 - val_loss: 0.3377 - val_acc: 0.8786\n",
      "Epoch 6/10\n",
      "48000/48000 [==============================] - 8s 166us/sample - loss: 0.3077 - acc: 0.8860 - val_loss: 0.3397 - val_acc: 0.8803\n",
      "Epoch 7/10\n",
      "48000/48000 [==============================] - 8s 166us/sample - loss: 0.2899 - acc: 0.8917 - val_loss: 0.3588 - val_acc: 0.8747\n",
      "Epoch 8/10\n",
      "48000/48000 [==============================] - 8s 168us/sample - loss: 0.2771 - acc: 0.8972 - val_loss: 0.3277 - val_acc: 0.8846\n",
      "Epoch 9/10\n",
      "48000/48000 [==============================] - 8s 164us/sample - loss: 0.2682 - acc: 0.9003 - val_loss: 0.3255 - val_acc: 0.8879\n",
      "Epoch 10/10\n",
      "48000/48000 [==============================] - 8s 162us/sample - loss: 0.2524 - acc: 0.9039 - val_loss: 0.3274 - val_acc: 0.8880\n"
     ]
    }
   ],
   "source": [
    "hist_model = model.fit(train_x,train_y, validation_split=0.2, epochs=10, batch_size=32)"
   ]
  },
  {
   "cell_type": "markdown",
   "metadata": {
    "colab_type": "text",
    "id": "U1jyqJqXETFD"
   },
   "source": [
    "### Model Evaluation"
   ]
  },
  {
   "cell_type": "code",
   "execution_count": 0,
   "metadata": {
    "colab": {},
    "colab_type": "code",
    "id": "MmiUrGjAcjEE"
   },
   "outputs": [],
   "source": [
    "#### 11. Visualize/Plot loss curves for training data, val data and provide your inference (2 Marks)"
   ]
  },
  {
   "cell_type": "code",
   "execution_count": 74,
   "metadata": {
    "colab": {
     "base_uri": "https://localhost:8080/",
     "height": 295
    },
    "colab_type": "code",
    "id": "OHDlWPPsceKR",
    "outputId": "9d044dd8-f6bf-440f-db09-17b495250039"
   },
   "outputs": [
    {
     "data": {
      "image/png": "[encoded data removed]",
      "text/plain": [
       "<Figure size 432x288 with 1 Axes>"
      ]
     },
     "metadata": {
      "tags": []
     },
     "output_type": "display_data"
    }
   ],
   "source": [
    "# plot model loss\n",
    "  plt.plot(hist_model.history['loss'])\n",
    "  plt.plot(hist_model.history['val_loss'])\n",
    "  plt.title('Model Loss')\n",
    "  plt.ylabel('loss')\n",
    "  plt.xlabel('epoch')\n",
    "  plt.legend(['train', 'validation'], loc='upper left')\n",
    "  plt.show()"
   ]
  },
  {
   "cell_type": "markdown",
   "metadata": {
    "colab_type": "text",
    "id": "lsSYSy9yxnFH"
   },
   "source": [
    "the model loss for training data has decreased gradually and reached 0.2 where as loss for validation data is fluctuating and reached 0.3\n",
    "we can still try to decrease the loss using different optimizers."
   ]
  },
  {
   "cell_type": "markdown",
   "metadata": {
    "colab_type": "text",
    "id": "3swQFaTIETFG"
   },
   "source": [
    "#### 12. Visualize/Plot accuracy curves for training data, val data and provide your inference (2 Marks)"
   ]
  },
  {
   "cell_type": "code",
   "execution_count": 73,
   "metadata": {
    "colab": {
     "base_uri": "https://localhost:8080/",
     "height": 295
    },
    "colab_type": "code",
    "id": "FqrucS_kETFH",
    "outputId": "530f86bc-05f1-4008-950b-7579c40ffeca"
   },
   "outputs": [
    {
     "data": {
      "image/png": "[encoded data removed]",
      "text/plain": [
       "<Figure size 432x288 with 1 Axes>"
      ]
     },
     "metadata": {
      "tags": []
     },
     "output_type": "display_data"
    }
   ],
   "source": [
    "  # plot model accuracy\n",
    "  plt.plot(hist_model.history['acc'])\n",
    "  plt.plot(hist_model.history['val_acc'])\n",
    "  plt.title('Model Accuracy')\n",
    "  plt.ylabel('accuracy')\n",
    "  plt.xlabel('epoch')\n",
    "  plt.legend(['train', 'validation'], loc='upper left')\n",
    "  plt.show()"
   ]
  },
  {
   "cell_type": "markdown",
   "metadata": {
    "colab_type": "text",
    "id": "bElUQ5RJx5Oi"
   },
   "source": [
    "the accuracy of the model on train data is 90% and the accuracy on validation data is 88.8%. we can try to improve the model accuracy using different activation functions , optimizers, epochs, number of hidden layers, number of neurns"
   ]
  },
  {
   "cell_type": "code",
   "execution_count": 0,
   "metadata": {
    "colab": {},
    "colab_type": "code",
    "id": "xcrTglsQud1W"
   },
   "outputs": [],
   "source": [
    "#### 13. Evaluate the above model on test set and report test loss & accuracy (1 Mark)\n",
    "#### Hint: model.evaluate()"
   ]
  },
  {
   "cell_type": "code",
   "execution_count": 75,
   "metadata": {
    "colab": {
     "base_uri": "https://localhost:8080/",
     "height": 52
    },
    "colab_type": "code",
    "id": "j-reECNsETFN",
    "outputId": "10137732-227b-4ca4-d402-e37f3a888541"
   },
   "outputs": [
    {
     "name": "stdout",
     "output_type": "stream",
     "text": [
      "10000/10000 [==============================] - 1s 56us/sample - loss: 0.3538 - acc: 0.8834\n"
     ]
    },
    {
     "data": {
      "text/plain": [
       "[0.35376439908742907, 0.8834]"
      ]
     },
     "execution_count": 75,
     "metadata": {
      "tags": []
     },
     "output_type": "execute_result"
    }
   ],
   "source": [
    "model.evaluate(test_x, test_y, batch_size=32)"
   ]
  },
  {
   "cell_type": "markdown",
   "metadata": {
    "colab_type": "text",
    "id": "_PJKfewaykTv"
   },
   "source": [
    "the model accuracy on the test data is 88.3% and the loss is 0.3 . we can still try to imrove the accuracy using hyper parameters."
   ]
  },
  {
   "cell_type": "markdown",
   "metadata": {
    "colab_type": "text",
    "id": "MOPZpdMYETFQ"
   },
   "source": [
    "#### 14. Predict the labels for test set and store in a variable named \"predictions\" (1 Mark)\n",
    "\n",
    "#### Hint: model.predict()"
   ]
  },
  {
   "cell_type": "code",
   "execution_count": 0,
   "metadata": {
    "colab": {},
    "colab_type": "code",
    "id": "x5xrXxIXETFR"
   },
   "outputs": [],
   "source": [
    "predictions = model.predict(test_x, batch_size=32) "
   ]
  },
  {
   "cell_type": "markdown",
   "metadata": {
    "colab_type": "text",
    "id": "yFoFqOHPETFU"
   },
   "source": [
    "#### 15. Write a for loop to visualize, display actual label, predicted label along with class names for 0th, 100th and 200th images in test set.  \n",
    "#### (3 Marks)"
   ]
  },
  {
   "cell_type": "code",
   "execution_count": 106,
   "metadata": {
    "colab": {
     "base_uri": "https://localhost:8080/",
     "height": 856
    },
    "colab_type": "code",
    "id": "MHFRYRhwETFV",
    "outputId": "f6610ed4-9043-44cb-f202-f9b183dcf1f1"
   },
   "outputs": [
    {
     "data": {
      "image/png": "[encoded data removed]",
      "text/plain": [
       "<Figure size 432x288 with 1 Axes>"
      ]
     },
     "metadata": {
      "tags": []
     },
     "output_type": "display_data"
    },
    {
     "name": "stdout",
     "output_type": "stream",
     "text": [
      " "
     ]
    },
    {
     "data": {
      "image/png": "[encoded data removed]",
      "text/plain": [
       "<Figure size 432x288 with 1 Axes>"
      ]
     },
     "metadata": {
      "tags": []
     },
     "output_type": "display_data"
    },
    {
     "name": "stdout",
     "output_type": "stream",
     "text": [
      " "
     ]
    },
    {
     "data": {
      "image/png": "[encoded data removed]",
      "text/plain": [
       "<Figure size 432x288 with 1 Axes>"
      ]
     },
     "metadata": {
      "tags": []
     },
     "output_type": "display_data"
    },
    {
     "name": "stdout",
     "output_type": "stream",
     "text": [
      " "
     ]
    }
   ],
   "source": [
    "img_num = [0,100,200]\n",
    "for i in img_num:\n",
    "  plt.imshow(test_x[i],cmap='gray')\n",
    "  label = class_names[test_y[i].argmax()]+\", \" +class_names[predictions[i].argmax()]\n",
    "  plt.xlabel(label)\n",
    "  plt.show()"
   ]
  },
  {
   "cell_type": "code",
   "execution_count": 0,
   "metadata": {
    "colab": {},
    "colab_type": "code",
    "id": "9-V7_bnwe8VH"
   },
   "outputs": [],
   "source": []
  }
 ],
 "metadata": {
  "colab": {
   "collapsed_sections": [],
   "name": "R7_ExternalLab (2).ipynb",
   "provenance": []
  },
  "kernelspec": {
   "display_name": "Python 3",
   "language": "python",
   "name": "python3"
  },
  "language_info": {
   "codemirror_mode": {
    "name": "ipython",
    "version": 3
   },
   "file_extension": ".py",
   "mimetype": "text/x-python",
   "name": "python",
   "nbconvert_exporter": "python",
   "pygments_lexer": "ipython3",
   "version": "3.7.4"
  }
 },
 "nbformat": 4,
 "nbformat_minor": 1
}
