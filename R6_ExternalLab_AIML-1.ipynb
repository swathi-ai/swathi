{
 "cells": [
  {
   "cell_type": "markdown",
   "metadata": {
    "colab_type": "text",
    "id": "YYk8NG3yOIT9"
   },
   "source": [
    "### A MNIST-like fashion product database\n",
    "\n",
    "In this, we classify the images into respective classes given in the dataset. We use a Neural Net and a Deep Neural Net in Keras to solve this and check the accuracy scores."
   ]
  },
  {
   "cell_type": "markdown",
   "metadata": {
    "colab_type": "text",
    "id": "tFO6PuxzOIT_",
    "slideshow": {
     "slide_type": "slide"
    }
   },
   "source": [
    "### Load tensorflow"
   ]
  },
  {
   "cell_type": "code",
   "execution_count": 3,
   "metadata": {
    "colab": {},
    "colab_type": "code",
    "id": "efNjNImfOIUC"
   },
   "outputs": [],
   "source": [
    "import tensorflow as tf\n",
    "#tf.set_random_seed(42)"
   ]
  },
  {
   "cell_type": "code",
   "execution_count": 4,
   "metadata": {},
   "outputs": [],
   "source": [
    "import matplotlib.pyplot as plt"
   ]
  },
  {
   "cell_type": "code",
   "execution_count": 5,
   "metadata": {
    "colab": {},
    "colab_type": "code",
    "id": "l9C4aAIGOIUH",
    "outputId": "5ef9aff6-a7bd-4b26-cba6-8750955f6ca3"
   },
   "outputs": [
    {
     "data": {
      "text/plain": [
       "'2.0.0'"
      ]
     },
     "execution_count": 5,
     "metadata": {},
     "output_type": "execute_result"
    }
   ],
   "source": [
    "tf.__version__"
   ]
  },
  {
   "cell_type": "code",
   "execution_count": 6,
   "metadata": {},
   "outputs": [
    {
     "data": {
      "text/plain": [
       "'2.2.4-tf'"
      ]
     },
     "execution_count": 6,
     "metadata": {},
     "output_type": "execute_result"
    }
   ],
   "source": [
    "tf.keras.__version__"
   ]
  },
  {
   "cell_type": "markdown",
   "metadata": {
    "colab_type": "text",
    "id": "HcoZBStrOIUQ",
    "slideshow": {
     "slide_type": "slide"
    }
   },
   "source": [
    "### Collect Data"
   ]
  },
  {
   "cell_type": "code",
   "execution_count": 7,
   "metadata": {
    "colab": {},
    "colab_type": "code",
    "id": "qnbx7TyQOIUY"
   },
   "outputs": [],
   "source": [
    "(trainX, trainY), (testX, testY) = tf.keras.datasets.fashion_mnist.load_data()"
   ]
  },
  {
   "cell_type": "code",
   "execution_count": 8,
   "metadata": {
    "colab": {},
    "colab_type": "code",
    "id": "UbiHj5YPOIUc",
    "outputId": "87e1b9cd-07f0-45cb-e706-0d51ad742d72",
    "slideshow": {
     "slide_type": "fragment"
    }
   },
   "outputs": [
    {
     "name": "stdout",
     "output_type": "stream",
     "text": [
      "[9 2 1 1 6]\n"
     ]
    }
   ],
   "source": [
    "print(testY[0:5])"
   ]
  },
  {
   "cell_type": "code",
   "execution_count": 9,
   "metadata": {},
   "outputs": [
    {
     "data": {
      "text/plain": [
       "(60000, 28, 28)"
      ]
     },
     "execution_count": 9,
     "metadata": {},
     "output_type": "execute_result"
    }
   ],
   "source": [
    "trainX.shape"
   ]
  },
  {
   "cell_type": "markdown",
   "metadata": {
    "colab_type": "text",
    "id": "lDAYzkwyOIUj",
    "slideshow": {
     "slide_type": "slide"
    }
   },
   "source": [
    "### Convert both training and testing labels into one-hot vectors.\n",
    "\n",
    "**Hint:** check **tf.keras.utils.to_categorical()**"
   ]
  },
  {
   "cell_type": "code",
   "execution_count": 10,
   "metadata": {
    "colab": {},
    "colab_type": "code",
    "id": "vBlfYlANOIUk"
   },
   "outputs": [],
   "source": [
    "trainY =  tf.keras.utils.to_categorical(trainY)"
   ]
  },
  {
   "cell_type": "code",
   "execution_count": 11,
   "metadata": {
    "colab": {},
    "colab_type": "code",
    "id": "RHV3b9mzOIUq",
    "outputId": "27bdfe58-91ee-4677-fe49-e742ad306c70",
    "scrolled": true,
    "slideshow": {
     "slide_type": "fragment"
    }
   },
   "outputs": [
    {
     "name": "stdout",
     "output_type": "stream",
     "text": [
      "(60000, 10)\n",
      "First 5 examples now are:  [[0. 0. 0. 0. 0. 0. 0. 0. 0. 1.]\n",
      " [1. 0. 0. 0. 0. 0. 0. 0. 0. 0.]\n",
      " [1. 0. 0. 0. 0. 0. 0. 0. 0. 0.]\n",
      " [0. 0. 0. 1. 0. 0. 0. 0. 0. 0.]\n",
      " [1. 0. 0. 0. 0. 0. 0. 0. 0. 0.]]\n"
     ]
    }
   ],
   "source": [
    "print(trainY.shape)\n",
    "print('First 5 examples now are: ', trainY[0:5])"
   ]
  },
  {
   "cell_type": "code",
   "execution_count": 12,
   "metadata": {},
   "outputs": [],
   "source": [
    "testY =  tf.keras.utils.to_categorical(testY)"
   ]
  },
  {
   "cell_type": "code",
   "execution_count": 13,
   "metadata": {},
   "outputs": [
    {
     "name": "stdout",
     "output_type": "stream",
     "text": [
      "(10000, 10)\n",
      "First 5 examples now are:  [[0. 0. 0. 0. 0. 0. 0. 0. 0. 1.]\n",
      " [0. 0. 1. 0. 0. 0. 0. 0. 0. 0.]\n",
      " [0. 1. 0. 0. 0. 0. 0. 0. 0. 0.]\n",
      " [0. 1. 0. 0. 0. 0. 0. 0. 0. 0.]\n",
      " [0. 0. 0. 0. 0. 0. 1. 0. 0. 0.]]\n"
     ]
    }
   ],
   "source": [
    "print(testY.shape)\n",
    "print('First 5 examples now are: ', testY[0:5])"
   ]
  },
  {
   "cell_type": "markdown",
   "metadata": {
    "colab_type": "text",
    "id": "FwhQ8e7VOIUw"
   },
   "source": [
    "### Visualize the data\n",
    "\n",
    "Plot first 10 images in the triaining set and their labels."
   ]
  },
  {
   "cell_type": "code",
   "execution_count": 14,
   "metadata": {
    "colab": {},
    "colab_type": "code",
    "id": "AvDML2OoOIUx",
    "outputId": "9dafc94e-61a8-4089-be03-d143163d68aa"
   },
   "outputs": [
    {
     "name": "stderr",
     "output_type": "stream",
     "text": [
      "C:\\Users\\swathi\\Anaconda3\\lib\\site-packages\\matplotlib\\text.py:1150: FutureWarning: elementwise comparison failed; returning scalar instead, but in the future will perform elementwise comparison\n",
      "  if s != self._text:\n"
     ]
    },
    {
     "data": {
      "image/png": "[encoded data removed]",
      "text/plain": [
       "<Figure size 1080x1080 with 10 Axes>"
      ]
     },
     "metadata": {},
     "output_type": "display_data"
    }
   ],
   "source": [
    "plt.figure(figsize=(15,15))\n",
    "for i in range(10):\n",
    "    plt.subplot(5,5,i+1)\n",
    "    plt.xticks([])\n",
    "    plt.yticks([])\n",
    "    plt.grid(False)\n",
    "    plt.imshow(trainX[i], cmap=plt.cm.binary)\n",
    "    plt.xlabel(trainY[i])\n",
    "plt.show()\n",
    "    \n",
    "    "
   ]
  },
  {
   "cell_type": "markdown",
   "metadata": {
    "colab_type": "text",
    "id": "l4TbJGeSOIU4",
    "slideshow": {
     "slide_type": "slide"
    }
   },
   "source": [
    "# Build a neural Network with a cross entropy loss function and sgd optimizer in Keras. The output layer with 10 neurons as we have 10 classes."
   ]
  },
  {
   "cell_type": "code",
   "execution_count": 15,
   "metadata": {
    "colab": {},
    "colab_type": "code",
    "id": "Ac06XZZTOIU6"
   },
   "outputs": [],
   "source": [
    "tf.keras.backend.clear_session()\n",
    "\n",
    "model = tf.keras.models.Sequential()\n",
    "\n",
    "model.add(tf.keras.layers.Reshape((784,), input_shape=(28, 28, )))\n",
    "\n",
    "# Adding first hidden layer\n",
    "model.add(tf.keras.layers.Dense(784, activation = 'sigmoid'))\n",
    "\n",
    "# Adding output layer\n",
    "model.add(tf.keras.layers.Dense(10, activation = 'softmax'))\n"
   ]
  },
  {
   "cell_type": "code",
   "execution_count": 16,
   "metadata": {},
   "outputs": [],
   "source": [
    "model.compile(optimizer='sgd', loss='categorical_crossentropy', metrics=['accuracy'])"
   ]
  },
  {
   "cell_type": "markdown",
   "metadata": {
    "colab_type": "text",
    "id": "3hQpLv3aOIU_",
    "slideshow": {
     "slide_type": "slide"
    }
   },
   "source": [
    "### Execute the model using model.fit()"
   ]
  },
  {
   "cell_type": "code",
   "execution_count": 17,
   "metadata": {
    "colab": {},
    "colab_type": "code",
    "id": "O59C_-IgOIVB"
   },
   "outputs": [
    {
     "name": "stdout",
     "output_type": "stream",
     "text": [
      "Train on 60000 samples, validate on 10000 samples\n",
      "Epoch 1/10\n",
      "60000/60000 [==============================] - 15s 245us/sample - loss: 0.6742 - accuracy: 0.7661 - val_loss: 0.6124 - val_accuracy: 0.7777\n",
      "Epoch 2/10\n",
      "60000/60000 [==============================] - 14s 230us/sample - loss: 0.5786 - accuracy: 0.7944 - val_loss: 0.5845 - val_accuracy: 0.7911\n",
      "Epoch 3/10\n",
      "60000/60000 [==============================] - 14s 230us/sample - loss: 0.5553 - accuracy: 0.8035 - val_loss: 0.5920 - val_accuracy: 0.7953\n",
      "Epoch 4/10\n",
      "60000/60000 [==============================] - 13s 223us/sample - loss: 0.5425 - accuracy: 0.8064 - val_loss: 0.5644 - val_accuracy: 0.8009\n",
      "Epoch 5/10\n",
      "60000/60000 [==============================] - 15s 244us/sample - loss: 0.5442 - accuracy: 0.8086 - val_loss: 0.5607 - val_accuracy: 0.8056\n",
      "Epoch 6/10\n",
      "60000/60000 [==============================] - 15s 243us/sample - loss: 0.5403 - accuracy: 0.8067 - val_loss: 0.5720 - val_accuracy: 0.7876\n",
      "Epoch 7/10\n",
      "60000/60000 [==============================] - 14s 232us/sample - loss: 0.5363 - accuracy: 0.8074 - val_loss: 0.5964 - val_accuracy: 0.7806\n",
      "Epoch 8/10\n",
      "60000/60000 [==============================] - 14s 228us/sample - loss: 0.5301 - accuracy: 0.8109 - val_loss: 0.5518 - val_accuracy: 0.8054\n",
      "Epoch 9/10\n",
      "60000/60000 [==============================] - 13s 222us/sample - loss: 0.5285 - accuracy: 0.8115 - val_loss: 0.5530 - val_accuracy: 0.7987\n",
      "Epoch 10/10\n",
      "60000/60000 [==============================] - 13s 218us/sample - loss: 0.5279 - accuracy: 0.8118 - val_loss: 0.5503 - val_accuracy: 0.8082\n"
     ]
    },
    {
     "data": {
      "text/plain": [
       "<tensorflow.python.keras.callbacks.History at 0x18ddeeb5940>"
      ]
     },
     "execution_count": 17,
     "metadata": {},
     "output_type": "execute_result"
    }
   ],
   "source": [
    "model.fit(trainX, trainY, validation_data=(testX, testY), epochs=10)"
   ]
  },
  {
   "cell_type": "markdown",
   "metadata": {
    "colab_type": "text",
    "id": "JdzDtGwDOIVF",
    "slideshow": {
     "slide_type": "slide"
    }
   },
   "source": [
    "### In the above Neural Network model add Batch Normalization layer after the input layer and repeat the steps."
   ]
  },
  {
   "cell_type": "code",
   "execution_count": 18,
   "metadata": {
    "colab": {},
    "colab_type": "code",
    "id": "kndfpdidOIVI"
   },
   "outputs": [],
   "source": [
    "tf.keras.backend.clear_session()\n",
    "\n",
    "model = tf.keras.models.Sequential()\n",
    "\n",
    "model.add(tf.keras.layers.Reshape((784,), input_shape=(28, 28, )))\n",
    "\n",
    "model.add(tf.keras.layers.BatchNormalization())\n",
    "\n",
    "# Adding first hidden layer\n",
    "model.add(tf.keras.layers.Dense(784, activation = 'sigmoid'))\n",
    "\n",
    "# Adding output layer\n",
    "model.add(tf.keras.layers.Dense(10, activation = 'softmax'))\n"
   ]
  },
  {
   "cell_type": "code",
   "execution_count": 19,
   "metadata": {},
   "outputs": [],
   "source": [
    "model.compile(optimizer='sgd', loss='categorical_crossentropy', metrics=['accuracy'])"
   ]
  },
  {
   "cell_type": "markdown",
   "metadata": {
    "colab_type": "text",
    "id": "mwk3T5LJOIVN",
    "slideshow": {
     "slide_type": "slide"
    }
   },
   "source": [
    "### Execute the model"
   ]
  },
  {
   "cell_type": "code",
   "execution_count": 20,
   "metadata": {
    "colab": {},
    "colab_type": "code",
    "id": "JNLR8tcBOIVP"
   },
   "outputs": [
    {
     "name": "stdout",
     "output_type": "stream",
     "text": [
      "Train on 60000 samples, validate on 10000 samples\n",
      "Epoch 1/10\n",
      "60000/60000 [==============================] - 23s 381us/sample - loss: 0.7314 - accuracy: 0.7607 - val_loss: 0.5601 - val_accuracy: 0.8024\n",
      "Epoch 2/10\n",
      "60000/60000 [==============================] - 20s 329us/sample - loss: 0.5305 - accuracy: 0.8160 - val_loss: 0.5057 - val_accuracy: 0.8172\n",
      "Epoch 3/10\n",
      "60000/60000 [==============================] - 25s 420us/sample - loss: 0.4926 - accuracy: 0.8290 - val_loss: 0.4857 - val_accuracy: 0.8269\n",
      "Epoch 4/10\n",
      "60000/60000 [==============================] - 29s 490us/sample - loss: 0.4717 - accuracy: 0.8339 - val_loss: 0.4634 - val_accuracy: 0.8351\n",
      "Epoch 5/10\n",
      "60000/60000 [==============================] - 28s 467us/sample - loss: 0.4559 - accuracy: 0.8406 - val_loss: 0.4595 - val_accuracy: 0.8339\n",
      "Epoch 6/10\n",
      "60000/60000 [==============================] - 24s 400us/sample - loss: 0.4454 - accuracy: 0.8433 - val_loss: 0.4461 - val_accuracy: 0.8380\n",
      "Epoch 7/10\n",
      "60000/60000 [==============================] - 27s 446us/sample - loss: 0.4367 - accuracy: 0.8463 - val_loss: 0.4440 - val_accuracy: 0.8405\n",
      "Epoch 8/10\n",
      "60000/60000 [==============================] - 21s 349us/sample - loss: 0.4310 - accuracy: 0.8488 - val_loss: 0.4331 - val_accuracy: 0.8419\n",
      "Epoch 9/10\n",
      "60000/60000 [==============================] - 24s 394us/sample - loss: 0.4213 - accuracy: 0.8510 - val_loss: 0.4406 - val_accuracy: 0.8424\n",
      "Epoch 10/10\n",
      "60000/60000 [==============================] - 23s 389us/sample - loss: 0.4168 - accuracy: 0.8534 - val_loss: 0.4318 - val_accuracy: 0.8444\n"
     ]
    },
    {
     "data": {
      "text/plain": [
       "<tensorflow.python.keras.callbacks.History at 0x18de2c19518>"
      ]
     },
     "execution_count": 20,
     "metadata": {},
     "output_type": "execute_result"
    }
   ],
   "source": [
    "model.fit(trainX, trainY, validation_data=(testX, testY), epochs=10)"
   ]
  },
  {
   "cell_type": "markdown",
   "metadata": {
    "colab_type": "text",
    "id": "Py-KwkmjOIVU"
   },
   "source": [
    "### Customize the learning rate to 0.001 in sgd optimizer and run the model"
   ]
  },
  {
   "cell_type": "code",
   "execution_count": 21,
   "metadata": {
    "colab": {},
    "colab_type": "code",
    "id": "yLXUE9jWOIVV"
   },
   "outputs": [],
   "source": [
    "sgd = tf.keras.optimizers.SGD(lr = 0.001)\n",
    "model.compile(optimizer='sgd', loss='categorical_crossentropy', metrics=['accuracy'])"
   ]
  },
  {
   "cell_type": "code",
   "execution_count": 22,
   "metadata": {
    "colab": {},
    "colab_type": "code",
    "id": "pJUqA5T4OIVc"
   },
   "outputs": [
    {
     "name": "stdout",
     "output_type": "stream",
     "text": [
      "Train on 60000 samples, validate on 10000 samples\n",
      "Epoch 1/10\n",
      "60000/60000 [==============================] - 22s 360us/sample - loss: 0.4107 - accuracy: 0.8544 - val_loss: 0.4213 - val_accuracy: 0.8465\n",
      "Epoch 2/10\n",
      "60000/60000 [==============================] - 23s 389us/sample - loss: 0.4051 - accuracy: 0.8576 - val_loss: 0.4215 - val_accuracy: 0.8492\n",
      "Epoch 3/10\n",
      "60000/60000 [==============================] - 24s 402us/sample - loss: 0.3993 - accuracy: 0.8586 - val_loss: 0.4135 - val_accuracy: 0.8502\n",
      "Epoch 4/10\n",
      "60000/60000 [==============================] - 22s 369us/sample - loss: 0.3976 - accuracy: 0.8599 - val_loss: 0.4112 - val_accuracy: 0.8506\n",
      "Epoch 5/10\n",
      "60000/60000 [==============================] - 22s 361us/sample - loss: 0.3908 - accuracy: 0.8620 - val_loss: 0.4117 - val_accuracy: 0.8518\n",
      "Epoch 6/10\n",
      "60000/60000 [==============================] - 21s 346us/sample - loss: 0.3869 - accuracy: 0.8632 - val_loss: 0.4059 - val_accuracy: 0.8514\n",
      "Epoch 7/10\n",
      "60000/60000 [==============================] - 21s 343us/sample - loss: 0.3840 - accuracy: 0.8639 - val_loss: 0.4053 - val_accuracy: 0.8541\n",
      "Epoch 8/10\n",
      "60000/60000 [==============================] - 23s 377us/sample - loss: 0.3813 - accuracy: 0.8653 - val_loss: 0.3991 - val_accuracy: 0.8565\n",
      "Epoch 9/10\n",
      "60000/60000 [==============================] - 24s 405us/sample - loss: 0.3741 - accuracy: 0.8668 - val_loss: 0.4020 - val_accuracy: 0.8542\n",
      "Epoch 10/10\n",
      "60000/60000 [==============================] - 23s 380us/sample - loss: 0.3692 - accuracy: 0.8684 - val_loss: 0.3961 - val_accuracy: 0.8569\n"
     ]
    },
    {
     "data": {
      "text/plain": [
       "<tensorflow.python.keras.callbacks.History at 0x18de31024e0>"
      ]
     },
     "execution_count": 22,
     "metadata": {},
     "output_type": "execute_result"
    }
   ],
   "source": [
    "model.fit(trainX, trainY, validation_data=(testX, testY), epochs=10)"
   ]
  },
  {
   "cell_type": "markdown",
   "metadata": {
    "colab_type": "text",
    "id": "j9CSqKvpOIVk",
    "slideshow": {
     "slide_type": "slide"
    }
   },
   "source": [
    "### Build the Neural Network model with 3 Dense layers with 100,100,10 neurons respectively in each layer. Use cross entropy loss function and singmoid as activation in the hidden layers and softmax as activation function in the output layer. Use sgd optimizer with learning rate 0.03."
   ]
  },
  {
   "cell_type": "code",
   "execution_count": 23,
   "metadata": {
    "colab": {},
    "colab_type": "code",
    "id": "GGAad54JOIVm"
   },
   "outputs": [],
   "source": [
    "tf.keras.backend.clear_session()\n",
    "\n",
    "model = tf.keras.models.Sequential()\n",
    "\n",
    "model.add(tf.keras.layers.Reshape((784, ), input_shape = (28, 28, )))\n",
    "\n",
    "model.add(tf.keras.layers.BatchNormalization())\n",
    "\n",
    "sgd = tf.keras.optimizers.SGD(lr = 0.03)\n",
    "\n",
    "#Adding first hidden layer\n",
    "model.add(tf.keras.layers.Dense(100, activation='sigmoid'))\n",
    "\n",
    "#Adding second hidden layer\n",
    "model.add(tf.keras.layers.Dense(100, activation='sigmoid'))\n",
    "\n",
    "#Adding output layer\n",
    "model.add(tf.keras.layers.Dense(10, activation='softmax'))"
   ]
  },
  {
   "cell_type": "code",
   "execution_count": 24,
   "metadata": {
    "colab": {},
    "colab_type": "code",
    "id": "MQ7oIymROIVp"
   },
   "outputs": [],
   "source": [
    "model.compile(optimizer='sgd', loss='categorical_crossentropy', metrics=['accuracy'])"
   ]
  },
  {
   "cell_type": "markdown",
   "metadata": {
    "colab_type": "text",
    "id": "Nr2YsZV0OIV0",
    "slideshow": {
     "slide_type": "slide"
    }
   },
   "source": [
    "## Review model"
   ]
  },
  {
   "cell_type": "code",
   "execution_count": 25,
   "metadata": {
    "colab": {},
    "colab_type": "code",
    "id": "h4ojW6-oOIV2"
   },
   "outputs": [
    {
     "name": "stdout",
     "output_type": "stream",
     "text": [
      "Model: \"sequential\"\n",
      "_________________________________________________________________\n",
      "Layer (type)                 Output Shape              Param #   \n",
      "=================================================================\n",
      "reshape (Reshape)            (None, 784)               0         \n",
      "_________________________________________________________________\n",
      "batch_normalization (BatchNo (None, 784)               3136      \n",
      "_________________________________________________________________\n",
      "dense (Dense)                (None, 100)               78500     \n",
      "_________________________________________________________________\n",
      "dense_1 (Dense)              (None, 100)               10100     \n",
      "_________________________________________________________________\n",
      "dense_2 (Dense)              (None, 10)                1010      \n",
      "=================================================================\n",
      "Total params: 92,746\n",
      "Trainable params: 91,178\n",
      "Non-trainable params: 1,568\n",
      "_________________________________________________________________\n"
     ]
    }
   ],
   "source": [
    "model.summary()"
   ]
  },
  {
   "cell_type": "markdown",
   "metadata": {
    "colab_type": "text",
    "id": "gfFGmbZLOIV5",
    "slideshow": {
     "slide_type": "slide"
    }
   },
   "source": [
    "### Run the model"
   ]
  },
  {
   "cell_type": "code",
   "execution_count": 26,
   "metadata": {
    "colab": {},
    "colab_type": "code",
    "id": "bIkbMEN5OIV7"
   },
   "outputs": [
    {
     "name": "stdout",
     "output_type": "stream",
     "text": [
      "Train on 60000 samples, validate on 10000 samples\n",
      "Epoch 1/10\n",
      "60000/60000 [==============================] - 7s 120us/sample - loss: 1.5641 - accuracy: 0.5780 - val_loss: 1.0660 - val_accuracy: 0.6901\n",
      "Epoch 2/10\n",
      "60000/60000 [==============================] - 6s 96us/sample - loss: 0.9058 - accuracy: 0.7242 - val_loss: 0.7646 - val_accuracy: 0.7459\n",
      "Epoch 3/10\n",
      "60000/60000 [==============================] - 6s 92us/sample - loss: 0.7113 - accuracy: 0.7571 - val_loss: 0.6465 - val_accuracy: 0.7721\n",
      "Epoch 4/10\n",
      "60000/60000 [==============================] - 5s 91us/sample - loss: 0.6242 - accuracy: 0.7800 - val_loss: 0.5853 - val_accuracy: 0.7860\n",
      "Epoch 5/10\n",
      "60000/60000 [==============================] - 6s 96us/sample - loss: 0.5705 - accuracy: 0.7975 - val_loss: 0.5419 - val_accuracy: 0.8048\n",
      "Epoch 6/10\n",
      "60000/60000 [==============================] - 6s 93us/sample - loss: 0.5333 - accuracy: 0.8116 - val_loss: 0.5140 - val_accuracy: 0.8168\n",
      "Epoch 7/10\n",
      "60000/60000 [==============================] - 6s 93us/sample - loss: 0.5080 - accuracy: 0.8207 - val_loss: 0.4959 - val_accuracy: 0.8222\n",
      "Epoch 8/10\n",
      "60000/60000 [==============================] - 6s 97us/sample - loss: 0.4878 - accuracy: 0.8278 - val_loss: 0.4789 - val_accuracy: 0.8285\n",
      "Epoch 9/10\n",
      "60000/60000 [==============================] - 6s 92us/sample - loss: 0.4735 - accuracy: 0.8325 - val_loss: 0.4677 - val_accuracy: 0.8315\n",
      "Epoch 10/10\n",
      "60000/60000 [==============================] - 6s 95us/sample - loss: 0.4616 - accuracy: 0.8362 - val_loss: 0.4563 - val_accuracy: 0.8368\n"
     ]
    },
    {
     "data": {
      "text/plain": [
       "<tensorflow.python.keras.callbacks.History at 0x18ddfbefcc0>"
      ]
     },
     "execution_count": 26,
     "metadata": {},
     "output_type": "execute_result"
    }
   ],
   "source": [
    "model.fit(trainX, trainY, validation_data=(testX, testY), epochs=10)"
   ]
  },
  {
   "cell_type": "raw",
   "metadata": {},
   "source": [
    "Learning rate of 0.001 has improved the accuracy of the model than the learning rate of 0.03 "
   ]
  },
  {
   "cell_type": "code",
   "execution_count": null,
   "metadata": {},
   "outputs": [],
   "source": []
  }
 ],
 "metadata": {
  "colab": {
   "name": "R6_ExternalLab_AIML.ipynb",
   "provenance": [],
   "version": "0.3.2"
  },
  "kernelspec": {
   "display_name": "Python 3",
   "language": "python",
   "name": "python3"
  },
  "language_info": {
   "codemirror_mode": {
    "name": "ipython",
    "version": 3
   },
   "file_extension": ".py",
   "mimetype": "text/x-python",
   "name": "python",
   "nbconvert_exporter": "python",
   "pygments_lexer": "ipython3",
   "version": "3.7.3"
  }
 },
 "nbformat": 4,
 "nbformat_minor": 1
}
