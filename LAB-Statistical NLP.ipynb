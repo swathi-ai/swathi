{
 "cells": [
  {
   "cell_type": "markdown",
   "metadata": {
    "colab_type": "text",
    "id": "0zDuRecXzEtr"
   },
   "source": [
    "# Text classification using TF-IDF"
   ]
  },
  {
   "cell_type": "markdown",
   "metadata": {
    "colab_type": "text",
    "id": "xMPlEJhHzb6P"
   },
   "source": [
    "### 1. Load the dataset from sklearn.datasets"
   ]
  },
  {
   "cell_type": "code",
   "execution_count": 1,
   "metadata": {
    "colab": {},
    "colab_type": "code",
    "id": "Fe-B59u3zHNb"
   },
   "outputs": [],
   "source": [
    "from sklearn.datasets import fetch_20newsgroups"
   ]
  },
  {
   "cell_type": "code",
   "execution_count": 2,
   "metadata": {
    "colab": {},
    "colab_type": "code",
    "id": "PRrMemVQzbHU"
   },
   "outputs": [],
   "source": [
    "categories = ['alt.atheism', 'soc.religion.christian', 'comp.graphics', 'sci.med']"
   ]
  },
  {
   "cell_type": "markdown",
   "metadata": {
    "colab_type": "text",
    "id": "-sZX0UbJzmg5"
   },
   "source": [
    "### 2. Training data"
   ]
  },
  {
   "cell_type": "code",
   "execution_count": 3,
   "metadata": {
    "colab": {},
    "colab_type": "code",
    "id": "CITr_5aXziJ2"
   },
   "outputs": [],
   "source": [
    "twenty_train = fetch_20newsgroups(subset='train', categories=categories, shuffle=True, random_state=42)"
   ]
  },
  {
   "cell_type": "code",
   "execution_count": 18,
   "metadata": {},
   "outputs": [],
   "source": [
    "train_features = twenty_train.data"
   ]
  },
  {
   "cell_type": "markdown",
   "metadata": {
    "colab_type": "text",
    "id": "xcESc5QXzr6p"
   },
   "source": [
    "### 3. Test data"
   ]
  },
  {
   "cell_type": "code",
   "execution_count": 4,
   "metadata": {
    "colab": {},
    "colab_type": "code",
    "id": "ysInblUMzpvl"
   },
   "outputs": [],
   "source": [
    "twenty_test = fetch_20newsgroups(subset='test', categories=categories, shuffle=True, random_state=42)"
   ]
  },
  {
   "cell_type": "code",
   "execution_count": 19,
   "metadata": {},
   "outputs": [],
   "source": [
    "test_features = twenty_test.data"
   ]
  },
  {
   "cell_type": "markdown",
   "metadata": {
    "colab_type": "text",
    "id": "DriL2yZ50DQq"
   },
   "source": [
    "###  a.  You can access the values for the target variable using .target attribute "
   ]
  },
  {
   "cell_type": "code",
   "execution_count": 22,
   "metadata": {
    "colab": {},
    "colab_type": "code",
    "id": "vlUuai99z1hX"
   },
   "outputs": [
    {
     "data": {
      "text/plain": [
       "array([1, 1, 3, ..., 2, 2, 2], dtype=int64)"
      ]
     },
     "execution_count": 22,
     "metadata": {},
     "output_type": "execute_result"
    }
   ],
   "source": [
    "train_target = twenty_train.target\n",
    "train_target"
   ]
  },
  {
   "cell_type": "code",
   "execution_count": 23,
   "metadata": {},
   "outputs": [
    {
     "data": {
      "text/plain": [
       "array([2, 2, 2, ..., 2, 2, 1], dtype=int64)"
      ]
     },
     "execution_count": 23,
     "metadata": {},
     "output_type": "execute_result"
    }
   ],
   "source": [
    "test_target = twenty_test.target\n",
    "test_target"
   ]
  },
  {
   "cell_type": "markdown",
   "metadata": {},
   "source": [
    "###  b. You can access the name of the class in the target variable with .target_names"
   ]
  },
  {
   "cell_type": "code",
   "execution_count": 6,
   "metadata": {
    "colab": {},
    "colab_type": "code",
    "id": "VEKzaDfSz5E-"
   },
   "outputs": [
    {
     "data": {
      "text/plain": [
       "['alt.atheism', 'comp.graphics', 'sci.med', 'soc.religion.christian']"
      ]
     },
     "execution_count": 6,
     "metadata": {},
     "output_type": "execute_result"
    }
   ],
   "source": [
    "twenty_train.target_names"
   ]
  },
  {
   "cell_type": "code",
   "execution_count": 7,
   "metadata": {
    "colab": {},
    "colab_type": "code",
    "id": "clBMKHzC0_N1"
   },
   "outputs": [
    {
     "data": {
      "text/plain": [
       "['From: sd345@city.ac.uk (Michael Collier)\\nSubject: Converting images to HP LaserJet III?\\nNntp-Posting-Host: hampton\\nOrganization: The City University\\nLines: 14\\n\\nDoes anyone know of a good way (standard PC application/PD utility) to\\nconvert tif/img/tga files into LaserJet III format.  We would also like to\\ndo the same, converting to HPGL (HP plotter) files.\\n\\nPlease email any response.\\n\\nIs this the correct group?\\n\\nThanks in advance.  Michael.\\n-- \\nMichael Collier (Programmer)                 The Computer Unit,\\nEmail: M.P.Collier@uk.ac.city                The City University,\\nTel: 071 477-8000 x3769                      London,\\nFax: 071 477-8565                            EC1V 0HB.\\n',\n",
       " \"From: ani@ms.uky.edu (Aniruddha B. Deglurkar)\\nSubject: help: Splitting a trimming region along a mesh \\nOrganization: University Of Kentucky, Dept. of Math Sciences\\nLines: 28\\n\\n\\n\\n\\tHi,\\n\\n\\tI have a problem, I hope some of the 'gurus' can help me solve.\\n\\n\\tBackground of the problem:\\n\\tI have a rectangular mesh in the uv domain, i.e  the mesh is a \\n\\tmapping of a 3d Bezier patch into 2d. The area in this domain\\n\\twhich is inside a trimming loop had to be rendered. The trimming\\n\\tloop is a set of 2d Bezier curve segments.\\n\\tFor the sake of notation: the mesh is made up of cells.\\n\\n\\tMy problem is this :\\n\\tThe trimming area has to be split up into individual smaller\\n\\tcells bounded by the trimming curve segments. If a cell\\n\\tis wholly inside the area...then it is output as a whole ,\\n\\telse it is trivially rejected. \\n\\n\\tDoes any body know how thiss can be done, or is there any algo. \\n\\tsomewhere for doing this.\\n\\n\\tAny help would be appreciated.\\n\\n\\tThanks, \\n\\tAni.\\n-- \\nTo get irritated is human, to stay cool, divine.\\n\",\n",
       " \"From: djohnson@cs.ucsd.edu (Darin Johnson)\\nSubject: Re: harrassed at work, could use some prayers\\nOrganization: =CSE Dept., U.C. San Diego\\nLines: 63\\n\\n(Well, I'll email also, but this may apply to other people, so\\nI'll post also.)\\n\\n>I've been working at this company for eight years in various\\n>engineering jobs.  I'm female.  Yesterday I counted and realized that\\n>on seven different occasions I've been sexually harrassed at this\\n>company.\\n\\n>I dreaded coming back to work today.  What if my boss comes in to ask\\n>me some kind of question...\\n\\nYour boss should be the person bring these problems to.  If he/she\\ndoes not seem to take any action, keep going up higher and higher.\\nSexual harrassment does not need to be tolerated, and it can be an\\nenormous emotional support to discuss this with someone and know that\\nthey are trying to do something about it.  If you feel you can not\\ndiscuss this with your boss, perhaps your company has a personnel\\ndepartment that can work for you while preserving your privacy.  Most\\ncompanies will want to deal with this problem because constant anxiety\\ndoes seriously affect how effectively employees do their jobs.\\n\\nIt is unclear from your letter if you have done this or not.  It is\\nnot inconceivable that management remains ignorant of employee\\nproblems/strife even after eight years (it's a miracle if they do\\nnotice).  Perhaps your manager did not bring to the attention of\\nhigher ups?  If the company indeed does seem to want to ignore the\\nentire problem, there may be a state agency willing to fight with\\nyou.  (check with a lawyer, a women's resource center, etc to find out)\\n\\nYou may also want to discuss this with your paster, priest, husband,\\netc.  That is, someone you know will not be judgemental and that is\\nsupportive, comforting, etc.  This will bring a lot of healing.\\n\\n>So I returned at 11:25, only to find that ever single\\n>person had already left for lunch.  They left at 11:15 or so.  No one\\n>could be bothered to call me at the other building, even though my\\n>number was posted.\\n\\nThis happens to a lot of people.  Honest.  I believe it may seem\\nto be due to gross insensitivity because of the feelings you are\\ngoing through.  People in offices tend to be more insensitive while\\nworking than they normally are (maybe it's the hustle or stress or...)\\nI've had this happen to me a lot, often because they didn't realize\\nmy car was broken, etc.  Then they will come back and wonder why I\\ndidn't want to go (this would tend to make me stop being angry at\\nbeing ignored and make me laugh).  Once, we went off without our\\nboss, who was paying for the lunch :-)\\n\\n>For this\\n>reason I hope good Mr. Moderator allows me this latest indulgence.\\n\\nWell, if you can't turn to the computer for support, what would\\nwe do?  (signs of the computer age :-)\\n\\nIn closing, please don't let the hateful actions of a single person\\nharm you.  They are doing it because they are still the playground\\nbully and enjoy seeing the hurt they cause.  And you should not\\naccept the opinions of an imbecile that you are worthless - much\\nwiser people hold you in great esteem.\\n-- \\nDarin Johnson\\ndjohnson@ucsd.edu\\n  - Luxury!  In MY day, we had to make do with 5 bytes of swap...\\n\",\n",
       " 'From: s0612596@let.rug.nl (M.M. Zwart)\\nSubject: catholic church poland\\nOrganization: Faculteit der Letteren, Rijksuniversiteit Groningen, NL\\nLines: 10\\n\\nHello,\\n\\nI\\'m writing a paper on the role of the catholic church in Poland after 1989. \\nCan anyone tell me more about this, or fill me in on recent books/articles(\\nin english, german or french). Most important for me is the role of the \\nchurch concerning the abortion-law, religious education at schools,\\nbirth-control and the relation church-state(government). Thanx,\\n\\n                                                 Masja,\\n\"M.M.Zwart\"<s0612596@let.rug.nl>\\n',\n",
       " 'From: stanly@grok11.columbiasc.ncr.com (stanly)\\nSubject: Re: Elder Brother\\nOrganization: NCR Corp., Columbia SC\\nLines: 15\\n\\nIn article <Apr.8.00.57.41.1993.28246@athos.rutgers.edu> REXLEX@fnal.gov writes:\\n>In article <Apr.7.01.56.56.1993.22824@athos.rutgers.edu> shrum@hpfcso.fc.hp.com\\n>Matt. 22:9-14 \\'Go therefore to the main highways, and as many as you find\\n>there, invite to the wedding feast.\\'...\\n\\n>hmmmmmm.  Sounds like your theology and Christ\\'s are at odds. Which one am I \\n>to believe?\\n\\nIn this parable, Jesus tells the parable of the wedding feast. \"The kingdom\\nof heaven is like unto a certain king which made a marriage for his son\".\\nSo the wedding clothes were customary,  and \"given\" to those who \"chose\" to\\nattend.  This man \"refused\" to wear the clothes.  The wedding clothes are\\nequalivant to the \"clothes of righteousness\".  When Jesus died for our sins,\\nthose \"clothes\" were then provided.  Like that man, it is our decision to\\nput the clothes on.\\n']"
      ]
     },
     "execution_count": 7,
     "metadata": {},
     "output_type": "execute_result"
    }
   ],
   "source": [
    "twenty_train.data[0:5]"
   ]
  },
  {
   "cell_type": "markdown",
   "metadata": {
    "colab_type": "text",
    "id": "hTz4EaN_1WGc"
   },
   "source": [
    "### 4.  Now with dependent and independent data available for both train and test datasets, using TfidfVectorizer fit and transform the training data and test data and get the tfidf features for both\n",
    "\n",
    "Hint: Use \".fit_transform\" on Train set and \".transform\" on Test set"
   ]
  },
  {
   "cell_type": "code",
   "execution_count": 84,
   "metadata": {
    "colab": {},
    "colab_type": "code",
    "id": "H5G477f81C0Z"
   },
   "outputs": [],
   "source": [
    "from sklearn.feature_extraction.text import TfidfVectorizer"
   ]
  },
  {
   "cell_type": "code",
   "execution_count": 85,
   "metadata": {},
   "outputs": [],
   "source": [
    "tf_idf = TfidfVectorizer( max_features=5000)"
   ]
  },
  {
   "cell_type": "code",
   "execution_count": 86,
   "metadata": {},
   "outputs": [
    {
     "data": {
      "text/plain": [
       "(2257, 5000)"
      ]
     },
     "execution_count": 86,
     "metadata": {},
     "output_type": "execute_result"
    }
   ],
   "source": [
    "twenty_train_vec = tf_idf.fit_transform(twenty_train.data)\n",
    "twenty_train_vec.shape"
   ]
  },
  {
   "cell_type": "code",
   "execution_count": 87,
   "metadata": {},
   "outputs": [
    {
     "data": {
      "text/plain": [
       "(1502, 5000)"
      ]
     },
     "execution_count": 87,
     "metadata": {},
     "output_type": "execute_result"
    }
   ],
   "source": [
    "twenty_test_vec = tf_idf.transform(twenty_test.data)\n",
    "twenty_test_vec.shape"
   ]
  },
  {
   "cell_type": "markdown",
   "metadata": {
    "colab_type": "text",
    "id": "tp_fDINJ1t4L"
   },
   "source": [
    "### 5. Use logisticRegression with tfidf features as input and targets as output and train the model and report the train and test accuracy score"
   ]
  },
  {
   "cell_type": "code",
   "execution_count": 88,
   "metadata": {
    "colab": {},
    "colab_type": "code",
    "id": "THlN2b5d1yQp"
   },
   "outputs": [],
   "source": [
    "from sklearn.linear_model import LogisticRegression"
   ]
  },
  {
   "cell_type": "code",
   "execution_count": 89,
   "metadata": {},
   "outputs": [],
   "source": [
    "LR = LogisticRegression()"
   ]
  },
  {
   "cell_type": "code",
   "execution_count": 90,
   "metadata": {},
   "outputs": [
    {
     "data": {
      "text/plain": [
       "LogisticRegression(C=1.0, class_weight=None, dual=False, fit_intercept=True,\n",
       "                   intercept_scaling=1, l1_ratio=None, max_iter=100,\n",
       "                   multi_class='auto', n_jobs=None, penalty='l2',\n",
       "                   random_state=None, solver='lbfgs', tol=0.0001, verbose=0,\n",
       "                   warm_start=False)"
      ]
     },
     "execution_count": 90,
     "metadata": {},
     "output_type": "execute_result"
    }
   ],
   "source": [
    "LR.fit(twenty_train_vec,train_target)"
   ]
  },
  {
   "cell_type": "code",
   "execution_count": 91,
   "metadata": {},
   "outputs": [],
   "source": [
    "y_pred_train = LR.predict(twenty_train_vec)"
   ]
  },
  {
   "cell_type": "code",
   "execution_count": 92,
   "metadata": {},
   "outputs": [],
   "source": [
    "# make class predictions \n",
    "y_pred_test = LR.predict(twenty_test_vec)"
   ]
  },
  {
   "cell_type": "code",
   "execution_count": 93,
   "metadata": {},
   "outputs": [
    {
     "data": {
      "text/plain": [
       "array([2, 2, 2, ..., 2, 2, 1], dtype=int64)"
      ]
     },
     "execution_count": 93,
     "metadata": {},
     "output_type": "execute_result"
    }
   ],
   "source": [
    "y_pred_test"
   ]
  },
  {
   "cell_type": "code",
   "execution_count": 94,
   "metadata": {},
   "outputs": [],
   "source": [
    "from sklearn.metrics import accuracy_score"
   ]
  },
  {
   "cell_type": "code",
   "execution_count": 95,
   "metadata": {},
   "outputs": [
    {
     "name": "stdout",
     "output_type": "stream",
     "text": [
      "The train accuracy is 0.9902525476295968\n"
     ]
    }
   ],
   "source": [
    "print(\"The train accuracy is\",accuracy_score(train_target,y_pred_train ))"
   ]
  },
  {
   "cell_type": "code",
   "execution_count": 96,
   "metadata": {},
   "outputs": [
    {
     "name": "stdout",
     "output_type": "stream",
     "text": [
      "The test accuracy is 0.9007989347536618\n"
     ]
    }
   ],
   "source": [
    "print(\"The test accuracy is\",accuracy_score(test_target,y_pred_class ))"
   ]
  },
  {
   "cell_type": "markdown",
   "metadata": {
    "colab_type": "text",
    "id": "FU-HwvIdH0M-"
   },
   "source": [
    "## Sentiment analysis <br> \n",
    "\n",
    "The objective of this problem is to perform Sentiment analysis from the tweets data collected from the users targeted at various mobile devices.\n",
    "Based on the tweet posted by a user (text), we will classify if the sentiment of the user targeted at a particular mobile device is positive or not."
   ]
  },
  {
   "cell_type": "markdown",
   "metadata": {
    "colab_type": "text",
    "id": "nAQDiZHRH0M_"
   },
   "source": [
    "### 6. Read the dataset (tweets.csv) and drop the NA's while reading the dataset\n",
    "\n",
    "Hint: pd.read_csv('./tweets.csv',encoding = \"ISO-8859-1\").dropna()"
   ]
  },
  {
   "cell_type": "code",
   "execution_count": 98,
   "metadata": {
    "colab": {},
    "colab_type": "code",
    "id": "3eXGIe-SH0NA"
   },
   "outputs": [],
   "source": [
    "import pandas as pd\n",
    "data = pd.read_csv(\"tweets.csv\",encoding = \"ISO-8859-1\").dropna()"
   ]
  },
  {
   "cell_type": "code",
   "execution_count": 99,
   "metadata": {},
   "outputs": [
    {
     "data": {
      "text/html": [
       "<div>\n",
       "<style scoped>\n",
       "    .dataframe tbody tr th:only-of-type {\n",
       "        vertical-align: middle;\n",
       "    }\n",
       "\n",
       "    .dataframe tbody tr th {\n",
       "        vertical-align: top;\n",
       "    }\n",
       "\n",
       "    .dataframe thead th {\n",
       "        text-align: right;\n",
       "    }\n",
       "</style>\n",
       "<table border=\"1\" class=\"dataframe\">\n",
       "  <thead>\n",
       "    <tr style=\"text-align: right;\">\n",
       "      <th></th>\n",
       "      <th>tweet_text</th>\n",
       "      <th>emotion_in_tweet_is_directed_at</th>\n",
       "      <th>is_there_an_emotion_directed_at_a_brand_or_product</th>\n",
       "    </tr>\n",
       "  </thead>\n",
       "  <tbody>\n",
       "    <tr>\n",
       "      <th>0</th>\n",
       "      <td>.@wesley83 I have a 3G iPhone. After 3 hrs twe...</td>\n",
       "      <td>iPhone</td>\n",
       "      <td>Negative emotion</td>\n",
       "    </tr>\n",
       "    <tr>\n",
       "      <th>1</th>\n",
       "      <td>@jessedee Know about @fludapp ? Awesome iPad/i...</td>\n",
       "      <td>iPad or iPhone App</td>\n",
       "      <td>Positive emotion</td>\n",
       "    </tr>\n",
       "    <tr>\n",
       "      <th>2</th>\n",
       "      <td>@swonderlin Can not wait for #iPad 2 also. The...</td>\n",
       "      <td>iPad</td>\n",
       "      <td>Positive emotion</td>\n",
       "    </tr>\n",
       "    <tr>\n",
       "      <th>3</th>\n",
       "      <td>@sxsw I hope this year's festival isn't as cra...</td>\n",
       "      <td>iPad or iPhone App</td>\n",
       "      <td>Negative emotion</td>\n",
       "    </tr>\n",
       "    <tr>\n",
       "      <th>4</th>\n",
       "      <td>@sxtxstate great stuff on Fri #SXSW: Marissa M...</td>\n",
       "      <td>Google</td>\n",
       "      <td>Positive emotion</td>\n",
       "    </tr>\n",
       "  </tbody>\n",
       "</table>\n",
       "</div>"
      ],
      "text/plain": [
       "                                          tweet_text  \\\n",
       "0  .@wesley83 I have a 3G iPhone. After 3 hrs twe...   \n",
       "1  @jessedee Know about @fludapp ? Awesome iPad/i...   \n",
       "2  @swonderlin Can not wait for #iPad 2 also. The...   \n",
       "3  @sxsw I hope this year's festival isn't as cra...   \n",
       "4  @sxtxstate great stuff on Fri #SXSW: Marissa M...   \n",
       "\n",
       "  emotion_in_tweet_is_directed_at  \\\n",
       "0                          iPhone   \n",
       "1              iPad or iPhone App   \n",
       "2                            iPad   \n",
       "3              iPad or iPhone App   \n",
       "4                          Google   \n",
       "\n",
       "  is_there_an_emotion_directed_at_a_brand_or_product  \n",
       "0                                   Negative emotion  \n",
       "1                                   Positive emotion  \n",
       "2                                   Positive emotion  \n",
       "3                                   Negative emotion  \n",
       "4                                   Positive emotion  "
      ]
     },
     "execution_count": 99,
     "metadata": {},
     "output_type": "execute_result"
    }
   ],
   "source": [
    "data.head()"
   ]
  },
  {
   "cell_type": "code",
   "execution_count": 100,
   "metadata": {},
   "outputs": [
    {
     "data": {
      "text/plain": [
       "0"
      ]
     },
     "execution_count": 100,
     "metadata": {},
     "output_type": "execute_result"
    }
   ],
   "source": [
    "data.isna().sum().sum()"
   ]
  },
  {
   "cell_type": "markdown",
   "metadata": {
    "colab_type": "text",
    "id": "jPJvTjefH0NI"
   },
   "source": [
    "### 7. Preprocess the text and add the preprocessed text in a column with name `text` in the dataframe."
   ]
  },
  {
   "cell_type": "code",
   "execution_count": 101,
   "metadata": {
    "colab": {},
    "colab_type": "code",
    "id": "5iec5s9gH0NI"
   },
   "outputs": [],
   "source": [
    "import string, re\n",
    "from nltk import word_tokenize \n",
    "def preprocess(text):\n",
    "    try:\n",
    "        # Check characters to see if they are in punctuation\n",
    "        nopunc = [char for char in text if char not in string.punctuation]\n",
    "        # Join the characters again to form the string.\n",
    "        nopunc = ''.join(nopunc)\n",
    "        # convert text to lower-case\n",
    "        nopunc = nopunc.lower()\n",
    "        # remove URLs\n",
    "        nopunc = re.sub('((www\\.[^\\s]+)|(https?://[^\\s]+)|(http?://[^\\s]+))', '', nopunc)\n",
    "        nopunc = re.sub(r'http\\S+', '', nopunc)\n",
    "        # remove usernames\n",
    "        nopunc = re.sub('@[^\\s]+', '', nopunc)\n",
    "        # remove the # in #hashtag\n",
    "        nopunc = re.sub(r'#([^\\s]+)', r'\\1', nopunc)\n",
    "        return ''.join(nopunc)\n",
    "    except Exception as e:\n",
    "        return \"\""
   ]
  },
  {
   "cell_type": "code",
   "execution_count": 102,
   "metadata": {
    "colab": {},
    "colab_type": "code",
    "id": "EQSmqA-vH0NT"
   },
   "outputs": [],
   "source": [
    "data['text'] = [preprocess(text) for text in data.tweet_text]"
   ]
  },
  {
   "cell_type": "code",
   "execution_count": 105,
   "metadata": {
    "colab": {},
    "colab_type": "code",
    "id": "7kX-WoJDH0NV"
   },
   "outputs": [
    {
     "data": {
      "text/html": [
       "<div>\n",
       "<style scoped>\n",
       "    .dataframe tbody tr th:only-of-type {\n",
       "        vertical-align: middle;\n",
       "    }\n",
       "\n",
       "    .dataframe tbody tr th {\n",
       "        vertical-align: top;\n",
       "    }\n",
       "\n",
       "    .dataframe thead th {\n",
       "        text-align: right;\n",
       "    }\n",
       "</style>\n",
       "<table border=\"1\" class=\"dataframe\">\n",
       "  <thead>\n",
       "    <tr style=\"text-align: right;\">\n",
       "      <th></th>\n",
       "      <th>text</th>\n",
       "    </tr>\n",
       "  </thead>\n",
       "  <tbody>\n",
       "    <tr>\n",
       "      <th>0</th>\n",
       "      <td>wesley83 i have a 3g iphone after 3 hrs tweeti...</td>\n",
       "    </tr>\n",
       "    <tr>\n",
       "      <th>1</th>\n",
       "      <td>jessedee know about fludapp  awesome ipadiphon...</td>\n",
       "    </tr>\n",
       "    <tr>\n",
       "      <th>2</th>\n",
       "      <td>swonderlin can not wait for ipad 2 also they s...</td>\n",
       "    </tr>\n",
       "    <tr>\n",
       "      <th>3</th>\n",
       "      <td>sxsw i hope this years festival isnt as crashy...</td>\n",
       "    </tr>\n",
       "    <tr>\n",
       "      <th>4</th>\n",
       "      <td>sxtxstate great stuff on fri sxsw marissa maye...</td>\n",
       "    </tr>\n",
       "    <tr>\n",
       "      <th>...</th>\n",
       "      <td>...</td>\n",
       "    </tr>\n",
       "    <tr>\n",
       "      <th>9077</th>\n",
       "      <td>mention your pr guy just convinced me to switc...</td>\n",
       "    </tr>\n",
       "    <tr>\n",
       "      <th>9079</th>\n",
       "      <td>quotpapyrussort of like the ipadquot  nice lol...</td>\n",
       "    </tr>\n",
       "    <tr>\n",
       "      <th>9080</th>\n",
       "      <td>diller says google tv quotmight be run over by...</td>\n",
       "    </tr>\n",
       "    <tr>\n",
       "      <th>9085</th>\n",
       "      <td>ive always used camera for my iphone bc it has...</td>\n",
       "    </tr>\n",
       "    <tr>\n",
       "      <th>9088</th>\n",
       "      <td>ipad everywhere sxsw link</td>\n",
       "    </tr>\n",
       "  </tbody>\n",
       "</table>\n",
       "<p>3291 rows × 1 columns</p>\n",
       "</div>"
      ],
      "text/plain": [
       "                                                   text\n",
       "0     wesley83 i have a 3g iphone after 3 hrs tweeti...\n",
       "1     jessedee know about fludapp  awesome ipadiphon...\n",
       "2     swonderlin can not wait for ipad 2 also they s...\n",
       "3     sxsw i hope this years festival isnt as crashy...\n",
       "4     sxtxstate great stuff on fri sxsw marissa maye...\n",
       "...                                                 ...\n",
       "9077  mention your pr guy just convinced me to switc...\n",
       "9079  quotpapyrussort of like the ipadquot  nice lol...\n",
       "9080  diller says google tv quotmight be run over by...\n",
       "9085  ive always used camera for my iphone bc it has...\n",
       "9088                          ipad everywhere sxsw link\n",
       "\n",
       "[3291 rows x 1 columns]"
      ]
     },
     "execution_count": 105,
     "metadata": {},
     "output_type": "execute_result"
    }
   ],
   "source": [
    "data[['text']]"
   ]
  },
  {
   "cell_type": "markdown",
   "metadata": {
    "colab_type": "text",
    "id": "OGWB3P2WH0NY"
   },
   "source": [
    "### 8. Consider only rows having a Positive or Negative emotion and remove other rows from the dataframe.\n",
    "\n",
    "Hint: Use df = df[(df[\"col_name\"] == \"Positive emotion\") OR (df[\"col_name\"] == \"Negative emotion\")]"
   ]
  },
  {
   "cell_type": "code",
   "execution_count": 107,
   "metadata": {
    "colab": {},
    "colab_type": "code",
    "id": "bdgA_8N2H0NY"
   },
   "outputs": [],
   "source": [
    "data = data[(data[\"is_there_an_emotion_directed_at_a_brand_or_product\"] == \"Positive emotion\") |\n",
    "            (data[\"is_there_an_emotion_directed_at_a_brand_or_product\"] == \"Negative emotion\")]"
   ]
  },
  {
   "cell_type": "code",
   "execution_count": 108,
   "metadata": {
    "colab": {},
    "colab_type": "code",
    "id": "_Jlu-reIH0Na"
   },
   "outputs": [
    {
     "data": {
      "text/plain": [
       "array(['Negative emotion', 'Positive emotion'], dtype=object)"
      ]
     },
     "execution_count": 108,
     "metadata": {},
     "output_type": "execute_result"
    }
   ],
   "source": [
    "data['is_there_an_emotion_directed_at_a_brand_or_product'].unique()"
   ]
  },
  {
   "cell_type": "markdown",
   "metadata": {
    "colab_type": "text",
    "id": "SotCRvkDH0Nf"
   },
   "source": [
    "### 9. Represent text as numerical data using `CountVectorizer` and get the document term frequency matrix\n",
    "\n",
    "Hint: Perfrom fit (\".fit\") and transformation(\".transform\") for whole data, later will do CountVectorizer \"fit_transform\" and \"transform\" for train and test separately "
   ]
  },
  {
   "cell_type": "code",
   "execution_count": 123,
   "metadata": {
    "colab": {},
    "colab_type": "code",
    "id": "YcbkY4sgH0Ng"
   },
   "outputs": [],
   "source": [
    "from sklearn.feature_extraction.text import CountVectorizer"
   ]
  },
  {
   "cell_type": "code",
   "execution_count": 124,
   "metadata": {
    "colab": {},
    "colab_type": "code",
    "id": "Z4LUM-XPH0Nn"
   },
   "outputs": [],
   "source": [
    "vect = CountVectorizer()"
   ]
  },
  {
   "cell_type": "code",
   "execution_count": 133,
   "metadata": {},
   "outputs": [
    {
     "data": {
      "text/plain": [
       "<3191x6110 sparse matrix of type '<class 'numpy.int64'>'\n",
       "\twith 52504 stored elements in Compressed Sparse Row format>"
      ]
     },
     "execution_count": 133,
     "metadata": {},
     "output_type": "execute_result"
    }
   ],
   "source": [
    "vect.fit_transform(data['text'])"
   ]
  },
  {
   "cell_type": "markdown",
   "metadata": {
    "colab_type": "text",
    "id": "5pxd5fSHH0Nt"
   },
   "source": [
    "### 10. Find number of different words in vocabulary"
   ]
  },
  {
   "cell_type": "markdown",
   "metadata": {},
   "source": [
    " #### Tip: To see all available functions for an Object use dir and use appropriate function to find number of different words in vocab"
   ]
  },
  {
   "cell_type": "code",
   "execution_count": 134,
   "metadata": {
    "colab": {},
    "colab_type": "code",
    "id": "p1DQ2LdNH0Nu"
   },
   "outputs": [
    {
     "data": {
      "text/plain": [
       "['__class__',\n",
       " '__delattr__',\n",
       " '__dict__',\n",
       " '__dir__',\n",
       " '__doc__',\n",
       " '__eq__',\n",
       " '__format__',\n",
       " '__ge__',\n",
       " '__getattribute__',\n",
       " '__getstate__',\n",
       " '__gt__',\n",
       " '__hash__',\n",
       " '__init__',\n",
       " '__init_subclass__',\n",
       " '__le__',\n",
       " '__lt__',\n",
       " '__module__',\n",
       " '__ne__',\n",
       " '__new__',\n",
       " '__reduce__',\n",
       " '__reduce_ex__',\n",
       " '__repr__',\n",
       " '__setattr__',\n",
       " '__setstate__',\n",
       " '__sizeof__',\n",
       " '__str__',\n",
       " '__subclasshook__',\n",
       " '__weakref__',\n",
       " '_char_ngrams',\n",
       " '_char_wb_ngrams',\n",
       " '_check_stop_words_consistency',\n",
       " '_check_vocabulary',\n",
       " '_count_vocab',\n",
       " '_get_param_names',\n",
       " '_get_tags',\n",
       " '_limit_features',\n",
       " '_more_tags',\n",
       " '_sort_features',\n",
       " '_stop_words_id',\n",
       " '_validate_custom_analyzer',\n",
       " '_validate_params',\n",
       " '_validate_vocabulary',\n",
       " '_warn_for_unused_params',\n",
       " '_white_spaces',\n",
       " '_word_ngrams',\n",
       " 'analyzer',\n",
       " 'binary',\n",
       " 'build_analyzer',\n",
       " 'build_preprocessor',\n",
       " 'build_tokenizer',\n",
       " 'decode',\n",
       " 'decode_error',\n",
       " 'dtype',\n",
       " 'encoding',\n",
       " 'fit',\n",
       " 'fit_transform',\n",
       " 'fixed_vocabulary_',\n",
       " 'get_feature_names',\n",
       " 'get_params',\n",
       " 'get_stop_words',\n",
       " 'input',\n",
       " 'inverse_transform',\n",
       " 'lowercase',\n",
       " 'max_df',\n",
       " 'max_features',\n",
       " 'min_df',\n",
       " 'ngram_range',\n",
       " 'preprocessor',\n",
       " 'set_params',\n",
       " 'stop_words',\n",
       " 'stop_words_',\n",
       " 'strip_accents',\n",
       " 'token_pattern',\n",
       " 'tokenizer',\n",
       " 'transform',\n",
       " 'vocabulary',\n",
       " 'vocabulary_']"
      ]
     },
     "execution_count": 134,
     "metadata": {},
     "output_type": "execute_result"
    }
   ],
   "source": [
    "dir(vect)"
   ]
  },
  {
   "cell_type": "code",
   "execution_count": 135,
   "metadata": {
    "colab": {},
    "colab_type": "code",
    "id": "aIdZYxJtH0Nq"
   },
   "outputs": [
    {
     "data": {
      "text/plain": [
       "{'wesley83': 5847,\n",
       " 'have': 2415,\n",
       " '3g': 101,\n",
       " 'iphone': 2795,\n",
       " 'after': 258,\n",
       " 'hrs': 2570,\n",
       " 'tweeting': 5561,\n",
       " 'at': 470,\n",
       " 'riseaustin': 4493,\n",
       " 'it': 2828,\n",
       " 'was': 5801,\n",
       " 'dead': 1386,\n",
       " 'need': 3497,\n",
       " 'to': 5425,\n",
       " 'upgrade': 5651,\n",
       " 'plugin': 3934,\n",
       " 'stations': 4984,\n",
       " 'sxsw': 5151,\n",
       " 'jessedee': 2859,\n",
       " 'know': 2950,\n",
       " 'about': 183,\n",
       " 'fludapp': 2012,\n",
       " 'awesome': 534,\n",
       " 'ipadiphone': 2782,\n",
       " 'app': 388,\n",
       " 'that': 5315,\n",
       " 'youll': 6040,\n",
       " 'likely': 3073,\n",
       " 'appreciate': 418,\n",
       " 'for': 2041,\n",
       " 'its': 2831,\n",
       " 'design': 1448,\n",
       " 'also': 314,\n",
       " 'theyre': 5346,\n",
       " 'giving': 2215,\n",
       " 'free': 2074,\n",
       " 'ts': 5529,\n",
       " 'swonderlin': 5142,\n",
       " 'can': 878,\n",
       " 'not': 3567,\n",
       " 'wait': 5771,\n",
       " 'ipad': 2775,\n",
       " 'they': 5343,\n",
       " 'should': 4739,\n",
       " 'sale': 4551,\n",
       " 'them': 5327,\n",
       " 'down': 1604,\n",
       " 'hope': 2542,\n",
       " 'this': 5363,\n",
       " 'years': 6020,\n",
       " 'festival': 1945,\n",
       " 'isnt': 2822,\n",
       " 'as': 459,\n",
       " 'crashy': 1274,\n",
       " 'sxtxstate': 5190,\n",
       " 'great': 2298,\n",
       " 'stuff': 5060,\n",
       " 'on': 3651,\n",
       " 'fri': 2080,\n",
       " 'marissa': 3254,\n",
       " 'mayer': 3283,\n",
       " 'google': 2255,\n",
       " 'tim': 5397,\n",
       " 'oreilly': 3686,\n",
       " 'tech': 5254,\n",
       " 'booksconferences': 731,\n",
       " 'amp': 333,\n",
       " 'matt': 3276,\n",
       " 'mullenweg': 3455,\n",
       " 'wordpress': 5949,\n",
       " 'is': 2819,\n",
       " 'just': 2894,\n",
       " 'starting': 4976,\n",
       " 'ctia': 1318,\n",
       " 'around': 442,\n",
       " 'the': 5318,\n",
       " 'corner': 1227,\n",
       " 'and': 341,\n",
       " 'googleio': 2267,\n",
       " 'only': 3658,\n",
       " 'hop': 2541,\n",
       " 'skip': 4800,\n",
       " 'jump': 2892,\n",
       " 'from': 2090,\n",
       " 'there': 5336,\n",
       " 'good': 2248,\n",
       " 'time': 5399,\n",
       " 'be': 613,\n",
       " 'an': 338,\n",
       " 'android': 345,\n",
       " 'fan': 1886,\n",
       " 'beautifully': 622,\n",
       " 'smart': 4828,\n",
       " 'simple': 4773,\n",
       " 'idea': 2599,\n",
       " 'rt': 4529,\n",
       " 'madebymany': 3207,\n",
       " 'thenextweb': 5332,\n",
       " 'wrote': 5989,\n",
       " 'our': 3707,\n",
       " 'hollergram': 2520,\n",
       " 'counting': 1242,\n",
       " 'days': 1383,\n",
       " 'plus': 3936,\n",
       " 'strong': 5050,\n",
       " 'canadian': 880,\n",
       " 'dollar': 1575,\n",
       " 'means': 3293,\n",
       " 'stock': 5003,\n",
       " 'up': 5645,\n",
       " 'apple': 400,\n",
       " 'gear': 2161,\n",
       " 'excited': 1817,\n",
       " 'meet': 3301,\n",
       " 'samsungmobileus': 4559,\n",
       " 'so': 4857,\n",
       " 'show': 4745,\n",
       " 'my': 3473,\n",
       " 'sprint': 4952,\n",
       " 'galaxy': 2139,\n",
       " 'still': 5001,\n",
       " 'running': 4541,\n",
       " '21': 62,\n",
       " 'fail': 1876,\n",
       " 'find': 1971,\n",
       " 'start': 4974,\n",
       " 'impromptu': 2651,\n",
       " 'parties': 3788,\n",
       " 'with': 5912,\n",
       " 'hurricaneparty': 2585,\n",
       " 'cant': 883,\n",
       " 'til': 5395,\n",
       " 'comes': 1105,\n",
       " 'out': 3709,\n",
       " 'foursquare': 2062,\n",
       " 'ups': 5656,\n",
       " 'game': 2141,\n",
       " 'in': 2660,\n",
       " 'prefer': 3998,\n",
       " 'gowalla': 2280,\n",
       " 'by': 850,\n",
       " 'far': 1896,\n",
       " 'best': 653,\n",
       " 'looking': 3139,\n",
       " 'date': 1372,\n",
       " 'gotta': 2276,\n",
       " 'love': 3158,\n",
       " 'calendar': 861,\n",
       " 'featuring': 1925,\n",
       " 'top': 5451,\n",
       " 'cases': 909,\n",
       " 'check': 981,\n",
       " 'hamsandwich': 2373,\n",
       " 'via': 5718,\n",
       " 'ischafer': 2821,\n",
       " 'gt': 2329,\n",
       " 'haha': 2364,\n",
       " 'awesomely': 535,\n",
       " 'rad': 4279,\n",
       " 'noticed': 3577,\n",
       " 'dst': 1637,\n",
       " 'coming': 1108,\n",
       " 'weekend': 5834,\n",
       " 'how': 2563,\n",
       " 'many': 3239,\n",
       " 'users': 5675,\n",
       " 'will': 5884,\n",
       " 'hour': 2558,\n",
       " 'late': 2988,\n",
       " 'come': 1101,\n",
       " 'sunday': 5095,\n",
       " 'morning': 3430,\n",
       " 'added': 227,\n",
       " 'flights': 2001,\n",
       " 'planely': 3905,\n",
       " 'matching': 3273,\n",
       " 'people': 3837,\n",
       " 'planesairports': 3906,\n",
       " 'downloaded': 1606,\n",
       " 'klm': 2945,\n",
       " 'nicely': 3537,\n",
       " 'done': 1584,\n",
       " 'must': 3467,\n",
       " 'malbonster': 3226,\n",
       " 'lovely': 3162,\n",
       " 'review': 4460,\n",
       " 'forbes': 2042,\n",
       " 'holler': 2519,\n",
       " 'gram': 2288,\n",
       " 'buy': 842,\n",
       " 'ipad2': 2777,\n",
       " 'while': 5862,\n",
       " 'im': 2623,\n",
       " 'austin': 499,\n",
       " 'sure': 5109,\n",
       " 'if': 2610,\n",
       " 'ill': 2618,\n",
       " 'store': 5013,\n",
       " 'oh': 3633,\n",
       " 'god': 2230,\n",
       " 'pure': 4109,\n",
       " 'unadulterated': 5598,\n",
       " 'easier': 1667,\n",
       " 'browse': 803,\n",
       " 'events': 1787,\n",
       " 'than': 5310,\n",
       " 'website': 5829,\n",
       " 'okay': 3636,\n",
       " 'really': 4324,\n",
       " 'yay': 6015,\n",
       " 'new': 3519,\n",
       " 'app11': 389,\n",
       " 'kthxbai': 2957,\n",
       " 'photo': 3863,\n",
       " 'installed': 2719,\n",
       " 'which': 5861,\n",
       " 'nice': 3536,\n",
       " 'enjoying': 1738,\n",
       " 'changes': 958,\n",
       " '30': 84,\n",
       " 'forward': 2058,\n",
       " 'seeing': 4635,\n",
       " 'what': 5854,\n",
       " 'else': 1702,\n",
       " 'their': 5325,\n",
       " 'sleeves': 4810,\n",
       " 'laurieshook': 3006,\n",
       " 'smcdallas': 4836,\n",
       " 'pre': 3995,\n",
       " 'party': 3793,\n",
       " 'wed': 5832,\n",
       " 'hoping': 2545,\n",
       " 'win': 5890,\n",
       " 'resulting': 4446,\n",
       " 'shameless': 4699,\n",
       " 'promotion': 4071,\n",
       " 'chevysmc': 994,\n",
       " 'michaelpiliero': 3336,\n",
       " 'someone': 4887,\n",
       " 'started': 4975,\n",
       " 'partnerhub': 3790,\n",
       " 'group': 2311,\n",
       " 'groups': 2317,\n",
       " 'presxsw': 4025,\n",
       " '4sq3': 119,\n",
       " 'looks': 3141,\n",
       " 'like': 3070,\n",
       " 'going': 2241,\n",
       " 'rock': 4503,\n",
       " 'update': 5647,\n",
       " 'push': 4112,\n",
       " 'tonight': 5440,\n",
       " 'keepaustinweird': 2906,\n",
       " 'were': 5845,\n",
       " 'right': 4481,\n",
       " 'sweeeeet': 5131,\n",
       " 'job': 2865,\n",
       " 'team': 5248,\n",
       " 'very': 5714,\n",
       " 'may': 3281,\n",
       " 'leave': 3030,\n",
       " 'vuvuzela': 5766,\n",
       " 'home': 2527,\n",
       " 'now': 3585,\n",
       " 'you': 6038,\n",
       " 'your': 6043,\n",
       " 'are': 431,\n",
       " 'mention': 3316,\n",
       " 'ha': 2355,\n",
       " 'first': 1980,\n",
       " 'line': 3082,\n",
       " 'quotpopupquot': 4241,\n",
       " 'event': 1785,\n",
       " 'planner': 3909,\n",
       " 'eventprofs': 1786,\n",
       " 'pcma': 3822,\n",
       " 'engage365': 1728,\n",
       " 'false': 1882,\n",
       " 'alarm': 295,\n",
       " 'circles': 1024,\n",
       " 'ûòand': 6104,\n",
       " 'probably': 4047,\n",
       " 'ever': 1790,\n",
       " 'link': 3089,\n",
       " 'social': 4859,\n",
       " 'weather': 5821,\n",
       " 'greet': 2302,\n",
       " 'sweater': 5130,\n",
       " 'nightapple': 3543,\n",
       " 'putting': 4119,\n",
       " 'quotflash': 4188,\n",
       " 'storequot': 5019,\n",
       " 'downtown': 1611,\n",
       " 'sell': 4652,\n",
       " 'smartcover': 4829,\n",
       " 'ûª': 6087,\n",
       " 'opens': 3671,\n",
       " 'instant': 2722,\n",
       " 'access': 192,\n",
       " 'waited': 5772,\n",
       " 'get': 2192,\n",
       " 'one': 3653,\n",
       " 'hooray': 2537,\n",
       " 'ûïmention': 6097,\n",
       " 'opening': 3670,\n",
       " 'popup': 3959,\n",
       " 'wooooo': 5944,\n",
       " 'open': 3665,\n",
       " 'midnight': 3343,\n",
       " 'talking': 5229,\n",
       " 'googles': 2271,\n",
       " 'effort': 1687,\n",
       " 'allow': 305,\n",
       " 'systems': 5203,\n",
       " 'bettercloud': 660,\n",
       " '1st': 54,\n",
       " 'stop': 5009,\n",
       " 'chaos': 962,\n",
       " 'hunt': 2583,\n",
       " 'java': 2847,\n",
       " 'spy': 4953,\n",
       " 'chance': 953,\n",
       " 'omfg': 3644,\n",
       " 'heard': 2438,\n",
       " 'apples': 410,\n",
       " 'pics': 3875,\n",
       " 'already': 312,\n",
       " 'attending': 483,\n",
       " 'headaches': 2428,\n",
       " 'power': 3983,\n",
       " 'sxswi': 5169,\n",
       " 'do': 1557,\n",
       " 'bands': 567,\n",
       " 'food': 2034,\n",
       " 'art': 447,\n",
       " 'ice': 2595,\n",
       " 'cream': 1282,\n",
       " 'nifty': 3541,\n",
       " 'interactive': 2735,\n",
       " 'maps': 3245,\n",
       " 'holla': 2518,\n",
       " 'butt': 838,\n",
       " 'over': 3719,\n",
       " 'here': 2459,\n",
       " 'case': 907,\n",
       " 'but': 837,\n",
       " 'phone': 3860,\n",
       " 'of': 3617,\n",
       " 'post': 3975,\n",
       " 'makes': 3222,\n",
       " 'easy': 1668,\n",
       " 'connect': 1163,\n",
       " 'all': 303,\n",
       " 'networks': 3516,\n",
       " 'behaving': 638,\n",
       " 'today': 5427,\n",
       " 'crashes': 1271,\n",
       " 'yesterday': 6030,\n",
       " 'ridiculous': 4477,\n",
       " 'hey': 2466,\n",
       " 'fans': 1893,\n",
       " 'peek': 3830,\n",
       " 'space': 4911,\n",
       " 'thats': 5317,\n",
       " 'slated': 4806,\n",
       " 'tomorrow': 5435,\n",
       " 'thing': 5351,\n",
       " 'doing': 1572,\n",
       " 'earth': 1661,\n",
       " 'face': 1866,\n",
       " 'company': 1122,\n",
       " 'her': 2458,\n",
       " 'sxwsi': 5191,\n",
       " 'thanks': 5312,\n",
       " 'speech': 4925,\n",
       " 'apps': 425,\n",
       " 'being': 641,\n",
       " 'showcased': 4747,\n",
       " 'conf': 1149,\n",
       " 'sxswh': 5168,\n",
       " 'sxsh': 5149,\n",
       " 'does': 1566,\n",
       " 'provide': 4082,\n",
       " 'chargers': 967,\n",
       " 'ive': 2837,\n",
       " 'changed': 956,\n",
       " 'mind': 3356,\n",
       " 'next': 3530,\n",
       " 'year': 6019,\n",
       " 'xmas': 6005,\n",
       " 'shiny': 4720,\n",
       " 'garyvee': 2151,\n",
       " 'book': 728,\n",
       " 'stores': 5020,\n",
       " 'christmas': 1015,\n",
       " 'nerds': 3506,\n",
       " 'yai': 6012,\n",
       " 'ubersocial': 5582,\n",
       " 'includes': 2669,\n",
       " 'uberguide': 5581,\n",
       " 'sponsored': 4943,\n",
       " 'cont': 1184,\n",
       " 'fast': 1904,\n",
       " 'fun': 2114,\n",
       " 'future': 2121,\n",
       " 'presenting': 4019,\n",
       " 'search': 4620,\n",
       " 'local': 3114,\n",
       " 'mobile': 3391,\n",
       " 'headline': 2432,\n",
       " 'quotipad': 4209,\n",
       " 'musthave': 3468,\n",
       " 'gadget': 2132,\n",
       " 'sxswquot': 5182,\n",
       " 'hmm': 2507,\n",
       " 'could': 1239,\n",
       " 'seen': 4640,\n",
       " 'quotgoogle': 4192,\n",
       " 'launched': 3001,\n",
       " 'checkins': 985,\n",
       " 'month': 3420,\n",
       " 'agoquot': 270,\n",
       " 'ins': 2704,\n",
       " 'ok': 3635,\n",
       " 'outs': 3717,\n",
       " 'bizzy': 691,\n",
       " 'before': 631,\n",
       " 'tweetquot': 5562,\n",
       " 'quotthink': 4263,\n",
       " 'speakquot': 4921,\n",
       " 'mark': 3258,\n",
       " 'belinsky': 643,\n",
       " '911tweets': 167,\n",
       " 'panel': 3763,\n",
       " 'kawasaki': 2904,\n",
       " 'quotnot': 4228,\n",
       " 'cs': 1314,\n",
       " 'lewis': 3053,\n",
       " 'level': 3051,\n",
       " 'reasoning': 4330,\n",
       " 'continued': 1192,\n",
       " 'existence': 1828,\n",
       " 'evidence': 1802,\n",
       " 'godquot': 2232,\n",
       " 'bawling': 608,\n",
       " 'quotpagemaker': 4233,\n",
       " 'saved': 4571,\n",
       " 'applequot': 408,\n",
       " 'those': 5368,\n",
       " 'jwtatl': 2899,\n",
       " 'enchantment': 1719,\n",
       " '2s': 80,\n",
       " 'thoughts': 5372,\n",
       " 'japan': 2844,\n",
       " 'apac': 384,\n",
       " 'regions': 4371,\n",
       " 'dealing': 1390,\n",
       " 'earthquake': 1663,\n",
       " 'tsunami': 5531,\n",
       " 'trauma': 5495,\n",
       " 'schools': 4603,\n",
       " 'marketing': 3261,\n",
       " 'experts': 1843,\n",
       " 'temporary': 5286,\n",
       " 'def': 1407,\n",
       " 'tent': 5293,\n",
       " 'powerhouse': 3985,\n",
       " 'gym': 2351,\n",
       " '6th': 151,\n",
       " 'congress': 1162,\n",
       " 'along': 309,\n",
       " '10000': 6,\n",
       " 'happy': 2396,\n",
       " 'hipsters': 2492,\n",
       " 'wins': 5900,\n",
       " 'support': 5104,\n",
       " 'launch': 3000,\n",
       " 'trending': 5503,\n",
       " 'nerdy': 3508,\n",
       " 'christian': 1014,\n",
       " 'devs': 1479,\n",
       " 'want': 5791,\n",
       " 'talk': 5226,\n",
       " 'or': 3680,\n",
       " 'maybe': 3282,\n",
       " 'we': 5818,\n",
       " 'wk': 5918,\n",
       " 'together': 5432,\n",
       " 'cool': 1211,\n",
       " 'me': 3289,\n",
       " 'has': 2404,\n",
       " 'taken': 5218,\n",
       " 'storm': 5024,\n",
       " 'part': 3784,\n",
       " 'haz': 2423,\n",
       " 'ifrom': 2611,\n",
       " 'gr8': 2284,\n",
       " 'stacks': 4961,\n",
       " 'ipad2s': 2778,\n",
       " 'waiting': 5773,\n",
       " 'bought': 750,\n",
       " 'got': 2275,\n",
       " 'mine': 3362,\n",
       " 'no': 3551,\n",
       " 'hassle': 2410,\n",
       " 'handled': 2379,\n",
       " 'perfectly': 3845,\n",
       " 'take': 5216,\n",
       " 'major': 3218,\n",
       " 'south': 4907,\n",
       " 'korean': 2955,\n",
       " 'director': 1516,\n",
       " 'gets': 2194,\n",
       " '130000': 28,\n",
       " 'make': 3220,\n",
       " 'movie': 3444,\n",
       " 'entirely': 1749,\n",
       " 'his': 2496,\n",
       " 'beautiful': 621,\n",
       " 'pic': 3870,\n",
       " 'sneaky': 4856,\n",
       " 'usual': 5680,\n",
       " 'beta': 657,\n",
       " 'testing': 5301,\n",
       " 'moonbot': 3424,\n",
       " 'studios': 5057,\n",
       " 'louisiana': 3155,\n",
       " 'won': 5935,\n",
       " 'day': 1379,\n",
       " 'ton': 5437,\n",
       " 'sold': 4872,\n",
       " 'everything': 1798,\n",
       " 'except': 1814,\n",
       " '64gig': 144,\n",
       " 'wifi': 5880,\n",
       " 'white': 5864,\n",
       " 'did': 1488,\n",
       " 'manage': 3230,\n",
       " 'yours': 6045,\n",
       " 'known': 2953,\n",
       " 'jeans': 2853,\n",
       " 'configuration': 1154,\n",
       " 'offered': 3620,\n",
       " 'promo': 4069,\n",
       " 'ninjafinder': 3550,\n",
       " 'who': 5866,\n",
       " 'sucks': 5081,\n",
       " 'poursite': 3982,\n",
       " 'learning': 3025,\n",
       " 'lifechanging': 3060,\n",
       " 'impact': 2637,\n",
       " 'real': 4317,\n",
       " 'peoples': 3840,\n",
       " 'actual': 219,\n",
       " 'lives': 3102,\n",
       " 'bravo': 769,\n",
       " 'short': 4733,\n",
       " 'lines': 3085,\n",
       " 'left': 3033,\n",
       " 'tradeshow': 5482,\n",
       " 'demo': 1432,\n",
       " 'theatre': 5319,\n",
       " 'see': 4634,\n",
       " 'why': 5875,\n",
       " 'presenters': 4018,\n",
       " 'using': 5678,\n",
       " 'anyone': 375,\n",
       " 'quick': 4147,\n",
       " 'hundred': 2579,\n",
       " 'dollars': 1576,\n",
       " 'ad': 221,\n",
       " 'hoc': 2514,\n",
       " 'cost': 1234,\n",
       " 'monday': 3412,\n",
       " 'barry': 583,\n",
       " 'diller': 1508,\n",
       " 'york': 6037,\n",
       " 'times': 5405,\n",
       " 'lunch': 3186,\n",
       " 'hotel': 2553,\n",
       " 'six': 4789,\n",
       " 'dirty': 1518,\n",
       " 'martinis': 3263,\n",
       " 'mondays': 3413,\n",
       " 'seriously': 4666,\n",
       " 'any': 371,\n",
       " 'constant': 1175,\n",
       " 'causing': 923,\n",
       " 'lost': 3150,\n",
       " 'schedules': 4597,\n",
       " 'sync': 5196,\n",
       " 'wp7': 5979,\n",
       " 'ready': 4316,\n",
       " 'some': 4882,\n",
       " 'ur': 5659,\n",
       " 'blogging': 711,\n",
       " 'sxswa': 5155,\n",
       " 'conflagration': 1157,\n",
       " 'doofusness': 1592,\n",
       " 'attention': 484,\n",
       " 'sxswers': 5164,\n",
       " 'rumored': 4536,\n",
       " 'needs': 3499,\n",
       " 'went': 5844,\n",
       " 'lousy': 3157,\n",
       " 'winning': 5898,\n",
       " 'picture': 3876,\n",
       " 'spent': 4931,\n",
       " '1000': 5,\n",
       " 'youve': 6048,\n",
       " 'used': 5670,\n",
       " 'couple': 1244,\n",
       " 'city': 1030,\n",
       " 'blocks': 707,\n",
       " 'behind': 640,\n",
       " '100s': 7,\n",
       " 'emails': 1704,\n",
       " 'give': 2210,\n",
       " 'composed': 1139,\n",
       " 'replies': 4417,\n",
       " 'protip': 4079,\n",
       " '10pm': 17,\n",
       " 'night': 3542,\n",
       " 'block': 703,\n",
       " 'selling': 4653,\n",
       " 'wild': 5882,\n",
       " 'both': 746,\n",
       " 'say': 4578,\n",
       " 'terrible': 5298,\n",
       " 'takes': 5220,\n",
       " 'video': 5725,\n",
       " 'snapping': 4853,\n",
       " 'away': 532,\n",
       " 'keynote': 2915,\n",
       " 'slides': 4814,\n",
       " 'well': 5842,\n",
       " 'southwest': 4910,\n",
       " 'sweet': 5134,\n",
       " '3d': 100,\n",
       " 'ballroom': 563,\n",
       " 'more': 3427,\n",
       " '35': 96,\n",
       " 'million': 3353,\n",
       " 'miles': 3349,\n",
       " 'per': 3841,\n",
       " 'driving': 1627,\n",
       " 'navigation': 3490,\n",
       " 'theres': 5340,\n",
       " 'lineand': 3083,\n",
       " 'growing': 2320,\n",
       " 'youre': 6044,\n",
       " 'band': 566,\n",
       " 'share': 4701,\n",
       " 'track': 5475,\n",
       " 'audience': 492,\n",
       " 'stage': 4963,\n",
       " 'use': 5669,\n",
       " 'frostwire': 2094,\n",
       " 'available': 520,\n",
       " 'dont': 1587,\n",
       " 'caruse': 906,\n",
       " 'zimride': 6067,\n",
       " 'etc': 1775,\n",
       " 'rides': 4474,\n",
       " 'shareable': 4702,\n",
       " 'picked': 3872,\n",
       " 'mophie': 3426,\n",
       " 'battery': 602,\n",
       " 'prep': 4008,\n",
       " 'lugging': 3185,\n",
       " 'laptop': 2976,\n",
       " 'huge': 2577,\n",
       " 'last': 2985,\n",
       " 'rumor': 4535,\n",
       " 'monger': 3416,\n",
       " 'read': 4312,\n",
       " 'preview': 4028,\n",
       " 'socbiz': 4858,\n",
       " 'fb': 1920,\n",
       " 'hobo': 2513,\n",
       " 'shotgun': 4738,\n",
       " 'yes': 6029,\n",
       " 'please': 3927,\n",
       " 'build': 821,\n",
       " 'less': 3043,\n",
       " '24': 66,\n",
       " 'hours': 2559,\n",
       " 'biggest': 672,\n",
       " 'launches': 3002,\n",
       " 'companys': 1125,\n",
       " 'history': 2498,\n",
       " 'groupme': 2315,\n",
       " 'sxswsounds': 5186,\n",
       " 'incredible': 2673,\n",
       " 'phones': 3862,\n",
       " 'yet': 6031,\n",
       " 'alarms': 296,\n",
       " 'botch': 745,\n",
       " 'timechange': 5400,\n",
       " 'freak': 2072,\n",
       " 'missed': 3372,\n",
       " 'panels': 3766,\n",
       " 'bloody': 713,\n",
       " 'marys': 3265,\n",
       " 'shouts': 4744,\n",
       " 'ladies': 2966,\n",
       " 'holding': 2516,\n",
       " 'shows': 4752,\n",
       " 'photos': 3866,\n",
       " 'sipping': 4781,\n",
       " 'beer': 630,\n",
       " 'cc': 926,\n",
       " 'meant': 3294,\n",
       " 'wish': 5910,\n",
       " 'dyac': 1649,\n",
       " 'stupid': 5065,\n",
       " 'rumors': 4537,\n",
       " 'signs': 4768,\n",
       " 'point': 3942,\n",
       " 'pop': 3951,\n",
       " '15': 35,\n",
       " 'minute': 3367,\n",
       " 'brilliant': 787,\n",
       " 'enlightening': 1740,\n",
       " 'mechanics': 3298,\n",
       " 'presentation': 4016,\n",
       " 'sales': 4552,\n",
       " 'genius': 2184,\n",
       " 'dictaphone': 1486,\n",
       " 'vidcamera': 5724,\n",
       " 'wow': 5975,\n",
       " 'cerebellum': 941,\n",
       " 'charged': 965,\n",
       " 'personal': 3853,\n",
       " 'found': 2060,\n",
       " 'kyping': 2960,\n",
       " 'iphones': 2806,\n",
       " 'geolocation': 2189,\n",
       " 'releasing': 4390,\n",
       " 'when': 5857,\n",
       " 'background': 545,\n",
       " 'patch': 3808,\n",
       " 'batterykiller': 603,\n",
       " 'live': 3100,\n",
       " 'rsvp': 4528,\n",
       " 'sundayswaggereventbritecom': 5096,\n",
       " '320': 92,\n",
       " 'scoremore': 4610,\n",
       " 'quotbizzyquot': 4167,\n",
       " 'course': 1246,\n",
       " 'built': 824,\n",
       " 'temp': 5282,\n",
       " 'texas': 5305,\n",
       " 'understand': 5608,\n",
       " 'concept': 1145,\n",
       " 'corralling': 1230,\n",
       " 'cattle': 920,\n",
       " 'pickmeupanipad2': 3874,\n",
       " 'didnt': 1489,\n",
       " 'let': 3045,\n",
       " 'something': 4889,\n",
       " 'having': 2418,\n",
       " 'retail': 4449,\n",
       " 'near': 3494,\n",
       " 'keep': 2905,\n",
       " 'surprise': 5114,\n",
       " 'opened': 3668,\n",
       " 'town': 5473,\n",
       " 'cnet': 1068,\n",
       " 'ipads': 2790,\n",
       " 'example': 1811,\n",
       " 'layed': 3012,\n",
       " 'registers': 4373,\n",
       " 'checkout': 987,\n",
       " 'gswsxsw': 2328,\n",
       " 'launchquot': 3004,\n",
       " 'traffic': 5483,\n",
       " 'noon': 3563,\n",
       " 'fresh': 2079,\n",
       " 'shipment': 4721,\n",
       " 'pretty': 4026,\n",
       " 'fingers': 1977,\n",
       " 'crossed': 1301,\n",
       " 'technews': 5263,\n",
       " 'saves': 4572,\n",
       " 'set': 4681,\n",
       " 'ltlt': 3178,\n",
       " 'true': 5517,\n",
       " 'loathe': 3111,\n",
       " 'blogs': 712,\n",
       " 'atx': 489,\n",
       " 'quotthe': 4259,\n",
       " 'mall': 3227,\n",
       " '10x': 18,\n",
       " 'crowded': 1305,\n",
       " 'fake': 1881,\n",
       " 'fucking': 2105,\n",
       " 'donglequot': 1585,\n",
       " 'makeshift': 3223,\n",
       " 'kidding': 2926,\n",
       " 'amazing': 323,\n",
       " 'coolas': 1212,\n",
       " 'fanboy': 1887,\n",
       " 'shit': 4725,\n",
       " 'temptation': 5288,\n",
       " 'control': 1196,\n",
       " '5pm': 137,\n",
       " 'viewio': 5734,\n",
       " 'office': 3623,\n",
       " 'news': 3523,\n",
       " '10': 3,\n",
       " 'ûªll': 6088,\n",
       " 'during': 1647,\n",
       " '150': 36,\n",
       " 'few': 1949,\n",
       " 'too': 5442,\n",
       " 'atåêsxsw': 491,\n",
       " 'software': 4871,\n",
       " 'development': 1474,\n",
       " 'once': 3652,\n",
       " 'release': 4387,\n",
       " 'working': 5954,\n",
       " 'overheard': 3724,\n",
       " 'relaxing': 4386,\n",
       " 'computerquot': 1141,\n",
       " 'agreed': 272,\n",
       " 'quotarg': 4161,\n",
       " 'hate': 2411,\n",
       " 'blackberry': 694,\n",
       " 'backquot': 548,\n",
       " 'shocked': 4728,\n",
       " 'quotapple': 4160,\n",
       " 'technology': 5267,\n",
       " 'ones': 3655,\n",
       " 'because': 624,\n",
       " 'go': 2228,\n",
       " 'conferencesquot': 1152,\n",
       " 'everbody': 1791,\n",
       " 'media': 3299,\n",
       " 'driven': 1624,\n",
       " 'revolutions': 4465,\n",
       " 'better': 659,\n",
       " 'long': 3133,\n",
       " 'work': 5951,\n",
       " 'rather': 4303,\n",
       " 'agileagency': 267,\n",
       " 'knackered': 2946,\n",
       " 'playing': 3924,\n",
       " 'updating': 5650,\n",
       " 'timeline': 5403,\n",
       " 'smashed': 4835,\n",
       " 'partytweets': 3797,\n",
       " 'bed': 627,\n",
       " 'mdw': 3288,\n",
       " 'second': 4630,\n",
       " 'quothalfway': 4196,\n",
       " 'through': 5379,\n",
       " 'havent': 2417,\n",
       " 'even': 1783,\n",
       " 'boarded': 724,\n",
       " 'plane': 3904,\n",
       " 'amateurhour': 322,\n",
       " 'jobsco': 2867,\n",
       " 'crowd': 1302,\n",
       " 'tripping': 5511,\n",
       " 'each': 1652,\n",
       " 'other': 3702,\n",
       " 'aclu': 205,\n",
       " '80s': 157,\n",
       " 'partyu': 3798,\n",
       " 'laughed': 2999,\n",
       " 'until': 5639,\n",
       " 'week': 5833,\n",
       " 'hauling': 2414,\n",
       " 'macbook': 3195,\n",
       " 'everywhere': 1800,\n",
       " 'shoulder': 4741,\n",
       " 'rub': 4531,\n",
       " 'attendees': 481,\n",
       " 'qr': 4126,\n",
       " 'code': 1080,\n",
       " 'reader': 4313,\n",
       " 'tweet': 5554,\n",
       " 'us': 5663,\n",
       " 'image': 2626,\n",
       " 'badge': 552,\n",
       " 'optiscan': 3679,\n",
       " 'attendeesyou': 482,\n",
       " 'four': 2061,\n",
       " 'took': 5445,\n",
       " 'lego': 3037,\n",
       " 'pit': 3889,\n",
       " 'replaced': 4412,\n",
       " 'recharging': 4338,\n",
       " 'station': 4983,\n",
       " 'might': 3347,\n",
       " 'prices': 4032,\n",
       " 'crap': 1263,\n",
       " 'samsung': 4558,\n",
       " 'bad': 551,\n",
       " 'qs': 4130,\n",
       " 'process': 4049,\n",
       " 'poopoos': 3949,\n",
       " 'ideas': 2601,\n",
       " 'leaves': 3031,\n",
       " 'early': 1657,\n",
       " 'quotim': 4206,\n",
       " 'creativequot': 1289,\n",
       " 'busy': 836,\n",
       " 'gamestorming': 2147,\n",
       " 'trying': 5528,\n",
       " 'balance': 559,\n",
       " 'vs': 5763,\n",
       " 'airplane': 286,\n",
       " 'mode': 3398,\n",
       " '100': 4,\n",
       " 'tweets': 5563,\n",
       " 'precommerce': 3997,\n",
       " 'watch': 5806,\n",
       " 'ipadmadness': 2785,\n",
       " 'shop': 4731,\n",
       " 'core': 1226,\n",
       " 'action': 211,\n",
       " 'celebrate': 928,\n",
       " 'beauty': 623,\n",
       " 'web': 5822,\n",
       " 'msft': 3452,\n",
       " 'ie9': 2609,\n",
       " 'play': 3916,\n",
       " 'html5': 2573,\n",
       " 'quoti': 4203,\n",
       " 'gave': 2156,\n",
       " 'money': 3415,\n",
       " 'relief': 4393,\n",
       " '2quot': 79,\n",
       " 'betterthey': 663,\n",
       " 'had': 2362,\n",
       " 'improve': 2652,\n",
       " 'beyond': 667,\n",
       " 'sharing': 4705,\n",
       " 'positive': 3969,\n",
       " 'actions': 213,\n",
       " 'world': 5957,\n",
       " 'download': 1605,\n",
       " 'earthhour': 1662,\n",
       " '60': 139,\n",
       " 'bing': 676,\n",
       " 'bettersearch': 662,\n",
       " 'shot': 4737,\n",
       " 'success': 5072,\n",
       " 'structured': 5051,\n",
       " 'potentially': 3980,\n",
       " 'higher': 2474,\n",
       " 'margin': 3252,\n",
       " 'cpa': 1258,\n",
       " 'model': 3399,\n",
       " 'results': 4447,\n",
       " 'seo': 4661,\n",
       " 'qagb': 4123,\n",
       " 'impulsive': 2657,\n",
       " 'friends': 2088,\n",
       " 'gen': 2178,\n",
       " '32gb': 93,\n",
       " 'buying': 844,\n",
       " 'geekdate': 2165,\n",
       " 'someones': 4888,\n",
       " 'herself': 2464,\n",
       " 'present': 4015,\n",
       " 'rsqs': 4527,\n",
       " 'exciting': 1819,\n",
       " 'ûªt': 6091,\n",
       " 'certain': 943,\n",
       " 'meetings': 3303,\n",
       " 'hello': 2452,\n",
       " 'miss': 3371,\n",
       " 'charles': 972,\n",
       " 'chen': 992,\n",
       " 'androidchromeos': 346,\n",
       " 'booth': 736,\n",
       " 'exhibit': 1825,\n",
       " 'hall': 2370,\n",
       " '1pm': 52,\n",
       " 'guess': 2337,\n",
       " 'desperate': 1459,\n",
       " 'locations': 3122,\n",
       " 'considering': 1172,\n",
       " 'leaving': 3032,\n",
       " 'pro': 4045,\n",
       " 'flying': 2016,\n",
       " 'solo': 4876,\n",
       " 'think': 5355,\n",
       " 'battlela': 606,\n",
       " 'secret': 4632,\n",
       " 'batphone': 599,\n",
       " 'tv': 5548,\n",
       " 'league': 3019,\n",
       " 'extraordinary': 1859,\n",
       " 'hackers': 2360,\n",
       " 'lxh': 3190,\n",
       " 'big': 670,\n",
       " ...}"
      ]
     },
     "execution_count": 135,
     "metadata": {},
     "output_type": "execute_result"
    }
   ],
   "source": [
    "vect.vocabulary_"
   ]
  },
  {
   "cell_type": "markdown",
   "metadata": {
    "colab_type": "text",
    "id": "ShA6D8jKH0N5"
   },
   "source": [
    "### 11. Find out how many Positive and Negative emotions are there.\n",
    "\n",
    "Hint: Use value_counts on that column"
   ]
  },
  {
   "cell_type": "code",
   "execution_count": 136,
   "metadata": {
    "colab": {},
    "colab_type": "code",
    "id": "q7LAl5pzH0N6"
   },
   "outputs": [
    {
     "data": {
      "text/plain": [
       "Positive emotion    2672\n",
       "Negative emotion     519\n",
       "Name: is_there_an_emotion_directed_at_a_brand_or_product, dtype: int64"
      ]
     },
     "execution_count": 136,
     "metadata": {},
     "output_type": "execute_result"
    }
   ],
   "source": [
    "data['is_there_an_emotion_directed_at_a_brand_or_product'].value_counts()"
   ]
  },
  {
   "cell_type": "markdown",
   "metadata": {
    "colab_type": "text",
    "id": "IUvgj0FoH0N9"
   },
   "source": [
    "### 12. Change the labels for Positive and Negative emotions as 1 and 0 respectively and store in a different column in the same dataframe named 'Label'\n",
    "\n",
    "Hint: use map on that column and give labels"
   ]
  },
  {
   "cell_type": "code",
   "execution_count": 158,
   "metadata": {
    "colab": {},
    "colab_type": "code",
    "id": "YftKwFv7H0N9"
   },
   "outputs": [],
   "source": [
    "data[\"label\"] = data['is_there_an_emotion_directed_at_a_brand_or_product'].map(lambda x: 0 if x == 'Negative emotion' else 1)"
   ]
  },
  {
   "cell_type": "markdown",
   "metadata": {
    "colab_type": "text",
    "id": "3YErwYLCH0N_"
   },
   "source": [
    "### 13. Define the feature set (independent variable or X) to be `text` column and `labels` as target (or dependent variable)  and divide into train and test datasets and display shapes"
   ]
  },
  {
   "cell_type": "code",
   "execution_count": 159,
   "metadata": {
    "colab": {},
    "colab_type": "code",
    "id": "lNkwrGgEH0OA"
   },
   "outputs": [],
   "source": [
    "from sklearn.model_selection import train_test_split\n",
    "x = data['text']\n",
    "y = data['label']"
   ]
  },
  {
   "cell_type": "code",
   "execution_count": 160,
   "metadata": {},
   "outputs": [
    {
     "data": {
      "text/plain": [
       "1    2672\n",
       "0     519\n",
       "Name: label, dtype: int64"
      ]
     },
     "execution_count": 160,
     "metadata": {},
     "output_type": "execute_result"
    }
   ],
   "source": [
    "y.value_counts()"
   ]
  },
  {
   "cell_type": "code",
   "execution_count": 161,
   "metadata": {
    "colab": {},
    "colab_type": "code",
    "id": "fUHrfDCyH0PP"
   },
   "outputs": [],
   "source": [
    "x_train, x_test, y_train, y_test = train_test_split(x, y, random_state=2)"
   ]
  },
  {
   "cell_type": "code",
   "execution_count": 162,
   "metadata": {
    "colab": {},
    "colab_type": "code",
    "id": "3H4k_lVZH0PS"
   },
   "outputs": [
    {
     "data": {
      "text/plain": [
       "(2393,)"
      ]
     },
     "execution_count": 162,
     "metadata": {},
     "output_type": "execute_result"
    }
   ],
   "source": [
    "x_train.shape"
   ]
  },
  {
   "cell_type": "code",
   "execution_count": 163,
   "metadata": {
    "colab": {},
    "colab_type": "code",
    "id": "3H4k_lVZH0PS"
   },
   "outputs": [
    {
     "data": {
      "text/plain": [
       "(798,)"
      ]
     },
     "execution_count": 163,
     "metadata": {},
     "output_type": "execute_result"
    }
   ],
   "source": [
    "x_test.shape"
   ]
  },
  {
   "cell_type": "markdown",
   "metadata": {
    "colab_type": "text",
    "id": "Q5nlCuaaH0OD"
   },
   "source": [
    "## 14. **Predicting the sentiment:**\n",
    "\n",
    "\n",
    "### Use (i) Naive Bayes and (ii) Logistic Regression and print their accuracy scores for predicting the sentiment of the given text"
   ]
  },
  {
   "cell_type": "code",
   "execution_count": 164,
   "metadata": {
    "colab": {},
    "colab_type": "code",
    "id": "2AbVYssaH0OE"
   },
   "outputs": [],
   "source": [
    "from sklearn.naive_bayes import MultinomialNB\n",
    "from sklearn.linear_model import LogisticRegression\n",
    "from sklearn import metrics"
   ]
  },
  {
   "cell_type": "code",
   "execution_count": 165,
   "metadata": {
    "colab": {},
    "colab_type": "code",
    "id": "ktXrLhmOH0Of"
   },
   "outputs": [],
   "source": [
    "vect = CountVectorizer()\n",
    "\n",
    "# create document-term matrices\n",
    "x_train_dtm = vect.fit_transform(x_train)\n",
    "x_test_dtm = vect.transform(x_test)"
   ]
  },
  {
   "cell_type": "code",
   "execution_count": 166,
   "metadata": {
    "colab": {},
    "colab_type": "code",
    "id": "clv2X0kKH0Ok"
   },
   "outputs": [],
   "source": [
    "NB=MultinomialNB()"
   ]
  },
  {
   "cell_type": "code",
   "execution_count": 167,
   "metadata": {
    "colab": {},
    "colab_type": "code",
    "id": "K86LRMfdH0Ou"
   },
   "outputs": [
    {
     "data": {
      "text/plain": [
       "MultinomialNB(alpha=1.0, class_prior=None, fit_prior=True)"
      ]
     },
     "execution_count": 167,
     "metadata": {},
     "output_type": "execute_result"
    }
   ],
   "source": [
    "NB.fit(x_train_dtm,y_train)"
   ]
  },
  {
   "cell_type": "code",
   "execution_count": 168,
   "metadata": {},
   "outputs": [],
   "source": [
    "y_pred = NB.predict(x_test_dtm)"
   ]
  },
  {
   "cell_type": "code",
   "execution_count": 169,
   "metadata": {},
   "outputs": [
    {
     "data": {
      "text/plain": [
       "0.9494358545758462"
      ]
     },
     "execution_count": 169,
     "metadata": {},
     "output_type": "execute_result"
    }
   ],
   "source": [
    "NB.score(x_train_dtm,y_train)"
   ]
  },
  {
   "cell_type": "code",
   "execution_count": 170,
   "metadata": {},
   "outputs": [
    {
     "data": {
      "text/plain": [
       "0.8646616541353384"
      ]
     },
     "execution_count": 170,
     "metadata": {},
     "output_type": "execute_result"
    }
   ],
   "source": [
    "metrics.accuracy_score(y_test,y_pred)"
   ]
  },
  {
   "cell_type": "markdown",
   "metadata": {
    "colab_type": "text",
    "id": "sw-0B33tH0Ox"
   },
   "source": [
    "### 15. Create a function called `tokenize_predict` which can take count vectorizer object as input, create document term matrix out of x_train & x_test, build and train a model using dtm created and print the accuracy "
   ]
  },
  {
   "cell_type": "code",
   "execution_count": 171,
   "metadata": {
    "colab": {},
    "colab_type": "code",
    "id": "okCTOs1TH0Oy"
   },
   "outputs": [],
   "source": [
    "vect = CountVectorizer()\n",
    "def tokenize_predict(vect):\n",
    "    x_train_dtm = vect.fit_transform(x_train)\n",
    "    print('Features: ', x_train_dtm.shape[1])\n",
    "    x_test_dtm = vect.transform(x_test)\n",
    "    nb = MultinomialNB()\n",
    "    nb.fit(x_train_dtm, y_train)\n",
    "    y_pred_class = nb.predict(x_test_dtm)\n",
    "    print('Accuracy: ', metrics.accuracy_score(y_test, y_pred_class))"
   ]
  },
  {
   "cell_type": "markdown",
   "metadata": {
    "colab_type": "text",
    "id": "JxZ8jfPEH0O0"
   },
   "source": [
    "### 16. Create a count vectorizer function which includes n_grams = 1,2  and pass it to tokenize_predict function to print the accuracy score\n",
    "\n",
    "Hint: vect = CountVectorizer(ngram_range=(1, 2))"
   ]
  },
  {
   "cell_type": "code",
   "execution_count": 172,
   "metadata": {
    "colab": {},
    "colab_type": "code",
    "id": "kdCyAN_IH0O0"
   },
   "outputs": [
    {
     "name": "stdout",
     "output_type": "stream",
     "text": [
      "Features:  25184\n",
      "Accuracy:  0.8796992481203008\n"
     ]
    }
   ],
   "source": [
    "# include 1-grams and 2-grams\n",
    "vect = CountVectorizer(ngram_range=(1, 2))\n",
    "tokenize_predict(vect)"
   ]
  },
  {
   "cell_type": "markdown",
   "metadata": {
    "colab_type": "text",
    "id": "axepytmgH0O4"
   },
   "source": [
    "### 17. Create a count vectorizer function with stopwords = 'english'  and pass it to tokenize_predict function to print the accuracy score"
   ]
  },
  {
   "cell_type": "code",
   "execution_count": 173,
   "metadata": {
    "colab": {},
    "colab_type": "code",
    "id": "HToGkq7vH0O4"
   },
   "outputs": [
    {
     "name": "stdout",
     "output_type": "stream",
     "text": [
      "Features:  5023\n",
      "Accuracy:  0.8709273182957393\n"
     ]
    }
   ],
   "source": [
    "# remove English stop words\n",
    "vect = CountVectorizer(stop_words='english')\n",
    "tokenize_predict(vect)"
   ]
  },
  {
   "cell_type": "markdown",
   "metadata": {
    "colab_type": "text",
    "id": "iOIlJRxoH0O7"
   },
   "source": [
    "### 18. Create a count vectorizer function with stopwords = 'english' and max_features =300  and pass it to tokenize_predict function to print the accuracy score"
   ]
  },
  {
   "cell_type": "code",
   "execution_count": 175,
   "metadata": {
    "colab": {},
    "colab_type": "code",
    "id": "HToGkq7vH0O4"
   },
   "outputs": [
    {
     "name": "stdout",
     "output_type": "stream",
     "text": [
      "Features:  300\n",
      "Accuracy:  0.8358395989974937\n"
     ]
    }
   ],
   "source": [
    "# remove English stop words and only keep 300 features\n",
    "vect = CountVectorizer(stop_words = 'english',max_features =300)\n",
    "tokenize_predict(vect)"
   ]
  },
  {
   "cell_type": "markdown",
   "metadata": {
    "colab_type": "text",
    "id": "S2KZNWVkH0PA"
   },
   "source": [
    "### 19. Create a count vectorizer function with n_grams = 1,2  and max_features = 15000  and pass it to tokenize_predict function to print the accuracy score"
   ]
  },
  {
   "cell_type": "code",
   "execution_count": 176,
   "metadata": {
    "colab": {},
    "colab_type": "code",
    "id": "3v9XD082H0PB"
   },
   "outputs": [
    {
     "name": "stdout",
     "output_type": "stream",
     "text": [
      "Features:  15000\n",
      "Accuracy:  0.8759398496240601\n"
     ]
    }
   ],
   "source": [
    "# include 1-grams and 2-grams, and limit the number of features to 15000\n",
    "vect = CountVectorizer(ngram_range=(1, 2),max_features =15000)\n",
    "tokenize_predict(vect)"
   ]
  },
  {
   "cell_type": "markdown",
   "metadata": {
    "colab_type": "text",
    "id": "We3JK_SRH0PO"
   },
   "source": [
    "### 20. Create a count vectorizer function with n_grams = 1,2  and include terms that appear at least 2 times (min_df = 2)  and pass it to tokenize_predict function to print the accuracy score"
   ]
  },
  {
   "cell_type": "code",
   "execution_count": 177,
   "metadata": {
    "colab": {},
    "colab_type": "code",
    "id": "5VltP3aeMvrW"
   },
   "outputs": [
    {
     "name": "stdout",
     "output_type": "stream",
     "text": [
      "Features:  7867\n",
      "Accuracy:  0.8784461152882206\n"
     ]
    }
   ],
   "source": [
    "# include 1-grams and 2-grams, and only include terms that appear at least 2 times\n",
    "vect = CountVectorizer(ngram_range=(1, 2),min_df =2)\n",
    "tokenize_predict(vect)"
   ]
  }
 ],
 "metadata": {
  "kernelspec": {
   "display_name": "Python 3",
   "language": "python",
   "name": "python3"
  },
  "language_info": {
   "codemirror_mode": {
    "name": "ipython",
    "version": 3
   },
   "file_extension": ".py",
   "mimetype": "text/x-python",
   "name": "python",
   "nbconvert_exporter": "python",
   "pygments_lexer": "ipython3",
   "version": "3.7.4"
  }
 },
 "nbformat": 4,
 "nbformat_minor": 2
}
