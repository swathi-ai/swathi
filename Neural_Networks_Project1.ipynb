{
 "cells": [
  {
   "cell_type": "code",
   "execution_count": 3,
   "metadata": {
    "colab": {
     "base_uri": "https://localhost:8080/",
     "height": 64
    },
    "colab_type": "code",
    "id": "Ecu-zUSYndah",
    "outputId": "d5f9d5b6-0b4a-4ca9-84e9-6ff0db659656"
   },
   "outputs": [
    {
     "data": {
      "text/html": [
       "<p style=\"color: red;\">\n",
       "The default version of TensorFlow in Colab will soon switch to TensorFlow 2.x.<br>\n",
       "We recommend you <a href=\"https://www.tensorflow.org/guide/migrate\" target=\"_blank\">upgrade</a> now \n",
       "or ensure your notebook will continue to use TensorFlow 1.x via the <code>%tensorflow_version 1.x</code> magic:\n",
       "<a href=\"https://colab.research.google.com/notebooks/tensorflow_version.ipynb\" target=\"_blank\">more info</a>.</p>\n"
      ],
      "text/plain": [
       "<IPython.core.display.HTML object>"
      ]
     },
     "metadata": {
      "tags": []
     },
     "output_type": "display_data"
    }
   ],
   "source": [
    "import tensorflow as tf"
   ]
  },
  {
   "cell_type": "code",
   "execution_count": 4,
   "metadata": {
    "colab": {
     "base_uri": "https://localhost:8080/",
     "height": 35
    },
    "colab_type": "code",
    "id": "F7sM_xZsnhv6",
    "outputId": "6938c507-a5b7-4b50-e53a-16a8cf95852d"
   },
   "outputs": [
    {
     "data": {
      "text/plain": [
       "'1.15.0'"
      ]
     },
     "execution_count": 4,
     "metadata": {
      "tags": []
     },
     "output_type": "execute_result"
    }
   ],
   "source": [
    "tf.__version__"
   ]
  },
  {
   "cell_type": "code",
   "execution_count": 0,
   "metadata": {
    "colab": {},
    "colab_type": "code",
    "id": "_Hg84yW7nwoJ"
   },
   "outputs": [],
   "source": [
    "import pandas as pd\n",
    "import matplotlib.pyplot as plt\n",
    "import seaborn as sns\n",
    "%matplotlib inline"
   ]
  },
  {
   "cell_type": "code",
   "execution_count": 6,
   "metadata": {
    "colab": {
     "base_uri": "https://localhost:8080/",
     "height": 126
    },
    "colab_type": "code",
    "id": "tdeKIVnFurrl",
    "outputId": "9f25de65-a841-42db-cbe4-a0e4209772d2"
   },
   "outputs": [
    {
     "name": "stdout",
     "output_type": "stream",
     "text": [
      "Go to this URL in a browser: https://accounts.google.com/o/oauth2/auth?client_id=947318989803-6bn6qk8qdgf4n4g3pfee6491hc0brc4i.apps.googleusercontent.com&redirect_uri=urn%3aietf%3awg%3aoauth%3a2.0%3aoob&response_type=code&scope=email%20https%3a%2f%2fwww.googleapis.com%2fauth%2fdocs.test%20https%3a%2f%2fwww.googleapis.com%2fauth%2fdrive%20https%3a%2f%2fwww.googleapis.com%2fauth%2fdrive.photos.readonly%20https%3a%2f%2fwww.googleapis.com%2fauth%2fpeopleapi.readonly\n",
      "\n",
      "Enter your authorization code:\n",
      "··········\n",
      "Mounted at /gdrive\n"
     ]
    }
   ],
   "source": [
    "from google.colab import drive\n",
    "drive.mount(\"/gdrive\")"
   ]
  },
  {
   "cell_type": "code",
   "execution_count": 0,
   "metadata": {
    "colab": {},
    "colab_type": "code",
    "id": "OOF-FUQ5nlOj"
   },
   "outputs": [],
   "source": [
    "bank_data = pd.read_csv('/gdrive/My Drive/Colab Notebooks/Neural Networks/Project1/bank.csv')"
   ]
  },
  {
   "cell_type": "code",
   "execution_count": 8,
   "metadata": {
    "colab": {
     "base_uri": "https://localhost:8080/",
     "height": 35
    },
    "colab_type": "code",
    "id": "PpKjeVOnEnIV",
    "outputId": "8745434f-d1e7-4400-ba61-9dce3841d7f3"
   },
   "outputs": [
    {
     "data": {
      "text/plain": [
       "(10000, 14)"
      ]
     },
     "execution_count": 8,
     "metadata": {
      "tags": []
     },
     "output_type": "execute_result"
    }
   ],
   "source": [
    "bank_data.shape"
   ]
  },
  {
   "cell_type": "code",
   "execution_count": 9,
   "metadata": {
    "colab": {
     "base_uri": "https://localhost:8080/",
     "height": 355
    },
    "colab_type": "code",
    "id": "uY1gHZILv_Sy",
    "outputId": "3b4ee541-a7e8-4bbd-9c06-212478083e3d"
   },
   "outputs": [
    {
     "name": "stdout",
     "output_type": "stream",
     "text": [
      "<class 'pandas.core.frame.DataFrame'>\n",
      "RangeIndex: 10000 entries, 0 to 9999\n",
      "Data columns (total 14 columns):\n",
      "RowNumber          10000 non-null int64\n",
      "CustomerId         10000 non-null int64\n",
      "Surname            10000 non-null object\n",
      "CreditScore        10000 non-null int64\n",
      "Geography          10000 non-null object\n",
      "Gender             10000 non-null object\n",
      "Age                10000 non-null int64\n",
      "Tenure             10000 non-null int64\n",
      "Balance            10000 non-null float64\n",
      "NumOfProducts      10000 non-null int64\n",
      "HasCrCard          10000 non-null int64\n",
      "IsActiveMember     10000 non-null int64\n",
      "EstimatedSalary    10000 non-null float64\n",
      "Exited             10000 non-null int64\n",
      "dtypes: float64(2), int64(9), object(3)\n",
      "memory usage: 1.1+ MB\n"
     ]
    }
   ],
   "source": [
    "bank_data.info()"
   ]
  },
  {
   "cell_type": "code",
   "execution_count": 10,
   "metadata": {
    "colab": {
     "base_uri": "https://localhost:8080/",
     "height": 200
    },
    "colab_type": "code",
    "id": "k0DHZZmrDBc6",
    "outputId": "14b67e8c-f293-42b3-8e55-26efe40e1776"
   },
   "outputs": [
    {
     "data": {
      "text/html": [
       "<div>\n",
       "<style scoped>\n",
       "    .dataframe tbody tr th:only-of-type {\n",
       "        vertical-align: middle;\n",
       "    }\n",
       "\n",
       "    .dataframe tbody tr th {\n",
       "        vertical-align: top;\n",
       "    }\n",
       "\n",
       "    .dataframe thead th {\n",
       "        text-align: right;\n",
       "    }\n",
       "</style>\n",
       "<table border=\"1\" class=\"dataframe\">\n",
       "  <thead>\n",
       "    <tr style=\"text-align: right;\">\n",
       "      <th></th>\n",
       "      <th>RowNumber</th>\n",
       "      <th>CustomerId</th>\n",
       "      <th>Surname</th>\n",
       "      <th>CreditScore</th>\n",
       "      <th>Geography</th>\n",
       "      <th>Gender</th>\n",
       "      <th>Age</th>\n",
       "      <th>Tenure</th>\n",
       "      <th>Balance</th>\n",
       "      <th>NumOfProducts</th>\n",
       "      <th>HasCrCard</th>\n",
       "      <th>IsActiveMember</th>\n",
       "      <th>EstimatedSalary</th>\n",
       "      <th>Exited</th>\n",
       "    </tr>\n",
       "  </thead>\n",
       "  <tbody>\n",
       "    <tr>\n",
       "      <th>0</th>\n",
       "      <td>1</td>\n",
       "      <td>15634602</td>\n",
       "      <td>Hargrave</td>\n",
       "      <td>619</td>\n",
       "      <td>France</td>\n",
       "      <td>Female</td>\n",
       "      <td>42</td>\n",
       "      <td>2</td>\n",
       "      <td>0.00</td>\n",
       "      <td>1</td>\n",
       "      <td>1</td>\n",
       "      <td>1</td>\n",
       "      <td>101348.88</td>\n",
       "      <td>1</td>\n",
       "    </tr>\n",
       "    <tr>\n",
       "      <th>1</th>\n",
       "      <td>2</td>\n",
       "      <td>15647311</td>\n",
       "      <td>Hill</td>\n",
       "      <td>608</td>\n",
       "      <td>Spain</td>\n",
       "      <td>Female</td>\n",
       "      <td>41</td>\n",
       "      <td>1</td>\n",
       "      <td>83807.86</td>\n",
       "      <td>1</td>\n",
       "      <td>0</td>\n",
       "      <td>1</td>\n",
       "      <td>112542.58</td>\n",
       "      <td>0</td>\n",
       "    </tr>\n",
       "    <tr>\n",
       "      <th>2</th>\n",
       "      <td>3</td>\n",
       "      <td>15619304</td>\n",
       "      <td>Onio</td>\n",
       "      <td>502</td>\n",
       "      <td>France</td>\n",
       "      <td>Female</td>\n",
       "      <td>42</td>\n",
       "      <td>8</td>\n",
       "      <td>159660.80</td>\n",
       "      <td>3</td>\n",
       "      <td>1</td>\n",
       "      <td>0</td>\n",
       "      <td>113931.57</td>\n",
       "      <td>1</td>\n",
       "    </tr>\n",
       "    <tr>\n",
       "      <th>3</th>\n",
       "      <td>4</td>\n",
       "      <td>15701354</td>\n",
       "      <td>Boni</td>\n",
       "      <td>699</td>\n",
       "      <td>France</td>\n",
       "      <td>Female</td>\n",
       "      <td>39</td>\n",
       "      <td>1</td>\n",
       "      <td>0.00</td>\n",
       "      <td>2</td>\n",
       "      <td>0</td>\n",
       "      <td>0</td>\n",
       "      <td>93826.63</td>\n",
       "      <td>0</td>\n",
       "    </tr>\n",
       "    <tr>\n",
       "      <th>4</th>\n",
       "      <td>5</td>\n",
       "      <td>15737888</td>\n",
       "      <td>Mitchell</td>\n",
       "      <td>850</td>\n",
       "      <td>Spain</td>\n",
       "      <td>Female</td>\n",
       "      <td>43</td>\n",
       "      <td>2</td>\n",
       "      <td>125510.82</td>\n",
       "      <td>1</td>\n",
       "      <td>1</td>\n",
       "      <td>1</td>\n",
       "      <td>79084.10</td>\n",
       "      <td>0</td>\n",
       "    </tr>\n",
       "  </tbody>\n",
       "</table>\n",
       "</div>"
      ],
      "text/plain": [
       "   RowNumber  CustomerId   Surname  ...  IsActiveMember EstimatedSalary Exited\n",
       "0          1    15634602  Hargrave  ...               1       101348.88      1\n",
       "1          2    15647311      Hill  ...               1       112542.58      0\n",
       "2          3    15619304      Onio  ...               0       113931.57      1\n",
       "3          4    15701354      Boni  ...               0        93826.63      0\n",
       "4          5    15737888  Mitchell  ...               1        79084.10      0\n",
       "\n",
       "[5 rows x 14 columns]"
      ]
     },
     "execution_count": 10,
     "metadata": {
      "tags": []
     },
     "output_type": "execute_result"
    }
   ],
   "source": [
    "bank_data.head()"
   ]
  },
  {
   "cell_type": "code",
   "execution_count": 0,
   "metadata": {
    "colab": {},
    "colab_type": "code",
    "id": "JaRZEKK2DFrU"
   },
   "outputs": [],
   "source": [
    "# As 'RowNumber', 'CustomerId', 'Surname ' are not significant in deciding if a customer is churning out or not, deleting these columns\n",
    "bank_data = bank_data.drop(['RowNumber', 'CustomerId', 'Surname'], axis=1)"
   ]
  },
  {
   "cell_type": "code",
   "execution_count": 12,
   "metadata": {
    "colab": {
     "base_uri": "https://localhost:8080/",
     "height": 35
    },
    "colab_type": "code",
    "id": "7CBfnRJvEiMs",
    "outputId": "0f752e32-6c89-47e5-bd82-7a14538d2a43"
   },
   "outputs": [
    {
     "data": {
      "text/plain": [
       "(10000, 11)"
      ]
     },
     "execution_count": 12,
     "metadata": {
      "tags": []
     },
     "output_type": "execute_result"
    }
   ],
   "source": [
    "bank_data.shape"
   ]
  },
  {
   "cell_type": "code",
   "execution_count": 13,
   "metadata": {
    "colab": {
     "base_uri": "https://localhost:8080/",
     "height": 230
    },
    "colab_type": "code",
    "id": "JZ_ptswfEkpY",
    "outputId": "7d78c502-01ad-4a9a-f157-319a2c99d298"
   },
   "outputs": [
    {
     "data": {
      "text/plain": [
       "CreditScore        0\n",
       "Geography          0\n",
       "Gender             0\n",
       "Age                0\n",
       "Tenure             0\n",
       "Balance            0\n",
       "NumOfProducts      0\n",
       "HasCrCard          0\n",
       "IsActiveMember     0\n",
       "EstimatedSalary    0\n",
       "Exited             0\n",
       "dtype: int64"
      ]
     },
     "execution_count": 13,
     "metadata": {
      "tags": []
     },
     "output_type": "execute_result"
    }
   ],
   "source": [
    "bank_data.isnull().sum()"
   ]
  },
  {
   "cell_type": "markdown",
   "metadata": {
    "colab_type": "text",
    "id": "MzZPhN-JF2c1"
   },
   "source": [
    "there are no null/missing values in the dataset."
   ]
  },
  {
   "cell_type": "code",
   "execution_count": 14,
   "metadata": {
    "colab": {
     "base_uri": "https://localhost:8080/",
     "height": 48
    },
    "colab_type": "code",
    "id": "70v5ytlcF4om",
    "outputId": "7e919125-f328-4521-eb0d-f6ea4f209180"
   },
   "outputs": [
    {
     "data": {
      "text/html": [
       "<div>\n",
       "<style scoped>\n",
       "    .dataframe tbody tr th:only-of-type {\n",
       "        vertical-align: middle;\n",
       "    }\n",
       "\n",
       "    .dataframe tbody tr th {\n",
       "        vertical-align: top;\n",
       "    }\n",
       "\n",
       "    .dataframe thead th {\n",
       "        text-align: right;\n",
       "    }\n",
       "</style>\n",
       "<table border=\"1\" class=\"dataframe\">\n",
       "  <thead>\n",
       "    <tr style=\"text-align: right;\">\n",
       "      <th></th>\n",
       "      <th>CreditScore</th>\n",
       "      <th>Geography</th>\n",
       "      <th>Gender</th>\n",
       "      <th>Age</th>\n",
       "      <th>Tenure</th>\n",
       "      <th>Balance</th>\n",
       "      <th>NumOfProducts</th>\n",
       "      <th>HasCrCard</th>\n",
       "      <th>IsActiveMember</th>\n",
       "      <th>EstimatedSalary</th>\n",
       "      <th>Exited</th>\n",
       "    </tr>\n",
       "  </thead>\n",
       "  <tbody>\n",
       "  </tbody>\n",
       "</table>\n",
       "</div>"
      ],
      "text/plain": [
       "Empty DataFrame\n",
       "Columns: [CreditScore, Geography, Gender, Age, Tenure, Balance, NumOfProducts, HasCrCard, IsActiveMember, EstimatedSalary, Exited]\n",
       "Index: []"
      ]
     },
     "execution_count": 14,
     "metadata": {
      "tags": []
     },
     "output_type": "execute_result"
    }
   ],
   "source": [
    "bank_data[bank_data.duplicated()]"
   ]
  },
  {
   "cell_type": "markdown",
   "metadata": {
    "colab_type": "text",
    "id": "5nQX0IIaGL6D"
   },
   "source": [
    "There are no duplicate records in the data set"
   ]
  },
  {
   "cell_type": "code",
   "execution_count": 15,
   "metadata": {
    "colab": {
     "base_uri": "https://localhost:8080/",
     "height": 684
    },
    "colab_type": "code",
    "id": "KQsT3xulGIX1",
    "outputId": "75d30af3-b118-4c0a-fe16-8914f66136e6"
   },
   "outputs": [
    {
     "data": {
      "text/plain": [
       "<matplotlib.axes._subplots.AxesSubplot at 0x7f7bb7535a20>"
      ]
     },
     "execution_count": 15,
     "metadata": {
      "tags": []
     },
     "output_type": "execute_result"
    },
    {
     "data": {
      "image/png": "[encoded data removed]",
      "text/plain": [
       "<Figure size 720x720 with 2 Axes>"
      ]
     },
     "metadata": {
      "tags": []
     },
     "output_type": "display_data"
    }
   ],
   "source": [
    "plt.figure(figsize=(10,10))\n",
    "sns.heatmap(bank_data.corr(),vmax = 1, vmin = -1,annot = True)"
   ]
  },
  {
   "cell_type": "markdown",
   "metadata": {
    "colab_type": "text",
    "id": "U3WvSGfZG5VG"
   },
   "source": [
    "By above we can say that thereis no problem of multicolleniarity to remove any furthur features from dataset"
   ]
  },
  {
   "cell_type": "code",
   "execution_count": 0,
   "metadata": {
    "colab": {},
    "colab_type": "code",
    "id": "W2Bu9T3JkNdn"
   },
   "outputs": [],
   "source": []
  },
  {
   "cell_type": "code",
   "execution_count": 0,
   "metadata": {
    "colab": {},
    "colab_type": "code",
    "id": "567b_LYHGnTI"
   },
   "outputs": [],
   "source": [
    "# Lets encode the categorical features of data set\n",
    "bank_data_encoded = pd.get_dummies(bank_data, drop_first=True)"
   ]
  },
  {
   "cell_type": "code",
   "execution_count": 16,
   "metadata": {
    "colab": {
     "base_uri": "https://localhost:8080/",
     "height": 412
    },
    "colab_type": "code",
    "id": "D8qAsQ_cIJjU",
    "outputId": "e9786ad4-b6c6-454b-cc7b-8c465de8ff42"
   },
   "outputs": [
    {
     "data": {
      "text/html": [
       "<div>\n",
       "<style scoped>\n",
       "    .dataframe tbody tr th:only-of-type {\n",
       "        vertical-align: middle;\n",
       "    }\n",
       "\n",
       "    .dataframe tbody tr th {\n",
       "        vertical-align: top;\n",
       "    }\n",
       "\n",
       "    .dataframe thead th {\n",
       "        text-align: right;\n",
       "    }\n",
       "</style>\n",
       "<table border=\"1\" class=\"dataframe\">\n",
       "  <thead>\n",
       "    <tr style=\"text-align: right;\">\n",
       "      <th></th>\n",
       "      <th>0</th>\n",
       "      <th>1</th>\n",
       "      <th>2</th>\n",
       "      <th>3</th>\n",
       "      <th>4</th>\n",
       "    </tr>\n",
       "  </thead>\n",
       "  <tbody>\n",
       "    <tr>\n",
       "      <th>CreditScore</th>\n",
       "      <td>619.00</td>\n",
       "      <td>608.00</td>\n",
       "      <td>502.00</td>\n",
       "      <td>699.00</td>\n",
       "      <td>850.00</td>\n",
       "    </tr>\n",
       "    <tr>\n",
       "      <th>Age</th>\n",
       "      <td>42.00</td>\n",
       "      <td>41.00</td>\n",
       "      <td>42.00</td>\n",
       "      <td>39.00</td>\n",
       "      <td>43.00</td>\n",
       "    </tr>\n",
       "    <tr>\n",
       "      <th>Tenure</th>\n",
       "      <td>2.00</td>\n",
       "      <td>1.00</td>\n",
       "      <td>8.00</td>\n",
       "      <td>1.00</td>\n",
       "      <td>2.00</td>\n",
       "    </tr>\n",
       "    <tr>\n",
       "      <th>Balance</th>\n",
       "      <td>0.00</td>\n",
       "      <td>83807.86</td>\n",
       "      <td>159660.80</td>\n",
       "      <td>0.00</td>\n",
       "      <td>125510.82</td>\n",
       "    </tr>\n",
       "    <tr>\n",
       "      <th>NumOfProducts</th>\n",
       "      <td>1.00</td>\n",
       "      <td>1.00</td>\n",
       "      <td>3.00</td>\n",
       "      <td>2.00</td>\n",
       "      <td>1.00</td>\n",
       "    </tr>\n",
       "    <tr>\n",
       "      <th>HasCrCard</th>\n",
       "      <td>1.00</td>\n",
       "      <td>0.00</td>\n",
       "      <td>1.00</td>\n",
       "      <td>0.00</td>\n",
       "      <td>1.00</td>\n",
       "    </tr>\n",
       "    <tr>\n",
       "      <th>IsActiveMember</th>\n",
       "      <td>1.00</td>\n",
       "      <td>1.00</td>\n",
       "      <td>0.00</td>\n",
       "      <td>0.00</td>\n",
       "      <td>1.00</td>\n",
       "    </tr>\n",
       "    <tr>\n",
       "      <th>EstimatedSalary</th>\n",
       "      <td>101348.88</td>\n",
       "      <td>112542.58</td>\n",
       "      <td>113931.57</td>\n",
       "      <td>93826.63</td>\n",
       "      <td>79084.10</td>\n",
       "    </tr>\n",
       "    <tr>\n",
       "      <th>Exited</th>\n",
       "      <td>1.00</td>\n",
       "      <td>0.00</td>\n",
       "      <td>1.00</td>\n",
       "      <td>0.00</td>\n",
       "      <td>0.00</td>\n",
       "    </tr>\n",
       "    <tr>\n",
       "      <th>Geography_Germany</th>\n",
       "      <td>0.00</td>\n",
       "      <td>0.00</td>\n",
       "      <td>0.00</td>\n",
       "      <td>0.00</td>\n",
       "      <td>0.00</td>\n",
       "    </tr>\n",
       "    <tr>\n",
       "      <th>Geography_Spain</th>\n",
       "      <td>0.00</td>\n",
       "      <td>1.00</td>\n",
       "      <td>0.00</td>\n",
       "      <td>0.00</td>\n",
       "      <td>1.00</td>\n",
       "    </tr>\n",
       "    <tr>\n",
       "      <th>Gender_Male</th>\n",
       "      <td>0.00</td>\n",
       "      <td>0.00</td>\n",
       "      <td>0.00</td>\n",
       "      <td>0.00</td>\n",
       "      <td>0.00</td>\n",
       "    </tr>\n",
       "  </tbody>\n",
       "</table>\n",
       "</div>"
      ],
      "text/plain": [
       "                           0          1          2         3          4\n",
       "CreditScore           619.00     608.00     502.00    699.00     850.00\n",
       "Age                    42.00      41.00      42.00     39.00      43.00\n",
       "Tenure                  2.00       1.00       8.00      1.00       2.00\n",
       "Balance                 0.00   83807.86  159660.80      0.00  125510.82\n",
       "NumOfProducts           1.00       1.00       3.00      2.00       1.00\n",
       "HasCrCard               1.00       0.00       1.00      0.00       1.00\n",
       "IsActiveMember          1.00       1.00       0.00      0.00       1.00\n",
       "EstimatedSalary    101348.88  112542.58  113931.57  93826.63   79084.10\n",
       "Exited                  1.00       0.00       1.00      0.00       0.00\n",
       "Geography_Germany       0.00       0.00       0.00      0.00       0.00\n",
       "Geography_Spain         0.00       1.00       0.00      0.00       1.00\n",
       "Gender_Male             0.00       0.00       0.00      0.00       0.00"
      ]
     },
     "execution_count": 16,
     "metadata": {
      "tags": []
     },
     "output_type": "execute_result"
    }
   ],
   "source": [
    "bank_data_encoded.head().T"
   ]
  },
  {
   "cell_type": "code",
   "execution_count": 17,
   "metadata": {
    "colab": {
     "base_uri": "https://localhost:8080/",
     "height": 35
    },
    "colab_type": "code",
    "id": "FCGygQbVINAs",
    "outputId": "8f27af6f-4e22-4d49-aca2-d4afb1b601f8"
   },
   "outputs": [
    {
     "data": {
      "text/plain": [
       "(10000, 12)"
      ]
     },
     "execution_count": 17,
     "metadata": {
      "tags": []
     },
     "output_type": "execute_result"
    }
   ],
   "source": [
    "bank_data_encoded.shape"
   ]
  },
  {
   "cell_type": "code",
   "execution_count": 0,
   "metadata": {
    "colab": {},
    "colab_type": "code",
    "id": "jE1-oIIbIP-n"
   },
   "outputs": [],
   "source": [
    "# distinguish the feature set and target set\n",
    "X = bank_data_encoded.drop('Exited', axis=1)\n",
    "y = bank_data_encoded['Exited']"
   ]
  },
  {
   "cell_type": "code",
   "execution_count": 0,
   "metadata": {
    "colab": {},
    "colab_type": "code",
    "id": "5R8QWt0FJDRQ"
   },
   "outputs": [],
   "source": [
    "#Divide the data set into training and test sets\n",
    "from sklearn.model_selection import train_test_split\n",
    "X_train, X_test, y_train, y_test = train_test_split(X, y, test_size=0.20, random_state=1)"
   ]
  },
  {
   "cell_type": "code",
   "execution_count": 0,
   "metadata": {
    "colab": {},
    "colab_type": "code",
    "id": "B217lt17JPFK"
   },
   "outputs": [],
   "source": [
    "#Normalize the train and test data \n",
    "from sklearn.preprocessing import StandardScaler\n",
    "sc=StandardScaler()\n",
    "X_train = sc.fit_transform(X_train)\n",
    "X_test = sc.transform(X_test)"
   ]
  },
  {
   "cell_type": "code",
   "execution_count": 21,
   "metadata": {
    "colab": {
     "base_uri": "https://localhost:8080/",
     "height": 35
    },
    "colab_type": "code",
    "id": "r5Z28UfKJwYW",
    "outputId": "f5e40317-95e9-4073-8e60-e9c7b8158965"
   },
   "outputs": [
    {
     "data": {
      "text/plain": [
       "(8000, 11)"
      ]
     },
     "execution_count": 21,
     "metadata": {
      "tags": []
     },
     "output_type": "execute_result"
    }
   ],
   "source": [
    "X_train.shape"
   ]
  },
  {
   "cell_type": "code",
   "execution_count": 22,
   "metadata": {
    "colab": {
     "base_uri": "https://localhost:8080/",
     "height": 35
    },
    "colab_type": "code",
    "id": "zMqSEtyQKA7X",
    "outputId": "8f4a0eb9-6781-4cd5-f053-5a07ea184cd2"
   },
   "outputs": [
    {
     "data": {
      "text/plain": [
       "(2000, 11)"
      ]
     },
     "execution_count": 22,
     "metadata": {
      "tags": []
     },
     "output_type": "execute_result"
    }
   ],
   "source": [
    "X_test.shape"
   ]
  },
  {
   "cell_type": "code",
   "execution_count": 0,
   "metadata": {
    "colab": {},
    "colab_type": "code",
    "id": "nhYfxPO3KEjg"
   },
   "outputs": [],
   "source": [
    "#initialising the model\n",
    "tf.keras.backend.clear_session()\n",
    "model = tf.keras.models.Sequential()\n",
    "#adding 1st hidden layer\n",
    "model.add(tf.keras.layers.Dense(10, activation='relu', input_shape=(11, )))\n",
    "#adding 2nd hidden layer\n",
    "model.add(tf.keras.layers.Dense(5, activation='relu'))\n",
    "#adding output layer\n",
    "model.add(tf.keras.layers.Dense(1, activation='sigmoid'))\n",
    "#compile the model\n",
    "sgd = tf.keras.optimizers.SGD(lr=0.03)\n",
    "model.compile(optimizer=sgd, loss='binary_crossentropy', metrics=['accuracy'])\n"
   ]
  },
  {
   "cell_type": "code",
   "execution_count": 27,
   "metadata": {
    "colab": {
     "base_uri": "https://localhost:8080/",
     "height": 266
    },
    "colab_type": "code",
    "id": "fMhY77_m4gNI",
    "outputId": "b4c8c115-4e46-45dd-a7fe-6546998f23b6"
   },
   "outputs": [
    {
     "name": "stdout",
     "output_type": "stream",
     "text": [
      "Model: \"sequential\"\n",
      "_________________________________________________________________\n",
      "Layer (type)                 Output Shape              Param #   \n",
      "=================================================================\n",
      "dense (Dense)                (None, 10)                120       \n",
      "_________________________________________________________________\n",
      "dense_1 (Dense)              (None, 5)                 55        \n",
      "_________________________________________________________________\n",
      "dense_2 (Dense)              (None, 1)                 6         \n",
      "=================================================================\n",
      "Total params: 181\n",
      "Trainable params: 181\n",
      "Non-trainable params: 0\n",
      "_________________________________________________________________\n"
     ]
    }
   ],
   "source": [
    "model.summary()"
   ]
  },
  {
   "cell_type": "code",
   "execution_count": 28,
   "metadata": {
    "colab": {
     "base_uri": "https://localhost:8080/",
     "height": 1000
    },
    "colab_type": "code",
    "id": "kKxNvfS9kXQY",
    "outputId": "ef8b2706-bd2a-451b-9cdf-32f63769e9ab"
   },
   "outputs": [
    {
     "name": "stdout",
     "output_type": "stream",
     "text": [
      "Train on 8000 samples, validate on 2000 samples\n",
      "Epoch 1/100\n",
      "8000/8000 [==============================] - 1s 67us/sample - loss: 0.5389 - acc: 0.7765 - val_loss: 0.4837 - val_acc: 0.7925\n",
      "Epoch 2/100\n",
      "8000/8000 [==============================] - 0s 57us/sample - loss: 0.4661 - acc: 0.7972 - val_loss: 0.4515 - val_acc: 0.7925\n",
      "Epoch 3/100\n",
      "8000/8000 [==============================] - 0s 52us/sample - loss: 0.4439 - acc: 0.7974 - val_loss: 0.4354 - val_acc: 0.7925\n",
      "Epoch 4/100\n",
      "8000/8000 [==============================] - 0s 52us/sample - loss: 0.4319 - acc: 0.7991 - val_loss: 0.4253 - val_acc: 0.7970\n",
      "Epoch 5/100\n",
      "8000/8000 [==============================] - 0s 52us/sample - loss: 0.4234 - acc: 0.8036 - val_loss: 0.4185 - val_acc: 0.7980\n",
      "Epoch 6/100\n",
      "8000/8000 [==============================] - 0s 55us/sample - loss: 0.4164 - acc: 0.8089 - val_loss: 0.4116 - val_acc: 0.8065\n",
      "Epoch 7/100\n",
      "8000/8000 [==============================] - 0s 55us/sample - loss: 0.4094 - acc: 0.8100 - val_loss: 0.4046 - val_acc: 0.8070\n",
      "Epoch 8/100\n",
      "8000/8000 [==============================] - 0s 57us/sample - loss: 0.4029 - acc: 0.8091 - val_loss: 0.3977 - val_acc: 0.8125\n",
      "Epoch 9/100\n",
      "8000/8000 [==============================] - 0s 56us/sample - loss: 0.3973 - acc: 0.8114 - val_loss: 0.3912 - val_acc: 0.8165\n",
      "Epoch 10/100\n",
      "8000/8000 [==============================] - 0s 57us/sample - loss: 0.3920 - acc: 0.8129 - val_loss: 0.3869 - val_acc: 0.8170\n",
      "Epoch 11/100\n",
      "8000/8000 [==============================] - 0s 52us/sample - loss: 0.3870 - acc: 0.8152 - val_loss: 0.3823 - val_acc: 0.8195\n",
      "Epoch 12/100\n",
      "8000/8000 [==============================] - 0s 52us/sample - loss: 0.3825 - acc: 0.8215 - val_loss: 0.3777 - val_acc: 0.8290\n",
      "Epoch 13/100\n",
      "8000/8000 [==============================] - 0s 54us/sample - loss: 0.3771 - acc: 0.8330 - val_loss: 0.3729 - val_acc: 0.8425\n",
      "Epoch 14/100\n",
      "8000/8000 [==============================] - 0s 53us/sample - loss: 0.3707 - acc: 0.8434 - val_loss: 0.3660 - val_acc: 0.8430\n",
      "Epoch 15/100\n",
      "8000/8000 [==============================] - 0s 55us/sample - loss: 0.3647 - acc: 0.8474 - val_loss: 0.3603 - val_acc: 0.8460\n",
      "Epoch 16/100\n",
      "8000/8000 [==============================] - 0s 48us/sample - loss: 0.3601 - acc: 0.8508 - val_loss: 0.3550 - val_acc: 0.8470\n",
      "Epoch 17/100\n",
      "8000/8000 [==============================] - 0s 47us/sample - loss: 0.3569 - acc: 0.8510 - val_loss: 0.3521 - val_acc: 0.8495\n",
      "Epoch 18/100\n",
      "8000/8000 [==============================] - 0s 47us/sample - loss: 0.3541 - acc: 0.8530 - val_loss: 0.3505 - val_acc: 0.8500\n",
      "Epoch 19/100\n",
      "8000/8000 [==============================] - 0s 47us/sample - loss: 0.3527 - acc: 0.8540 - val_loss: 0.3484 - val_acc: 0.8520\n",
      "Epoch 20/100\n",
      "8000/8000 [==============================] - 0s 47us/sample - loss: 0.3515 - acc: 0.8551 - val_loss: 0.3476 - val_acc: 0.8530\n",
      "Epoch 21/100\n",
      "8000/8000 [==============================] - 0s 46us/sample - loss: 0.3502 - acc: 0.8549 - val_loss: 0.3468 - val_acc: 0.8555\n",
      "Epoch 22/100\n",
      "8000/8000 [==============================] - 0s 46us/sample - loss: 0.3496 - acc: 0.8570 - val_loss: 0.3439 - val_acc: 0.8560\n",
      "Epoch 23/100\n",
      "8000/8000 [==============================] - 0s 49us/sample - loss: 0.3488 - acc: 0.8550 - val_loss: 0.3434 - val_acc: 0.8575\n",
      "Epoch 24/100\n",
      "8000/8000 [==============================] - 0s 45us/sample - loss: 0.3481 - acc: 0.8580 - val_loss: 0.3436 - val_acc: 0.8580\n",
      "Epoch 25/100\n",
      "8000/8000 [==============================] - 0s 46us/sample - loss: 0.3470 - acc: 0.8559 - val_loss: 0.3430 - val_acc: 0.8555\n",
      "Epoch 26/100\n",
      "8000/8000 [==============================] - 0s 45us/sample - loss: 0.3469 - acc: 0.8587 - val_loss: 0.3419 - val_acc: 0.8565\n",
      "Epoch 27/100\n",
      "8000/8000 [==============================] - 0s 48us/sample - loss: 0.3464 - acc: 0.8571 - val_loss: 0.3430 - val_acc: 0.8545\n",
      "Epoch 28/100\n",
      "8000/8000 [==============================] - 0s 46us/sample - loss: 0.3462 - acc: 0.8583 - val_loss: 0.3425 - val_acc: 0.8565\n",
      "Epoch 29/100\n",
      "8000/8000 [==============================] - 0s 46us/sample - loss: 0.3451 - acc: 0.8594 - val_loss: 0.3440 - val_acc: 0.8575\n",
      "Epoch 30/100\n",
      "8000/8000 [==============================] - 0s 46us/sample - loss: 0.3455 - acc: 0.8585 - val_loss: 0.3411 - val_acc: 0.8565\n",
      "Epoch 31/100\n",
      "8000/8000 [==============================] - 0s 47us/sample - loss: 0.3449 - acc: 0.8575 - val_loss: 0.3402 - val_acc: 0.8620\n",
      "Epoch 32/100\n",
      "8000/8000 [==============================] - 0s 45us/sample - loss: 0.3445 - acc: 0.8593 - val_loss: 0.3415 - val_acc: 0.8560\n",
      "Epoch 33/100\n",
      "8000/8000 [==============================] - 0s 46us/sample - loss: 0.3442 - acc: 0.8583 - val_loss: 0.3393 - val_acc: 0.8595\n",
      "Epoch 34/100\n",
      "8000/8000 [==============================] - 0s 49us/sample - loss: 0.3439 - acc: 0.8585 - val_loss: 0.3421 - val_acc: 0.8575\n",
      "Epoch 35/100\n",
      "8000/8000 [==============================] - 0s 45us/sample - loss: 0.3434 - acc: 0.8581 - val_loss: 0.3403 - val_acc: 0.8570\n",
      "Epoch 36/100\n",
      "8000/8000 [==============================] - 0s 46us/sample - loss: 0.3433 - acc: 0.8597 - val_loss: 0.3398 - val_acc: 0.8590\n",
      "Epoch 37/100\n",
      "8000/8000 [==============================] - 0s 44us/sample - loss: 0.3430 - acc: 0.8599 - val_loss: 0.3403 - val_acc: 0.8580\n",
      "Epoch 38/100\n",
      "8000/8000 [==============================] - 0s 46us/sample - loss: 0.3429 - acc: 0.8589 - val_loss: 0.3395 - val_acc: 0.8595\n",
      "Epoch 39/100\n",
      "8000/8000 [==============================] - 0s 46us/sample - loss: 0.3420 - acc: 0.8610 - val_loss: 0.3429 - val_acc: 0.8570\n",
      "Epoch 40/100\n",
      "8000/8000 [==============================] - 0s 44us/sample - loss: 0.3424 - acc: 0.8595 - val_loss: 0.3393 - val_acc: 0.8575\n",
      "Epoch 41/100\n",
      "8000/8000 [==============================] - 0s 47us/sample - loss: 0.3427 - acc: 0.8589 - val_loss: 0.3386 - val_acc: 0.8590\n",
      "Epoch 42/100\n",
      "8000/8000 [==============================] - 0s 43us/sample - loss: 0.3418 - acc: 0.8611 - val_loss: 0.3400 - val_acc: 0.8610\n",
      "Epoch 43/100\n",
      "8000/8000 [==============================] - 0s 45us/sample - loss: 0.3420 - acc: 0.8608 - val_loss: 0.3385 - val_acc: 0.8605\n",
      "Epoch 44/100\n",
      "8000/8000 [==============================] - 0s 46us/sample - loss: 0.3412 - acc: 0.8597 - val_loss: 0.3384 - val_acc: 0.8600\n",
      "Epoch 45/100\n",
      "8000/8000 [==============================] - 0s 44us/sample - loss: 0.3414 - acc: 0.8597 - val_loss: 0.3376 - val_acc: 0.8620\n",
      "Epoch 46/100\n",
      "8000/8000 [==============================] - 0s 46us/sample - loss: 0.3414 - acc: 0.8595 - val_loss: 0.3372 - val_acc: 0.8615\n",
      "Epoch 47/100\n",
      "8000/8000 [==============================] - 0s 45us/sample - loss: 0.3410 - acc: 0.8609 - val_loss: 0.3381 - val_acc: 0.8590\n",
      "Epoch 48/100\n",
      "8000/8000 [==============================] - 0s 45us/sample - loss: 0.3401 - acc: 0.8600 - val_loss: 0.3375 - val_acc: 0.8620\n",
      "Epoch 49/100\n",
      "8000/8000 [==============================] - 0s 47us/sample - loss: 0.3403 - acc: 0.8610 - val_loss: 0.3370 - val_acc: 0.8605\n",
      "Epoch 50/100\n",
      "8000/8000 [==============================] - 0s 49us/sample - loss: 0.3399 - acc: 0.8610 - val_loss: 0.3376 - val_acc: 0.8605\n",
      "Epoch 51/100\n",
      "8000/8000 [==============================] - 0s 47us/sample - loss: 0.3399 - acc: 0.8608 - val_loss: 0.3366 - val_acc: 0.8600\n",
      "Epoch 52/100\n",
      "8000/8000 [==============================] - 0s 45us/sample - loss: 0.3397 - acc: 0.8622 - val_loss: 0.3360 - val_acc: 0.8615\n",
      "Epoch 53/100\n",
      "8000/8000 [==============================] - 0s 47us/sample - loss: 0.3392 - acc: 0.8624 - val_loss: 0.3372 - val_acc: 0.8615\n",
      "Epoch 54/100\n",
      "8000/8000 [==============================] - 0s 47us/sample - loss: 0.3385 - acc: 0.8614 - val_loss: 0.3381 - val_acc: 0.8650\n",
      "Epoch 55/100\n",
      "8000/8000 [==============================] - 0s 46us/sample - loss: 0.3388 - acc: 0.8621 - val_loss: 0.3359 - val_acc: 0.8595\n",
      "Epoch 56/100\n",
      "8000/8000 [==============================] - 0s 46us/sample - loss: 0.3387 - acc: 0.8616 - val_loss: 0.3366 - val_acc: 0.8625\n",
      "Epoch 57/100\n",
      "8000/8000 [==============================] - 0s 46us/sample - loss: 0.3379 - acc: 0.8618 - val_loss: 0.3368 - val_acc: 0.8630\n",
      "Epoch 58/100\n",
      "8000/8000 [==============================] - 0s 45us/sample - loss: 0.3382 - acc: 0.8619 - val_loss: 0.3379 - val_acc: 0.8575\n",
      "Epoch 59/100\n",
      "8000/8000 [==============================] - 0s 46us/sample - loss: 0.3378 - acc: 0.8622 - val_loss: 0.3355 - val_acc: 0.8605\n",
      "Epoch 60/100\n",
      "8000/8000 [==============================] - 0s 47us/sample - loss: 0.3374 - acc: 0.8622 - val_loss: 0.3368 - val_acc: 0.8595\n",
      "Epoch 61/100\n",
      "8000/8000 [==============================] - 0s 46us/sample - loss: 0.3369 - acc: 0.8636 - val_loss: 0.3349 - val_acc: 0.8650\n",
      "Epoch 62/100\n",
      "8000/8000 [==============================] - 0s 48us/sample - loss: 0.3372 - acc: 0.8612 - val_loss: 0.3348 - val_acc: 0.8630\n",
      "Epoch 63/100\n",
      "8000/8000 [==============================] - 0s 46us/sample - loss: 0.3368 - acc: 0.8629 - val_loss: 0.3348 - val_acc: 0.8605\n",
      "Epoch 64/100\n",
      "8000/8000 [==============================] - 0s 47us/sample - loss: 0.3368 - acc: 0.8609 - val_loss: 0.3365 - val_acc: 0.8590\n",
      "Epoch 65/100\n",
      "8000/8000 [==============================] - 0s 47us/sample - loss: 0.3361 - acc: 0.8624 - val_loss: 0.3363 - val_acc: 0.8600\n",
      "Epoch 66/100\n",
      "8000/8000 [==============================] - 0s 45us/sample - loss: 0.3364 - acc: 0.8634 - val_loss: 0.3362 - val_acc: 0.8595\n",
      "Epoch 67/100\n",
      "8000/8000 [==============================] - 0s 46us/sample - loss: 0.3364 - acc: 0.8626 - val_loss: 0.3332 - val_acc: 0.8620\n",
      "Epoch 68/100\n",
      "8000/8000 [==============================] - 0s 47us/sample - loss: 0.3361 - acc: 0.8629 - val_loss: 0.3360 - val_acc: 0.8590\n",
      "Epoch 69/100\n",
      "8000/8000 [==============================] - 0s 45us/sample - loss: 0.3364 - acc: 0.8626 - val_loss: 0.3345 - val_acc: 0.8595\n",
      "Epoch 70/100\n",
      "8000/8000 [==============================] - 0s 47us/sample - loss: 0.3357 - acc: 0.8619 - val_loss: 0.3340 - val_acc: 0.8625\n",
      "Epoch 71/100\n",
      "8000/8000 [==============================] - 0s 44us/sample - loss: 0.3355 - acc: 0.8621 - val_loss: 0.3336 - val_acc: 0.8625\n",
      "Epoch 72/100\n",
      "8000/8000 [==============================] - 0s 46us/sample - loss: 0.3354 - acc: 0.8637 - val_loss: 0.3332 - val_acc: 0.8630\n",
      "Epoch 73/100\n",
      "8000/8000 [==============================] - 0s 46us/sample - loss: 0.3357 - acc: 0.8624 - val_loss: 0.3326 - val_acc: 0.8630\n",
      "Epoch 74/100\n",
      "8000/8000 [==============================] - 0s 46us/sample - loss: 0.3351 - acc: 0.8643 - val_loss: 0.3338 - val_acc: 0.8625\n",
      "Epoch 75/100\n",
      "8000/8000 [==============================] - 0s 46us/sample - loss: 0.3346 - acc: 0.8625 - val_loss: 0.3318 - val_acc: 0.8650\n",
      "Epoch 76/100\n",
      "8000/8000 [==============================] - 0s 44us/sample - loss: 0.3346 - acc: 0.8622 - val_loss: 0.3380 - val_acc: 0.8620\n",
      "Epoch 77/100\n",
      "8000/8000 [==============================] - 0s 45us/sample - loss: 0.3353 - acc: 0.8644 - val_loss: 0.3335 - val_acc: 0.8620\n",
      "Epoch 78/100\n",
      "8000/8000 [==============================] - 0s 49us/sample - loss: 0.3349 - acc: 0.8634 - val_loss: 0.3332 - val_acc: 0.8650\n",
      "Epoch 79/100\n",
      "8000/8000 [==============================] - 0s 47us/sample - loss: 0.3344 - acc: 0.8629 - val_loss: 0.3356 - val_acc: 0.8625\n",
      "Epoch 80/100\n",
      "8000/8000 [==============================] - 0s 45us/sample - loss: 0.3342 - acc: 0.8621 - val_loss: 0.3316 - val_acc: 0.8620\n",
      "Epoch 81/100\n",
      "8000/8000 [==============================] - 0s 46us/sample - loss: 0.3343 - acc: 0.8622 - val_loss: 0.3365 - val_acc: 0.8595\n",
      "Epoch 82/100\n",
      "8000/8000 [==============================] - 0s 46us/sample - loss: 0.3338 - acc: 0.8640 - val_loss: 0.3338 - val_acc: 0.8625\n",
      "Epoch 83/100\n",
      "8000/8000 [==============================] - 0s 45us/sample - loss: 0.3339 - acc: 0.8619 - val_loss: 0.3343 - val_acc: 0.8625\n",
      "Epoch 84/100\n",
      "8000/8000 [==============================] - 0s 47us/sample - loss: 0.3344 - acc: 0.8637 - val_loss: 0.3318 - val_acc: 0.8615\n",
      "Epoch 85/100\n",
      "8000/8000 [==============================] - 0s 47us/sample - loss: 0.3331 - acc: 0.8645 - val_loss: 0.3344 - val_acc: 0.8635\n",
      "Epoch 86/100\n",
      "8000/8000 [==============================] - 0s 48us/sample - loss: 0.3329 - acc: 0.8644 - val_loss: 0.3356 - val_acc: 0.8620\n",
      "Epoch 87/100\n",
      "8000/8000 [==============================] - 0s 50us/sample - loss: 0.3339 - acc: 0.8640 - val_loss: 0.3352 - val_acc: 0.8630\n",
      "Epoch 88/100\n",
      "8000/8000 [==============================] - 0s 48us/sample - loss: 0.3334 - acc: 0.8636 - val_loss: 0.3316 - val_acc: 0.8595\n",
      "Epoch 89/100\n",
      "8000/8000 [==============================] - 0s 46us/sample - loss: 0.3332 - acc: 0.8630 - val_loss: 0.3327 - val_acc: 0.8635\n",
      "Epoch 90/100\n",
      "8000/8000 [==============================] - 0s 48us/sample - loss: 0.3336 - acc: 0.8630 - val_loss: 0.3346 - val_acc: 0.8630\n",
      "Epoch 91/100\n",
      "8000/8000 [==============================] - 0s 44us/sample - loss: 0.3333 - acc: 0.8648 - val_loss: 0.3392 - val_acc: 0.8620\n",
      "Epoch 92/100\n",
      "8000/8000 [==============================] - 0s 48us/sample - loss: 0.3330 - acc: 0.8641 - val_loss: 0.3317 - val_acc: 0.8620\n",
      "Epoch 93/100\n",
      "8000/8000 [==============================] - 0s 45us/sample - loss: 0.3332 - acc: 0.8644 - val_loss: 0.3338 - val_acc: 0.8625\n",
      "Epoch 94/100\n",
      "8000/8000 [==============================] - 0s 48us/sample - loss: 0.3332 - acc: 0.8649 - val_loss: 0.3324 - val_acc: 0.8615\n",
      "Epoch 95/100\n",
      "8000/8000 [==============================] - 0s 45us/sample - loss: 0.3327 - acc: 0.8634 - val_loss: 0.3310 - val_acc: 0.8625\n",
      "Epoch 96/100\n",
      "8000/8000 [==============================] - 0s 46us/sample - loss: 0.3327 - acc: 0.8633 - val_loss: 0.3319 - val_acc: 0.8620\n",
      "Epoch 97/100\n",
      "8000/8000 [==============================] - 0s 45us/sample - loss: 0.3324 - acc: 0.8616 - val_loss: 0.3326 - val_acc: 0.8600\n",
      "Epoch 98/100\n",
      "8000/8000 [==============================] - 0s 44us/sample - loss: 0.3328 - acc: 0.8648 - val_loss: 0.3348 - val_acc: 0.8645\n",
      "Epoch 99/100\n",
      "8000/8000 [==============================] - 0s 45us/sample - loss: 0.3331 - acc: 0.8652 - val_loss: 0.3325 - val_acc: 0.8625\n",
      "Epoch 100/100\n",
      "8000/8000 [==============================] - 0s 46us/sample - loss: 0.3327 - acc: 0.8634 - val_loss: 0.3332 - val_acc: 0.8610\n"
     ]
    },
    {
     "data": {
      "text/plain": [
       "<tensorflow.python.keras.callbacks.History at 0x7fdf240537b8>"
      ]
     },
     "execution_count": 28,
     "metadata": {
      "tags": []
     },
     "output_type": "execute_result"
    }
   ],
   "source": [
    "model.fit(X_train, y_train, validation_data=(X_test, y_test), epochs=100, batch_size=32)"
   ]
  },
  {
   "cell_type": "code",
   "execution_count": 0,
   "metadata": {
    "colab": {},
    "colab_type": "code",
    "id": "De-zrfQjlEiT"
   },
   "outputs": [],
   "source": [
    "#Predict the results using 0.5 as a threshold\n",
    "y_pred = model.predict(X_test)\n",
    "y_pred = (y_pred > 0.5)"
   ]
  },
  {
   "cell_type": "code",
   "execution_count": 30,
   "metadata": {
    "colab": {
     "base_uri": "https://localhost:8080/",
     "height": 141
    },
    "colab_type": "code",
    "id": "1GFzwrjqmD9P",
    "outputId": "900c0e30-e90f-4474-8553-a82d26b86c5e"
   },
   "outputs": [
    {
     "data": {
      "text/plain": [
       "array([[False],\n",
       "       [False],\n",
       "       [False],\n",
       "       ...,\n",
       "       [False],\n",
       "       [False],\n",
       "       [False]])"
      ]
     },
     "execution_count": 30,
     "metadata": {
      "tags": []
     },
     "output_type": "execute_result"
    }
   ],
   "source": [
    "y_pred"
   ]
  },
  {
   "cell_type": "code",
   "execution_count": 31,
   "metadata": {
    "colab": {
     "base_uri": "https://localhost:8080/",
     "height": 139
    },
    "colab_type": "code",
    "id": "MQiZD_c5mLYA",
    "outputId": "47c6cbd7-7ba8-47a8-b8b7-b91b4e219f01"
   },
   "outputs": [
    {
     "data": {
      "text/html": [
       "<div>\n",
       "<style scoped>\n",
       "    .dataframe tbody tr th:only-of-type {\n",
       "        vertical-align: middle;\n",
       "    }\n",
       "\n",
       "    .dataframe tbody tr th {\n",
       "        vertical-align: top;\n",
       "    }\n",
       "\n",
       "    .dataframe thead th {\n",
       "        text-align: right;\n",
       "    }\n",
       "</style>\n",
       "<table border=\"1\" class=\"dataframe\">\n",
       "  <thead>\n",
       "    <tr style=\"text-align: right;\">\n",
       "      <th>ModelPredicted</th>\n",
       "      <th>No</th>\n",
       "      <th>Yes</th>\n",
       "    </tr>\n",
       "    <tr>\n",
       "      <th>Actual</th>\n",
       "      <th></th>\n",
       "      <th></th>\n",
       "    </tr>\n",
       "  </thead>\n",
       "  <tbody>\n",
       "    <tr>\n",
       "      <th>No</th>\n",
       "      <td>1533</td>\n",
       "      <td>52</td>\n",
       "    </tr>\n",
       "    <tr>\n",
       "      <th>Yes</th>\n",
       "      <td>226</td>\n",
       "      <td>189</td>\n",
       "    </tr>\n",
       "  </tbody>\n",
       "</table>\n",
       "</div>"
      ],
      "text/plain": [
       "ModelPredicted    No  Yes\n",
       "Actual                   \n",
       "No              1533   52\n",
       "Yes              226  189"
      ]
     },
     "execution_count": 31,
     "metadata": {
      "tags": []
     },
     "output_type": "execute_result"
    }
   ],
   "source": [
    "# Print the Accuracy score and confusion matrix\n",
    "from sklearn.metrics import confusion_matrix\n",
    "cMatrix = pd.DataFrame(confusion_matrix(y_test, y_pred), index=['No', 'Yes'], columns=['No', 'Yes'])\n",
    "cMatrix.index.name = 'Actual'\n",
    "cMatrix.columns.name = 'ModelPredicted'\n",
    "cMatrix"
   ]
  },
  {
   "cell_type": "code",
   "execution_count": 0,
   "metadata": {
    "colab": {},
    "colab_type": "code",
    "id": "xPMVGsllmTLe"
   },
   "outputs": [],
   "source": [
    "train_acc = model.evaluate(X_train, y_train,verbose = 0)\n",
    "test_acc = model.evaluate(X_test, y_test,verbose = 0)"
   ]
  },
  {
   "cell_type": "code",
   "execution_count": 34,
   "metadata": {
    "colab": {
     "base_uri": "https://localhost:8080/",
     "height": 35
    },
    "colab_type": "code",
    "id": "-RTvWiyDmglZ",
    "outputId": "04b9e45f-3ca1-4e39-82a9-832ed56da376"
   },
   "outputs": [
    {
     "name": "stdout",
     "output_type": "stream",
     "text": [
      "The Train accuracy is -  0.865125 The test accuracy is -  0.861\n"
     ]
    }
   ],
   "source": [
    "print('The Train accuracy is - ',train_acc[1], 'The test accuracy is - ', test_acc[1])"
   ]
  },
  {
   "cell_type": "code",
   "execution_count": 0,
   "metadata": {
    "colab": {},
    "colab_type": "code",
    "id": "VA4C5himmwc-"
   },
   "outputs": [],
   "source": []
  }
 ],
 "metadata": {
  "colab": {
   "name": "Neural_Networks_Project1.ipynb",
   "provenance": []
  },
  "kernelspec": {
   "display_name": "Python 3",
   "language": "python",
   "name": "python3"
  },
  "language_info": {
   "codemirror_mode": {
    "name": "ipython",
    "version": 3
   },
   "file_extension": ".py",
   "mimetype": "text/x-python",
   "name": "python",
   "nbconvert_exporter": "python",
   "pygments_lexer": "ipython3",
   "version": "3.7.4"
  }
 },
 "nbformat": 4,
 "nbformat_minor": 1
}
