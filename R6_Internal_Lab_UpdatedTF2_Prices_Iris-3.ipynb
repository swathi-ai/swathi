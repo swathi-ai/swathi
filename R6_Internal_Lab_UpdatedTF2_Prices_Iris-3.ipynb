{
 "cells": [
  {
   "cell_type": "markdown",
   "metadata": {
    "colab_type": "text",
    "id": "84Q8JfvaeZZ6"
   },
   "source": [
    "## Linear Classifier in TensorFlow \n",
    "Using Low Level API in Eager Execution mode"
   ]
  },
  {
   "cell_type": "markdown",
   "metadata": {
    "colab_type": "text",
    "id": "sb7Epo0VOB58"
   },
   "source": [
    "### Load tensorflow"
   ]
  },
  {
   "cell_type": "code",
   "execution_count": 1,
   "metadata": {
    "colab": {},
    "colab_type": "code",
    "id": "fHpCNRv1OB5-"
   },
   "outputs": [],
   "source": [
    "import tensorflow as tf"
   ]
  },
  {
   "cell_type": "code",
   "execution_count": 2,
   "metadata": {
    "colab": {},
    "colab_type": "code",
    "id": "Mjtb-EMcm5K0"
   },
   "outputs": [],
   "source": [
    "#Enable Eager Execution if using tensflow version < 2.0\n",
    "#From tensorflow v2.0 onwards, Eager Execution will be enabled by default\n"
   ]
  },
  {
   "cell_type": "markdown",
   "metadata": {
    "colab_type": "text",
    "id": "DxJDmJqqOB6K",
    "slideshow": {
     "slide_type": "slide"
    }
   },
   "source": [
    "### Collect Data"
   ]
  },
  {
   "cell_type": "code",
   "execution_count": 3,
   "metadata": {
    "colab": {},
    "colab_type": "code",
    "id": "FhllFLyKOB6N"
   },
   "outputs": [],
   "source": [
    "#from google.colab import drive\n",
    "#drive.mount('/gdrive')"
   ]
  },
  {
   "cell_type": "code",
   "execution_count": 4,
   "metadata": {
    "colab": {},
    "colab_type": "code",
    "id": "KiObW4V4SIOz"
   },
   "outputs": [],
   "source": [
    "import pandas as pd\n",
    "import numpy as np"
   ]
  },
  {
   "cell_type": "code",
   "execution_count": 5,
   "metadata": {
    "colab": {},
    "colab_type": "code",
    "id": "B4yQKMiJOB6R"
   },
   "outputs": [],
   "source": [
    "data = pd.read_csv('prices.csv')"
   ]
  },
  {
   "cell_type": "markdown",
   "metadata": {
    "colab_type": "text",
    "id": "fgkX6SEqOB6W"
   },
   "source": [
    "### Check all columns in the dataset"
   ]
  },
  {
   "cell_type": "code",
   "execution_count": 6,
   "metadata": {
    "colab": {},
    "colab_type": "code",
    "id": "7K8pWsNQOB6X"
   },
   "outputs": [
    {
     "data": {
      "text/plain": [
       "Index(['date', 'symbol', 'open', 'close', 'low', 'high', 'volume'], dtype='object')"
      ]
     },
     "execution_count": 6,
     "metadata": {},
     "output_type": "execute_result"
    }
   ],
   "source": [
    "data.columns"
   ]
  },
  {
   "cell_type": "markdown",
   "metadata": {
    "colab_type": "text",
    "id": "7dU6X7MpOB6c"
   },
   "source": [
    "### Drop columns `date` and  `symbol`"
   ]
  },
  {
   "cell_type": "code",
   "execution_count": 7,
   "metadata": {
    "colab": {},
    "colab_type": "code",
    "id": "lh_6spSKOB6e"
   },
   "outputs": [],
   "source": [
    "data.drop(['date', 'symbol'], axis = 1, inplace = True)"
   ]
  },
  {
   "cell_type": "code",
   "execution_count": 8,
   "metadata": {
    "colab": {},
    "colab_type": "code",
    "id": "xlwbUgTwOB6i",
    "outputId": "56bad82a-f271-415a-e0d6-cbe1c4290743"
   },
   "outputs": [
    {
     "data": {
      "text/html": [
       "<div>\n",
       "<style scoped>\n",
       "    .dataframe tbody tr th:only-of-type {\n",
       "        vertical-align: middle;\n",
       "    }\n",
       "\n",
       "    .dataframe tbody tr th {\n",
       "        vertical-align: top;\n",
       "    }\n",
       "\n",
       "    .dataframe thead th {\n",
       "        text-align: right;\n",
       "    }\n",
       "</style>\n",
       "<table border=\"1\" class=\"dataframe\">\n",
       "  <thead>\n",
       "    <tr style=\"text-align: right;\">\n",
       "      <th></th>\n",
       "      <th>open</th>\n",
       "      <th>close</th>\n",
       "      <th>low</th>\n",
       "      <th>high</th>\n",
       "      <th>volume</th>\n",
       "    </tr>\n",
       "  </thead>\n",
       "  <tbody>\n",
       "    <tr>\n",
       "      <th>0</th>\n",
       "      <td>123.430000</td>\n",
       "      <td>125.839996</td>\n",
       "      <td>122.309998</td>\n",
       "      <td>126.250000</td>\n",
       "      <td>2163600.0</td>\n",
       "    </tr>\n",
       "    <tr>\n",
       "      <th>1</th>\n",
       "      <td>125.239998</td>\n",
       "      <td>119.980003</td>\n",
       "      <td>119.940002</td>\n",
       "      <td>125.540001</td>\n",
       "      <td>2386400.0</td>\n",
       "    </tr>\n",
       "    <tr>\n",
       "      <th>2</th>\n",
       "      <td>116.379997</td>\n",
       "      <td>114.949997</td>\n",
       "      <td>114.930000</td>\n",
       "      <td>119.739998</td>\n",
       "      <td>2489500.0</td>\n",
       "    </tr>\n",
       "    <tr>\n",
       "      <th>3</th>\n",
       "      <td>115.480003</td>\n",
       "      <td>116.620003</td>\n",
       "      <td>113.500000</td>\n",
       "      <td>117.440002</td>\n",
       "      <td>2006300.0</td>\n",
       "    </tr>\n",
       "    <tr>\n",
       "      <th>4</th>\n",
       "      <td>117.010002</td>\n",
       "      <td>114.970001</td>\n",
       "      <td>114.089996</td>\n",
       "      <td>117.330002</td>\n",
       "      <td>1408600.0</td>\n",
       "    </tr>\n",
       "  </tbody>\n",
       "</table>\n",
       "</div>"
      ],
      "text/plain": [
       "         open       close         low        high     volume\n",
       "0  123.430000  125.839996  122.309998  126.250000  2163600.0\n",
       "1  125.239998  119.980003  119.940002  125.540001  2386400.0\n",
       "2  116.379997  114.949997  114.930000  119.739998  2489500.0\n",
       "3  115.480003  116.620003  113.500000  117.440002  2006300.0\n",
       "4  117.010002  114.970001  114.089996  117.330002  1408600.0"
      ]
     },
     "execution_count": 8,
     "metadata": {},
     "output_type": "execute_result"
    }
   ],
   "source": [
    "data.head()"
   ]
  },
  {
   "cell_type": "markdown",
   "metadata": {
    "colab_type": "text",
    "id": "3DBv3WWYOB6q"
   },
   "source": [
    "### Consider only first 1000 rows in the dataset for building feature set and target set\n",
    "Target 'Volume' has very high values. Divide 'Volume' by 1000,000"
   ]
  },
  {
   "cell_type": "code",
   "execution_count": 9,
   "metadata": {
    "colab": {},
    "colab_type": "code",
    "id": "Z_hG9rGBOB6s"
   },
   "outputs": [
    {
     "data": {
      "text/plain": [
       "(851264, 5)"
      ]
     },
     "execution_count": 9,
     "metadata": {},
     "output_type": "execute_result"
    }
   ],
   "source": [
    "data.shape"
   ]
  },
  {
   "cell_type": "code",
   "execution_count": 10,
   "metadata": {},
   "outputs": [],
   "source": [
    "data = data.iloc[:1000]"
   ]
  },
  {
   "cell_type": "code",
   "execution_count": 11,
   "metadata": {},
   "outputs": [
    {
     "data": {
      "text/plain": [
       "(1000, 5)"
      ]
     },
     "execution_count": 11,
     "metadata": {},
     "output_type": "execute_result"
    }
   ],
   "source": [
    "data.shape"
   ]
  },
  {
   "cell_type": "code",
   "execution_count": 12,
   "metadata": {},
   "outputs": [],
   "source": [
    "data['volume'] = data['volume'] /1000000"
   ]
  },
  {
   "cell_type": "code",
   "execution_count": 13,
   "metadata": {},
   "outputs": [
    {
     "data": {
      "text/html": [
       "<div>\n",
       "<style scoped>\n",
       "    .dataframe tbody tr th:only-of-type {\n",
       "        vertical-align: middle;\n",
       "    }\n",
       "\n",
       "    .dataframe tbody tr th {\n",
       "        vertical-align: top;\n",
       "    }\n",
       "\n",
       "    .dataframe thead th {\n",
       "        text-align: right;\n",
       "    }\n",
       "</style>\n",
       "<table border=\"1\" class=\"dataframe\">\n",
       "  <thead>\n",
       "    <tr style=\"text-align: right;\">\n",
       "      <th></th>\n",
       "      <th>open</th>\n",
       "      <th>close</th>\n",
       "      <th>low</th>\n",
       "      <th>high</th>\n",
       "      <th>volume</th>\n",
       "    </tr>\n",
       "  </thead>\n",
       "  <tbody>\n",
       "    <tr>\n",
       "      <th>0</th>\n",
       "      <td>123.430000</td>\n",
       "      <td>125.839996</td>\n",
       "      <td>122.309998</td>\n",
       "      <td>126.250000</td>\n",
       "      <td>2.1636</td>\n",
       "    </tr>\n",
       "    <tr>\n",
       "      <th>1</th>\n",
       "      <td>125.239998</td>\n",
       "      <td>119.980003</td>\n",
       "      <td>119.940002</td>\n",
       "      <td>125.540001</td>\n",
       "      <td>2.3864</td>\n",
       "    </tr>\n",
       "    <tr>\n",
       "      <th>2</th>\n",
       "      <td>116.379997</td>\n",
       "      <td>114.949997</td>\n",
       "      <td>114.930000</td>\n",
       "      <td>119.739998</td>\n",
       "      <td>2.4895</td>\n",
       "    </tr>\n",
       "    <tr>\n",
       "      <th>3</th>\n",
       "      <td>115.480003</td>\n",
       "      <td>116.620003</td>\n",
       "      <td>113.500000</td>\n",
       "      <td>117.440002</td>\n",
       "      <td>2.0063</td>\n",
       "    </tr>\n",
       "    <tr>\n",
       "      <th>4</th>\n",
       "      <td>117.010002</td>\n",
       "      <td>114.970001</td>\n",
       "      <td>114.089996</td>\n",
       "      <td>117.330002</td>\n",
       "      <td>1.4086</td>\n",
       "    </tr>\n",
       "  </tbody>\n",
       "</table>\n",
       "</div>"
      ],
      "text/plain": [
       "         open       close         low        high  volume\n",
       "0  123.430000  125.839996  122.309998  126.250000  2.1636\n",
       "1  125.239998  119.980003  119.940002  125.540001  2.3864\n",
       "2  116.379997  114.949997  114.930000  119.739998  2.4895\n",
       "3  115.480003  116.620003  113.500000  117.440002  2.0063\n",
       "4  117.010002  114.970001  114.089996  117.330002  1.4086"
      ]
     },
     "execution_count": 13,
     "metadata": {},
     "output_type": "execute_result"
    }
   ],
   "source": [
    "data.head()"
   ]
  },
  {
   "cell_type": "code",
   "execution_count": 14,
   "metadata": {},
   "outputs": [],
   "source": [
    "X = data.drop('volume', axis = 1)\n",
    "y = data['volume']"
   ]
  },
  {
   "cell_type": "markdown",
   "metadata": {
    "colab_type": "text",
    "id": "M3UaApqYOB6x"
   },
   "source": [
    "### Divide the data into train and test sets"
   ]
  },
  {
   "cell_type": "code",
   "execution_count": 15,
   "metadata": {
    "colab": {},
    "colab_type": "code",
    "id": "4LE4U8lTdQJq"
   },
   "outputs": [],
   "source": [
    "from sklearn.model_selection import train_test_split"
   ]
  },
  {
   "cell_type": "code",
   "execution_count": 16,
   "metadata": {},
   "outputs": [],
   "source": [
    "train_x, test_x, train_y, test_y = train_test_split(X, y, test_size=0.30, random_state=1)"
   ]
  },
  {
   "cell_type": "markdown",
   "metadata": {
    "colab_type": "text",
    "id": "oYK-aUuLbrz2"
   },
   "source": [
    "#### Convert Training and Test Data to numpy float32 arrays\n"
   ]
  },
  {
   "cell_type": "code",
   "execution_count": 17,
   "metadata": {
    "colab": {},
    "colab_type": "code",
    "id": "Ao-S0tQGcncz"
   },
   "outputs": [],
   "source": [
    "train_x = train_x.astype('float32')\n",
    "train_y = train_y.astype('float32')\n",
    "test_x = test_x.astype('float32')\n",
    "test_y = test_y.astype('float32')"
   ]
  },
  {
   "cell_type": "code",
   "execution_count": 18,
   "metadata": {},
   "outputs": [
    {
     "name": "stdout",
     "output_type": "stream",
     "text": [
      "(700, 4)\n",
      "(700,)\n"
     ]
    }
   ],
   "source": [
    "print(train_x.shape)\n",
    "print(train_y.shape)"
   ]
  },
  {
   "cell_type": "markdown",
   "metadata": {
    "colab_type": "text",
    "id": "im1ZegbDdKgv"
   },
   "source": [
    "### Normalize the data\n",
    "You can use Normalizer from sklearn.preprocessing"
   ]
  },
  {
   "cell_type": "code",
   "execution_count": 19,
   "metadata": {
    "colab": {},
    "colab_type": "code",
    "id": "2EkKAy7fOB6y"
   },
   "outputs": [],
   "source": [
    "from sklearn.preprocessing import Normalizer"
   ]
  },
  {
   "cell_type": "code",
   "execution_count": 20,
   "metadata": {},
   "outputs": [],
   "source": [
    "transformer = Normalizer()\n",
    "train_x = transformer.fit_transform(train_x)"
   ]
  },
  {
   "cell_type": "code",
   "execution_count": 21,
   "metadata": {},
   "outputs": [
    {
     "data": {
      "text/plain": [
       "array([0.50184363, 0.49967504, 0.4953379 , 0.5031086 ], dtype=float32)"
      ]
     },
     "execution_count": 21,
     "metadata": {},
     "output_type": "execute_result"
    }
   ],
   "source": [
    "train_x[0]"
   ]
  },
  {
   "cell_type": "markdown",
   "metadata": {
    "colab_type": "text",
    "id": "v6vE4eYCOB62",
    "slideshow": {
     "slide_type": "slide"
    }
   },
   "source": [
    "## Building the Model in tensorflow"
   ]
  },
  {
   "cell_type": "markdown",
   "metadata": {
    "colab_type": "text",
    "id": "297_qja4OB7A",
    "slideshow": {
     "slide_type": "slide"
    }
   },
   "source": [
    "1.Define Weights and Bias, use tf.zeros to initialize weights and Bias"
   ]
  },
  {
   "cell_type": "code",
   "execution_count": 22,
   "metadata": {
    "colab": {},
    "colab_type": "code",
    "id": "L205qPeQOB7B"
   },
   "outputs": [],
   "source": [
    "w = tf.zeros(shape=(4,1))\n",
    "b = tf.zeros(shape=(1))"
   ]
  },
  {
   "cell_type": "markdown",
   "metadata": {
    "colab_type": "text",
    "id": "HgtWA-UIOB7F",
    "slideshow": {
     "slide_type": "slide"
    }
   },
   "source": [
    "2.Define a function to calculate prediction"
   ]
  },
  {
   "cell_type": "code",
   "execution_count": 23,
   "metadata": {
    "colab": {},
    "colab_type": "code",
    "id": "JveGlx25OB7H"
   },
   "outputs": [],
   "source": [
    "def prediction(x, w, b):\n",
    "    xw_matmul= tf.matmul(x, w)\n",
    "    y = tf.add(xw_matmul, b)\n",
    "    return y"
   ]
  },
  {
   "cell_type": "markdown",
   "metadata": {
    "colab_type": "text",
    "id": "TL1hIwf_OB7M",
    "slideshow": {
     "slide_type": "slide"
    }
   },
   "source": [
    "3.Loss (Cost) Function [Mean square error]"
   ]
  },
  {
   "cell_type": "code",
   "execution_count": 24,
   "metadata": {
    "colab": {},
    "colab_type": "code",
    "id": "8VSWPiGXOB7P"
   },
   "outputs": [],
   "source": [
    "def loss(y_actual, y_predicted):\n",
    "    diff = y_actual-y_predicted\n",
    "    sqr = tf.square(diff)\n",
    "    avg = tf.reduce_mean(sqr)\n",
    "    return avg\n",
    "    "
   ]
  },
  {
   "cell_type": "markdown",
   "metadata": {
    "colab_type": "text",
    "id": "jzG85FUlOB7U",
    "slideshow": {
     "slide_type": "slide"
    }
   },
   "source": [
    "4.Function to train the Model\n",
    "\n",
    "1.   Record all the mathematical steps to calculate Loss\n",
    "2.   Calculate Gradients of Loss w.r.t weights and bias\n",
    "3.   Update Weights and Bias based on gradients and learning rate to minimize loss"
   ]
  },
  {
   "cell_type": "code",
   "execution_count": 27,
   "metadata": {
    "colab": {},
    "colab_type": "code",
    "id": "cj802w-3OB7X"
   },
   "outputs": [],
   "source": [
    "def train(x, y_actual, w, b, learning_rate=0.01):\n",
    "    \n",
    "    #Record mathematical operations on 'tape' to calculate loss\n",
    "    with tf.GradientTape() as t:\n",
    "        \n",
    "        t.watch([w,b])\n",
    "        \n",
    "        current_prediction = prediction(x, w, b)\n",
    "        current_loss = loss(y_actual, current_prediction)\n",
    "    \n",
    "    #Calculate Gradients for Loss with respect to Weights and Bias\n",
    "    dw, db = t.gradient(current_loss,[w, b])\n",
    "    \n",
    "    #Update Weights and Bias\n",
    "    w = w - learning_rate*dw\n",
    "    b = b - learning_rate*db\n",
    "    \n",
    "    return w, b"
   ]
  },
  {
   "cell_type": "markdown",
   "metadata": {
    "colab_type": "text",
    "id": "xSypb_u8OB7e",
    "slideshow": {
     "slide_type": "slide"
    }
   },
   "source": [
    "## Train the model for 100 epochs \n",
    "1. Observe the training loss at every iteration\n",
    "2. Observe Train loss at every 5th iteration"
   ]
  },
  {
   "cell_type": "code",
   "execution_count": 28,
   "metadata": {},
   "outputs": [],
   "source": [
    "train_y = np.array(train_y)"
   ]
  },
  {
   "cell_type": "code",
   "execution_count": 29,
   "metadata": {
    "colab": {},
    "colab_type": "code",
    "id": "DVvgj7eQOB7f"
   },
   "outputs": [
    {
     "name": "stdout",
     "output_type": "stream",
     "text": [
      "Current Loss on iteration 0 223.49039\n",
      "Current Loss on iteration 1 221.28828\n",
      "Current Loss on iteration 2 219.259\n",
      "Current Loss on iteration 3 217.38876\n",
      "Current Loss on iteration 4 215.66518\n",
      "Current Loss on iteration 5 214.07668\n",
      "Current Loss on iteration 6 212.61267\n",
      "Current Loss on iteration 7 211.26349\n",
      "Current Loss on iteration 8 210.02014\n",
      "Current Loss on iteration 9 208.8744\n",
      "Current Loss on iteration 10 207.81828\n",
      "Current Loss on iteration 11 206.84483\n",
      "Current Loss on iteration 12 205.94783\n",
      "Current Loss on iteration 13 205.12126\n",
      "Current Loss on iteration 14 204.35939\n",
      "Current Loss on iteration 15 203.65736\n",
      "Current Loss on iteration 16 203.01028\n",
      "Current Loss on iteration 17 202.41388\n",
      "Current Loss on iteration 18 201.86418\n",
      "Current Loss on iteration 19 201.35777\n",
      "Current Loss on iteration 20 200.89095\n",
      "Current Loss on iteration 21 200.46075\n",
      "Current Loss on iteration 22 200.06422\n",
      "Current Loss on iteration 23 199.69884\n",
      "Current Loss on iteration 24 199.36218\n",
      "Current Loss on iteration 25 199.05173\n",
      "Current Loss on iteration 26 198.76591\n",
      "Current Loss on iteration 27 198.50227\n",
      "Current Loss on iteration 28 198.25922\n",
      "Current Loss on iteration 29 198.03537\n",
      "Current Loss on iteration 30 197.82901\n",
      "Current Loss on iteration 31 197.63885\n",
      "Current Loss on iteration 32 197.46367\n",
      "Current Loss on iteration 33 197.3021\n",
      "Current Loss on iteration 34 197.15337\n",
      "Current Loss on iteration 35 197.01613\n",
      "Current Loss on iteration 36 196.88963\n",
      "Current Loss on iteration 37 196.77303\n",
      "Current Loss on iteration 38 196.66576\n",
      "Current Loss on iteration 39 196.56677\n",
      "Current Loss on iteration 40 196.4757\n",
      "Current Loss on iteration 41 196.3915\n",
      "Current Loss on iteration 42 196.31404\n",
      "Current Loss on iteration 43 196.24268\n",
      "Current Loss on iteration 44 196.17696\n",
      "Current Loss on iteration 45 196.11624\n",
      "Current Loss on iteration 46 196.06035\n",
      "Current Loss on iteration 47 196.00888\n",
      "Current Loss on iteration 48 195.96152\n",
      "Current Loss on iteration 49 195.91772\n",
      "Current Loss on iteration 50 195.87732\n",
      "Current Loss on iteration 51 195.84013\n",
      "Current Loss on iteration 52 195.80603\n",
      "Current Loss on iteration 53 195.77457\n",
      "Current Loss on iteration 54 195.7453\n",
      "Current Loss on iteration 55 195.71863\n",
      "Current Loss on iteration 56 195.69397\n",
      "Current Loss on iteration 57 195.67105\n",
      "Current Loss on iteration 58 195.65013\n",
      "Current Loss on iteration 59 195.63074\n",
      "Current Loss on iteration 60 195.61305\n",
      "Current Loss on iteration 61 195.59663\n",
      "Current Loss on iteration 62 195.58142\n",
      "Current Loss on iteration 63 195.56747\n",
      "Current Loss on iteration 64 195.5547\n",
      "Current Loss on iteration 65 195.5428\n",
      "Current Loss on iteration 66 195.53189\n",
      "Current Loss on iteration 67 195.52184\n",
      "Current Loss on iteration 68 195.51256\n",
      "Current Loss on iteration 69 195.50394\n",
      "Current Loss on iteration 70 195.49623\n",
      "Current Loss on iteration 71 195.48878\n",
      "Current Loss on iteration 72 195.48209\n",
      "Current Loss on iteration 73 195.47615\n",
      "Current Loss on iteration 74 195.47023\n",
      "Current Loss on iteration 75 195.46506\n",
      "Current Loss on iteration 76 195.46024\n",
      "Current Loss on iteration 77 195.45581\n",
      "Current Loss on iteration 78 195.45168\n",
      "Current Loss on iteration 79 195.44803\n",
      "Current Loss on iteration 80 195.4445\n",
      "Current Loss on iteration 81 195.44121\n",
      "Current Loss on iteration 82 195.43834\n",
      "Current Loss on iteration 83 195.4356\n",
      "Current Loss on iteration 84 195.433\n",
      "Current Loss on iteration 85 195.43063\n",
      "Current Loss on iteration 86 195.42867\n",
      "Current Loss on iteration 87 195.42668\n",
      "Current Loss on iteration 88 195.42479\n",
      "Current Loss on iteration 89 195.42308\n",
      "Current Loss on iteration 90 195.42162\n",
      "Current Loss on iteration 91 195.42035\n",
      "Current Loss on iteration 92 195.4189\n",
      "Current Loss on iteration 93 195.41757\n",
      "Current Loss on iteration 94 195.41655\n",
      "Current Loss on iteration 95 195.41551\n",
      "Current Loss on iteration 96 195.41473\n",
      "Current Loss on iteration 97 195.41368\n",
      "Current Loss on iteration 98 195.413\n",
      "Current Loss on iteration 99 195.41214\n"
     ]
    }
   ],
   "source": [
    "for i in range(100):\n",
    "    \n",
    "    w, b = train(train_x, train_y, w, b)\n",
    "    print('Current Loss on iteration', i, loss(train_y, prediction(train_x, w, b)).numpy())"
   ]
  },
  {
   "cell_type": "markdown",
   "metadata": {
    "colab_type": "text",
    "id": "DOL2ncA1OB7q"
   },
   "source": [
    "### Get the shapes and values of W and b"
   ]
  },
  {
   "cell_type": "code",
   "execution_count": 30,
   "metadata": {
    "colab": {},
    "colab_type": "code",
    "id": "ZGvtyTeuOB7r"
   },
   "outputs": [
    {
     "name": "stdout",
     "output_type": "stream",
     "text": [
      "Weights:\n",
      " [[1.3549175]\n",
      " [1.3598167]\n",
      " [1.3410656]\n",
      " [1.3713948]]\n",
      "Bias:\n",
      " [2.7137554]\n"
     ]
    }
   ],
   "source": [
    "print('Weights:\\n', w.numpy())\n",
    "print('Bias:\\n',b.numpy())"
   ]
  },
  {
   "cell_type": "code",
   "execution_count": 31,
   "metadata": {},
   "outputs": [
    {
     "data": {
      "text/plain": [
       "TensorShape([4, 1])"
      ]
     },
     "execution_count": 31,
     "metadata": {},
     "output_type": "execute_result"
    }
   ],
   "source": [
    "w.shape"
   ]
  },
  {
   "cell_type": "code",
   "execution_count": 32,
   "metadata": {
    "colab": {},
    "colab_type": "code",
    "id": "vhDtOv5UOB7x"
   },
   "outputs": [
    {
     "data": {
      "text/plain": [
       "TensorShape([1])"
      ]
     },
     "execution_count": 32,
     "metadata": {},
     "output_type": "execute_result"
    }
   ],
   "source": [
    "b.shape"
   ]
  },
  {
   "cell_type": "markdown",
   "metadata": {
    "colab_type": "text",
    "id": "ERq9GOKKciho"
   },
   "source": [
    "### Model Prediction on 1st Examples in Test Dataset"
   ]
  },
  {
   "cell_type": "code",
   "execution_count": 33,
   "metadata": {},
   "outputs": [],
   "source": [
    "test_x = transformer.fit_transform(test_x)"
   ]
  },
  {
   "cell_type": "code",
   "execution_count": 34,
   "metadata": {
    "colab": {},
    "colab_type": "code",
    "id": "gKGvUWahcihp"
   },
   "outputs": [
    {
     "data": {
      "text/plain": [
       "array([[5.427437]], dtype=float32)"
      ]
     },
     "execution_count": 34,
     "metadata": {},
     "output_type": "execute_result"
    }
   ],
   "source": [
    "prediction(test_x[0:1], w, b).numpy()"
   ]
  },
  {
   "cell_type": "markdown",
   "metadata": {
    "colab_type": "text",
    "id": "YJRBuqXhOB7_"
   },
   "source": [
    "## Classification using tf.Keras\n",
    "\n",
    "In this exercise, we will build a Deep Neural Network using tf.Keras. We will use Iris Dataset for this exercise."
   ]
  },
  {
   "cell_type": "markdown",
   "metadata": {
    "colab_type": "text",
    "id": "O0g6lorycihf"
   },
   "source": [
    "### Load the given Iris data using pandas (Iris.csv)"
   ]
  },
  {
   "cell_type": "code",
   "execution_count": 35,
   "metadata": {
    "colab": {},
    "colab_type": "code",
    "id": "6xFvb5sRcihg"
   },
   "outputs": [],
   "source": [
    "iris = pd.read_csv('iris-2.csv')"
   ]
  },
  {
   "cell_type": "code",
   "execution_count": 36,
   "metadata": {},
   "outputs": [
    {
     "data": {
      "text/plain": [
       "(150, 6)"
      ]
     },
     "execution_count": 36,
     "metadata": {},
     "output_type": "execute_result"
    }
   ],
   "source": [
    "iris.shape"
   ]
  },
  {
   "cell_type": "code",
   "execution_count": 37,
   "metadata": {},
   "outputs": [
    {
     "data": {
      "text/html": [
       "<div>\n",
       "<style scoped>\n",
       "    .dataframe tbody tr th:only-of-type {\n",
       "        vertical-align: middle;\n",
       "    }\n",
       "\n",
       "    .dataframe tbody tr th {\n",
       "        vertical-align: top;\n",
       "    }\n",
       "\n",
       "    .dataframe thead th {\n",
       "        text-align: right;\n",
       "    }\n",
       "</style>\n",
       "<table border=\"1\" class=\"dataframe\">\n",
       "  <thead>\n",
       "    <tr style=\"text-align: right;\">\n",
       "      <th></th>\n",
       "      <th>Id</th>\n",
       "      <th>SepalLengthCm</th>\n",
       "      <th>SepalWidthCm</th>\n",
       "      <th>PetalLengthCm</th>\n",
       "      <th>PetalWidthCm</th>\n",
       "      <th>Species</th>\n",
       "    </tr>\n",
       "  </thead>\n",
       "  <tbody>\n",
       "    <tr>\n",
       "      <th>0</th>\n",
       "      <td>1</td>\n",
       "      <td>5.1</td>\n",
       "      <td>3.5</td>\n",
       "      <td>1.4</td>\n",
       "      <td>0.2</td>\n",
       "      <td>Iris-setosa</td>\n",
       "    </tr>\n",
       "    <tr>\n",
       "      <th>1</th>\n",
       "      <td>2</td>\n",
       "      <td>4.9</td>\n",
       "      <td>3.0</td>\n",
       "      <td>1.4</td>\n",
       "      <td>0.2</td>\n",
       "      <td>Iris-setosa</td>\n",
       "    </tr>\n",
       "    <tr>\n",
       "      <th>2</th>\n",
       "      <td>3</td>\n",
       "      <td>4.7</td>\n",
       "      <td>3.2</td>\n",
       "      <td>1.3</td>\n",
       "      <td>0.2</td>\n",
       "      <td>Iris-setosa</td>\n",
       "    </tr>\n",
       "    <tr>\n",
       "      <th>3</th>\n",
       "      <td>4</td>\n",
       "      <td>4.6</td>\n",
       "      <td>3.1</td>\n",
       "      <td>1.5</td>\n",
       "      <td>0.2</td>\n",
       "      <td>Iris-setosa</td>\n",
       "    </tr>\n",
       "    <tr>\n",
       "      <th>4</th>\n",
       "      <td>5</td>\n",
       "      <td>5.0</td>\n",
       "      <td>3.6</td>\n",
       "      <td>1.4</td>\n",
       "      <td>0.2</td>\n",
       "      <td>Iris-setosa</td>\n",
       "    </tr>\n",
       "  </tbody>\n",
       "</table>\n",
       "</div>"
      ],
      "text/plain": [
       "   Id  SepalLengthCm  SepalWidthCm  PetalLengthCm  PetalWidthCm      Species\n",
       "0   1            5.1           3.5            1.4           0.2  Iris-setosa\n",
       "1   2            4.9           3.0            1.4           0.2  Iris-setosa\n",
       "2   3            4.7           3.2            1.3           0.2  Iris-setosa\n",
       "3   4            4.6           3.1            1.5           0.2  Iris-setosa\n",
       "4   5            5.0           3.6            1.4           0.2  Iris-setosa"
      ]
     },
     "execution_count": 37,
     "metadata": {},
     "output_type": "execute_result"
    }
   ],
   "source": [
    "iris.head()"
   ]
  },
  {
   "cell_type": "code",
   "execution_count": 38,
   "metadata": {},
   "outputs": [],
   "source": [
    "iris = iris.drop('Id', axis = 1)"
   ]
  },
  {
   "cell_type": "markdown",
   "metadata": {
    "colab_type": "text",
    "id": "SAB--Qdwcihm"
   },
   "source": [
    "### Target set has different categories. So, Label encode them. And convert into one-hot vectors using get_dummies in pandas."
   ]
  },
  {
   "cell_type": "code",
   "execution_count": 39,
   "metadata": {
    "colab": {},
    "colab_type": "code",
    "id": "IJr5dYnocihm"
   },
   "outputs": [],
   "source": [
    "iris = pd.get_dummies(iris)"
   ]
  },
  {
   "cell_type": "code",
   "execution_count": 40,
   "metadata": {},
   "outputs": [
    {
     "data": {
      "text/plain": [
       "(150, 7)"
      ]
     },
     "execution_count": 40,
     "metadata": {},
     "output_type": "execute_result"
    }
   ],
   "source": [
    "iris.shape"
   ]
  },
  {
   "cell_type": "code",
   "execution_count": 41,
   "metadata": {},
   "outputs": [
    {
     "data": {
      "text/html": [
       "<div>\n",
       "<style scoped>\n",
       "    .dataframe tbody tr th:only-of-type {\n",
       "        vertical-align: middle;\n",
       "    }\n",
       "\n",
       "    .dataframe tbody tr th {\n",
       "        vertical-align: top;\n",
       "    }\n",
       "\n",
       "    .dataframe thead th {\n",
       "        text-align: right;\n",
       "    }\n",
       "</style>\n",
       "<table border=\"1\" class=\"dataframe\">\n",
       "  <thead>\n",
       "    <tr style=\"text-align: right;\">\n",
       "      <th></th>\n",
       "      <th>SepalLengthCm</th>\n",
       "      <th>SepalWidthCm</th>\n",
       "      <th>PetalLengthCm</th>\n",
       "      <th>PetalWidthCm</th>\n",
       "      <th>Species_Iris-setosa</th>\n",
       "      <th>Species_Iris-versicolor</th>\n",
       "      <th>Species_Iris-virginica</th>\n",
       "    </tr>\n",
       "  </thead>\n",
       "  <tbody>\n",
       "    <tr>\n",
       "      <th>0</th>\n",
       "      <td>5.1</td>\n",
       "      <td>3.5</td>\n",
       "      <td>1.4</td>\n",
       "      <td>0.2</td>\n",
       "      <td>1</td>\n",
       "      <td>0</td>\n",
       "      <td>0</td>\n",
       "    </tr>\n",
       "    <tr>\n",
       "      <th>1</th>\n",
       "      <td>4.9</td>\n",
       "      <td>3.0</td>\n",
       "      <td>1.4</td>\n",
       "      <td>0.2</td>\n",
       "      <td>1</td>\n",
       "      <td>0</td>\n",
       "      <td>0</td>\n",
       "    </tr>\n",
       "    <tr>\n",
       "      <th>2</th>\n",
       "      <td>4.7</td>\n",
       "      <td>3.2</td>\n",
       "      <td>1.3</td>\n",
       "      <td>0.2</td>\n",
       "      <td>1</td>\n",
       "      <td>0</td>\n",
       "      <td>0</td>\n",
       "    </tr>\n",
       "    <tr>\n",
       "      <th>3</th>\n",
       "      <td>4.6</td>\n",
       "      <td>3.1</td>\n",
       "      <td>1.5</td>\n",
       "      <td>0.2</td>\n",
       "      <td>1</td>\n",
       "      <td>0</td>\n",
       "      <td>0</td>\n",
       "    </tr>\n",
       "    <tr>\n",
       "      <th>4</th>\n",
       "      <td>5.0</td>\n",
       "      <td>3.6</td>\n",
       "      <td>1.4</td>\n",
       "      <td>0.2</td>\n",
       "      <td>1</td>\n",
       "      <td>0</td>\n",
       "      <td>0</td>\n",
       "    </tr>\n",
       "  </tbody>\n",
       "</table>\n",
       "</div>"
      ],
      "text/plain": [
       "   SepalLengthCm  SepalWidthCm  PetalLengthCm  PetalWidthCm  \\\n",
       "0            5.1           3.5            1.4           0.2   \n",
       "1            4.9           3.0            1.4           0.2   \n",
       "2            4.7           3.2            1.3           0.2   \n",
       "3            4.6           3.1            1.5           0.2   \n",
       "4            5.0           3.6            1.4           0.2   \n",
       "\n",
       "   Species_Iris-setosa  Species_Iris-versicolor  Species_Iris-virginica  \n",
       "0                    1                        0                       0  \n",
       "1                    1                        0                       0  \n",
       "2                    1                        0                       0  \n",
       "3                    1                        0                       0  \n",
       "4                    1                        0                       0  "
      ]
     },
     "execution_count": 41,
     "metadata": {},
     "output_type": "execute_result"
    }
   ],
   "source": [
    "iris.head()"
   ]
  },
  {
   "cell_type": "markdown",
   "metadata": {
    "colab_type": "text",
    "id": "D95nY5ILcihj"
   },
   "source": [
    "### Splitting the data into feature set and target set"
   ]
  },
  {
   "cell_type": "code",
   "execution_count": 60,
   "metadata": {},
   "outputs": [],
   "source": [
    "X_iris = iris[[\"SepalLengthCm\",\"SepalWidthCm\",\"PetalLengthCm\",\"PetalWidthCm\"]]\n",
    "Y_iris = iris[[\"Species_Iris-setosa\",\"Species_Iris-versicolor\",\"Species_Iris-virginica\"]]"
   ]
  },
  {
   "cell_type": "code",
   "execution_count": 61,
   "metadata": {},
   "outputs": [
    {
     "data": {
      "text/html": [
       "<div>\n",
       "<style scoped>\n",
       "    .dataframe tbody tr th:only-of-type {\n",
       "        vertical-align: middle;\n",
       "    }\n",
       "\n",
       "    .dataframe tbody tr th {\n",
       "        vertical-align: top;\n",
       "    }\n",
       "\n",
       "    .dataframe thead th {\n",
       "        text-align: right;\n",
       "    }\n",
       "</style>\n",
       "<table border=\"1\" class=\"dataframe\">\n",
       "  <thead>\n",
       "    <tr style=\"text-align: right;\">\n",
       "      <th></th>\n",
       "      <th>SepalLengthCm</th>\n",
       "      <th>SepalWidthCm</th>\n",
       "      <th>PetalLengthCm</th>\n",
       "      <th>PetalWidthCm</th>\n",
       "    </tr>\n",
       "  </thead>\n",
       "  <tbody>\n",
       "    <tr>\n",
       "      <th>0</th>\n",
       "      <td>5.1</td>\n",
       "      <td>3.5</td>\n",
       "      <td>1.4</td>\n",
       "      <td>0.2</td>\n",
       "    </tr>\n",
       "    <tr>\n",
       "      <th>1</th>\n",
       "      <td>4.9</td>\n",
       "      <td>3.0</td>\n",
       "      <td>1.4</td>\n",
       "      <td>0.2</td>\n",
       "    </tr>\n",
       "    <tr>\n",
       "      <th>2</th>\n",
       "      <td>4.7</td>\n",
       "      <td>3.2</td>\n",
       "      <td>1.3</td>\n",
       "      <td>0.2</td>\n",
       "    </tr>\n",
       "    <tr>\n",
       "      <th>3</th>\n",
       "      <td>4.6</td>\n",
       "      <td>3.1</td>\n",
       "      <td>1.5</td>\n",
       "      <td>0.2</td>\n",
       "    </tr>\n",
       "    <tr>\n",
       "      <th>4</th>\n",
       "      <td>5.0</td>\n",
       "      <td>3.6</td>\n",
       "      <td>1.4</td>\n",
       "      <td>0.2</td>\n",
       "    </tr>\n",
       "  </tbody>\n",
       "</table>\n",
       "</div>"
      ],
      "text/plain": [
       "   SepalLengthCm  SepalWidthCm  PetalLengthCm  PetalWidthCm\n",
       "0            5.1           3.5            1.4           0.2\n",
       "1            4.9           3.0            1.4           0.2\n",
       "2            4.7           3.2            1.3           0.2\n",
       "3            4.6           3.1            1.5           0.2\n",
       "4            5.0           3.6            1.4           0.2"
      ]
     },
     "execution_count": 61,
     "metadata": {},
     "output_type": "execute_result"
    }
   ],
   "source": [
    "X_iris.head()"
   ]
  },
  {
   "cell_type": "code",
   "execution_count": 62,
   "metadata": {},
   "outputs": [
    {
     "data": {
      "text/html": [
       "<div>\n",
       "<style scoped>\n",
       "    .dataframe tbody tr th:only-of-type {\n",
       "        vertical-align: middle;\n",
       "    }\n",
       "\n",
       "    .dataframe tbody tr th {\n",
       "        vertical-align: top;\n",
       "    }\n",
       "\n",
       "    .dataframe thead th {\n",
       "        text-align: right;\n",
       "    }\n",
       "</style>\n",
       "<table border=\"1\" class=\"dataframe\">\n",
       "  <thead>\n",
       "    <tr style=\"text-align: right;\">\n",
       "      <th></th>\n",
       "      <th>Species_Iris-setosa</th>\n",
       "      <th>Species_Iris-versicolor</th>\n",
       "      <th>Species_Iris-virginica</th>\n",
       "    </tr>\n",
       "  </thead>\n",
       "  <tbody>\n",
       "    <tr>\n",
       "      <th>0</th>\n",
       "      <td>1</td>\n",
       "      <td>0</td>\n",
       "      <td>0</td>\n",
       "    </tr>\n",
       "    <tr>\n",
       "      <th>1</th>\n",
       "      <td>1</td>\n",
       "      <td>0</td>\n",
       "      <td>0</td>\n",
       "    </tr>\n",
       "    <tr>\n",
       "      <th>2</th>\n",
       "      <td>1</td>\n",
       "      <td>0</td>\n",
       "      <td>0</td>\n",
       "    </tr>\n",
       "    <tr>\n",
       "      <th>3</th>\n",
       "      <td>1</td>\n",
       "      <td>0</td>\n",
       "      <td>0</td>\n",
       "    </tr>\n",
       "    <tr>\n",
       "      <th>4</th>\n",
       "      <td>1</td>\n",
       "      <td>0</td>\n",
       "      <td>0</td>\n",
       "    </tr>\n",
       "  </tbody>\n",
       "</table>\n",
       "</div>"
      ],
      "text/plain": [
       "   Species_Iris-setosa  Species_Iris-versicolor  Species_Iris-virginica\n",
       "0                    1                        0                       0\n",
       "1                    1                        0                       0\n",
       "2                    1                        0                       0\n",
       "3                    1                        0                       0\n",
       "4                    1                        0                       0"
      ]
     },
     "execution_count": 62,
     "metadata": {},
     "output_type": "execute_result"
    }
   ],
   "source": [
    "Y_iris.head()"
   ]
  },
  {
   "cell_type": "code",
   "execution_count": 42,
   "metadata": {
    "colab": {},
    "colab_type": "code",
    "id": "RyMQoLMucihj"
   },
   "outputs": [],
   "source": [
    "x = iris.iloc[:, 0:4]"
   ]
  },
  {
   "cell_type": "code",
   "execution_count": 43,
   "metadata": {},
   "outputs": [
    {
     "data": {
      "text/plain": [
       "(150, 4)"
      ]
     },
     "execution_count": 43,
     "metadata": {},
     "output_type": "execute_result"
    }
   ],
   "source": [
    "x.shape"
   ]
  },
  {
   "cell_type": "code",
   "execution_count": 44,
   "metadata": {},
   "outputs": [
    {
     "data": {
      "text/html": [
       "<div>\n",
       "<style scoped>\n",
       "    .dataframe tbody tr th:only-of-type {\n",
       "        vertical-align: middle;\n",
       "    }\n",
       "\n",
       "    .dataframe tbody tr th {\n",
       "        vertical-align: top;\n",
       "    }\n",
       "\n",
       "    .dataframe thead th {\n",
       "        text-align: right;\n",
       "    }\n",
       "</style>\n",
       "<table border=\"1\" class=\"dataframe\">\n",
       "  <thead>\n",
       "    <tr style=\"text-align: right;\">\n",
       "      <th></th>\n",
       "      <th>SepalLengthCm</th>\n",
       "      <th>SepalWidthCm</th>\n",
       "      <th>PetalLengthCm</th>\n",
       "      <th>PetalWidthCm</th>\n",
       "    </tr>\n",
       "  </thead>\n",
       "  <tbody>\n",
       "    <tr>\n",
       "      <th>0</th>\n",
       "      <td>5.1</td>\n",
       "      <td>3.5</td>\n",
       "      <td>1.4</td>\n",
       "      <td>0.2</td>\n",
       "    </tr>\n",
       "    <tr>\n",
       "      <th>1</th>\n",
       "      <td>4.9</td>\n",
       "      <td>3.0</td>\n",
       "      <td>1.4</td>\n",
       "      <td>0.2</td>\n",
       "    </tr>\n",
       "    <tr>\n",
       "      <th>2</th>\n",
       "      <td>4.7</td>\n",
       "      <td>3.2</td>\n",
       "      <td>1.3</td>\n",
       "      <td>0.2</td>\n",
       "    </tr>\n",
       "    <tr>\n",
       "      <th>3</th>\n",
       "      <td>4.6</td>\n",
       "      <td>3.1</td>\n",
       "      <td>1.5</td>\n",
       "      <td>0.2</td>\n",
       "    </tr>\n",
       "    <tr>\n",
       "      <th>4</th>\n",
       "      <td>5.0</td>\n",
       "      <td>3.6</td>\n",
       "      <td>1.4</td>\n",
       "      <td>0.2</td>\n",
       "    </tr>\n",
       "  </tbody>\n",
       "</table>\n",
       "</div>"
      ],
      "text/plain": [
       "   SepalLengthCm  SepalWidthCm  PetalLengthCm  PetalWidthCm\n",
       "0            5.1           3.5            1.4           0.2\n",
       "1            4.9           3.0            1.4           0.2\n",
       "2            4.7           3.2            1.3           0.2\n",
       "3            4.6           3.1            1.5           0.2\n",
       "4            5.0           3.6            1.4           0.2"
      ]
     },
     "execution_count": 44,
     "metadata": {},
     "output_type": "execute_result"
    }
   ],
   "source": [
    "x.head()"
   ]
  },
  {
   "cell_type": "code",
   "execution_count": 45,
   "metadata": {},
   "outputs": [],
   "source": [
    "y = iris.iloc[:, 4:8]"
   ]
  },
  {
   "cell_type": "code",
   "execution_count": 46,
   "metadata": {},
   "outputs": [
    {
     "data": {
      "text/plain": [
       "(150, 3)"
      ]
     },
     "execution_count": 46,
     "metadata": {},
     "output_type": "execute_result"
    }
   ],
   "source": [
    "y.shape"
   ]
  },
  {
   "cell_type": "code",
   "execution_count": 47,
   "metadata": {},
   "outputs": [
    {
     "data": {
      "text/html": [
       "<div>\n",
       "<style scoped>\n",
       "    .dataframe tbody tr th:only-of-type {\n",
       "        vertical-align: middle;\n",
       "    }\n",
       "\n",
       "    .dataframe tbody tr th {\n",
       "        vertical-align: top;\n",
       "    }\n",
       "\n",
       "    .dataframe thead th {\n",
       "        text-align: right;\n",
       "    }\n",
       "</style>\n",
       "<table border=\"1\" class=\"dataframe\">\n",
       "  <thead>\n",
       "    <tr style=\"text-align: right;\">\n",
       "      <th></th>\n",
       "      <th>Species_Iris-setosa</th>\n",
       "      <th>Species_Iris-versicolor</th>\n",
       "      <th>Species_Iris-virginica</th>\n",
       "    </tr>\n",
       "  </thead>\n",
       "  <tbody>\n",
       "    <tr>\n",
       "      <th>0</th>\n",
       "      <td>1</td>\n",
       "      <td>0</td>\n",
       "      <td>0</td>\n",
       "    </tr>\n",
       "    <tr>\n",
       "      <th>1</th>\n",
       "      <td>1</td>\n",
       "      <td>0</td>\n",
       "      <td>0</td>\n",
       "    </tr>\n",
       "    <tr>\n",
       "      <th>2</th>\n",
       "      <td>1</td>\n",
       "      <td>0</td>\n",
       "      <td>0</td>\n",
       "    </tr>\n",
       "    <tr>\n",
       "      <th>3</th>\n",
       "      <td>1</td>\n",
       "      <td>0</td>\n",
       "      <td>0</td>\n",
       "    </tr>\n",
       "    <tr>\n",
       "      <th>4</th>\n",
       "      <td>1</td>\n",
       "      <td>0</td>\n",
       "      <td>0</td>\n",
       "    </tr>\n",
       "  </tbody>\n",
       "</table>\n",
       "</div>"
      ],
      "text/plain": [
       "   Species_Iris-setosa  Species_Iris-versicolor  Species_Iris-virginica\n",
       "0                    1                        0                       0\n",
       "1                    1                        0                       0\n",
       "2                    1                        0                       0\n",
       "3                    1                        0                       0\n",
       "4                    1                        0                       0"
      ]
     },
     "execution_count": 47,
     "metadata": {},
     "output_type": "execute_result"
    }
   ],
   "source": [
    "y.head()"
   ]
  },
  {
   "cell_type": "markdown",
   "metadata": {
    "colab_type": "text",
    "id": "b22qpC5xcihr"
   },
   "source": [
    "###  Building Model in tf.keras\n",
    "\n",
    "Build a Linear Classifier model  <br>\n",
    "1.  Use Dense Layer  with input shape of 4 (according to the feature set) and number of outputs set to 3<br> \n",
    "2. Apply Softmax on Dense Layer outputs <br>\n",
    "3. Use SGD as Optimizer\n",
    "4. Use categorical_crossentropy as loss function "
   ]
  },
  {
   "cell_type": "code",
   "execution_count": 48,
   "metadata": {},
   "outputs": [],
   "source": [
    "tf.keras.backend.clear_session()"
   ]
  },
  {
   "cell_type": "code",
   "execution_count": 64,
   "metadata": {
    "colab": {},
    "colab_type": "code",
    "id": "Hov_UFnUciht"
   },
   "outputs": [],
   "source": [
    "#Initialize Sequential model\n",
    "model = tf.keras.models.Sequential()\n",
    "\n",
    "#Normalize the data\n",
    "model.add(tf.keras.layers.BatchNormalization())\n",
    "\n",
    "#Add Dense Layer which provides 3 Outputs after applying softmax\n",
    "model.add(tf.keras.layers.Dense(3, input_shape=(4,), activation='softmax'))\n",
    "\n",
    "#Compile the model\n",
    "model.compile(optimizer='sgd', loss='categorical_crossentropy', metrics=['accuracy'])"
   ]
  },
  {
   "cell_type": "markdown",
   "metadata": {
    "colab_type": "text",
    "id": "T5FdzqIKcihw"
   },
   "source": [
    "### Model Training "
   ]
  },
  {
   "cell_type": "code",
   "execution_count": 63,
   "metadata": {},
   "outputs": [],
   "source": [
    "trainX, testX, trainY, testY = train_test_split(X_iris, Y_iris, test_size=0.30, random_state=1)"
   ]
  },
  {
   "cell_type": "code",
   "execution_count": 70,
   "metadata": {
    "colab": {},
    "colab_type": "code",
    "id": "4qLEdHPscihx"
   },
   "outputs": [
    {
     "name": "stdout",
     "output_type": "stream",
     "text": [
      "Train on 105 samples, validate on 45 samples\n",
      "Epoch 1/100\n",
      "105/105 [==============================] - 0s 1ms/sample - loss: 0.3424 - accuracy: 0.9143 - val_loss: 0.4376 - val_accuracy: 0.8000\n",
      "Epoch 2/100\n",
      "105/105 [==============================] - 0s 248us/sample - loss: 0.3539 - accuracy: 0.9143 - val_loss: 0.4355 - val_accuracy: 0.8000\n",
      "Epoch 3/100\n",
      "105/105 [==============================] - 0s 253us/sample - loss: 0.3335 - accuracy: 0.8952 - val_loss: 0.4336 - val_accuracy: 0.8000\n",
      "Epoch 4/100\n",
      "105/105 [==============================] - 0s 248us/sample - loss: 0.3483 - accuracy: 0.9143 - val_loss: 0.4317 - val_accuracy: 0.8000\n",
      "Epoch 5/100\n",
      "105/105 [==============================] - 0s 257us/sample - loss: 0.3358 - accuracy: 0.9238 - val_loss: 0.4300 - val_accuracy: 0.8000\n",
      "Epoch 6/100\n",
      "105/105 [==============================] - 0s 267us/sample - loss: 0.3437 - accuracy: 0.9048 - val_loss: 0.4280 - val_accuracy: 0.8000\n",
      "Epoch 7/100\n",
      "105/105 [==============================] - 0s 281us/sample - loss: 0.3481 - accuracy: 0.8857 - val_loss: 0.4253 - val_accuracy: 0.8000\n",
      "Epoch 8/100\n",
      "105/105 [==============================] - 0s 267us/sample - loss: 0.3844 - accuracy: 0.8857 - val_loss: 0.4227 - val_accuracy: 0.8000\n",
      "Epoch 9/100\n",
      "105/105 [==============================] - 0s 305us/sample - loss: 0.3602 - accuracy: 0.9143 - val_loss: 0.4209 - val_accuracy: 0.8000\n",
      "Epoch 10/100\n",
      "105/105 [==============================] - 0s 257us/sample - loss: 0.3707 - accuracy: 0.9143 - val_loss: 0.4185 - val_accuracy: 0.8000\n",
      "Epoch 11/100\n",
      "105/105 [==============================] - 0s 257us/sample - loss: 0.3331 - accuracy: 0.9143 - val_loss: 0.4163 - val_accuracy: 0.8000\n",
      "Epoch 12/100\n",
      "105/105 [==============================] - 0s 238us/sample - loss: 0.3299 - accuracy: 0.8857 - val_loss: 0.4143 - val_accuracy: 0.8000\n",
      "Epoch 13/100\n",
      "105/105 [==============================] - 0s 257us/sample - loss: 0.3228 - accuracy: 0.9238 - val_loss: 0.4132 - val_accuracy: 0.8000\n",
      "Epoch 14/100\n",
      "105/105 [==============================] - 0s 295us/sample - loss: 0.3321 - accuracy: 0.9143 - val_loss: 0.4113 - val_accuracy: 0.8000\n",
      "Epoch 15/100\n",
      "105/105 [==============================] - 0s 286us/sample - loss: 0.3157 - accuracy: 0.9048 - val_loss: 0.4094 - val_accuracy: 0.8000\n",
      "Epoch 16/100\n",
      "105/105 [==============================] - 0s 300us/sample - loss: 0.3214 - accuracy: 0.9333 - val_loss: 0.4073 - val_accuracy: 0.8000\n",
      "Epoch 17/100\n",
      "105/105 [==============================] - 0s 286us/sample - loss: 0.3412 - accuracy: 0.9143 - val_loss: 0.4055 - val_accuracy: 0.8000\n",
      "Epoch 18/100\n",
      "105/105 [==============================] - 0s 319us/sample - loss: 0.3880 - accuracy: 0.8286 - val_loss: 0.4029 - val_accuracy: 0.8000\n",
      "Epoch 19/100\n",
      "105/105 [==============================] - 0s 276us/sample - loss: 0.3323 - accuracy: 0.8667 - val_loss: 0.4009 - val_accuracy: 0.8000\n",
      "Epoch 20/100\n",
      "105/105 [==============================] - 0s 314us/sample - loss: 0.3175 - accuracy: 0.9048 - val_loss: 0.3999 - val_accuracy: 0.8000\n",
      "Epoch 21/100\n",
      "105/105 [==============================] - 0s 291us/sample - loss: 0.3452 - accuracy: 0.9048 - val_loss: 0.3993 - val_accuracy: 0.8000\n",
      "Epoch 22/100\n",
      "105/105 [==============================] - 0s 310us/sample - loss: 0.3358 - accuracy: 0.9048 - val_loss: 0.3984 - val_accuracy: 0.8000\n",
      "Epoch 23/100\n",
      "105/105 [==============================] - 0s 286us/sample - loss: 0.3025 - accuracy: 0.9429 - val_loss: 0.3966 - val_accuracy: 0.8000\n",
      "Epoch 24/100\n",
      "105/105 [==============================] - 0s 267us/sample - loss: 0.3339 - accuracy: 0.9143 - val_loss: 0.3950 - val_accuracy: 0.8000\n",
      "Epoch 25/100\n",
      "105/105 [==============================] - 0s 286us/sample - loss: 0.3896 - accuracy: 0.8476 - val_loss: 0.3936 - val_accuracy: 0.8000\n",
      "Epoch 26/100\n",
      "105/105 [==============================] - 0s 257us/sample - loss: 0.3075 - accuracy: 0.9333 - val_loss: 0.3927 - val_accuracy: 0.8000\n",
      "Epoch 27/100\n",
      "105/105 [==============================] - 0s 667us/sample - loss: 0.3055 - accuracy: 0.9429 - val_loss: 0.3913 - val_accuracy: 0.8000\n",
      "Epoch 28/100\n",
      "105/105 [==============================] - 0s 200us/sample - loss: 0.3214 - accuracy: 0.8952 - val_loss: 0.3893 - val_accuracy: 0.8000\n",
      "Epoch 29/100\n",
      "105/105 [==============================] - 0s 238us/sample - loss: 0.3540 - accuracy: 0.8667 - val_loss: 0.3874 - val_accuracy: 0.8000\n",
      "Epoch 30/100\n",
      "105/105 [==============================] - 0s 324us/sample - loss: 0.2964 - accuracy: 0.9143 - val_loss: 0.3860 - val_accuracy: 0.8000\n",
      "Epoch 31/100\n",
      "105/105 [==============================] - 0s 238us/sample - loss: 0.3186 - accuracy: 0.8952 - val_loss: 0.3847 - val_accuracy: 0.8000\n",
      "Epoch 32/100\n",
      "105/105 [==============================] - 0s 257us/sample - loss: 0.3228 - accuracy: 0.9333 - val_loss: 0.3838 - val_accuracy: 0.8000\n",
      "Epoch 33/100\n",
      "105/105 [==============================] - 0s 267us/sample - loss: 0.3179 - accuracy: 0.9143 - val_loss: 0.3821 - val_accuracy: 0.8000\n",
      "Epoch 34/100\n",
      "105/105 [==============================] - 0s 286us/sample - loss: 0.3022 - accuracy: 0.9333 - val_loss: 0.3801 - val_accuracy: 0.8000\n",
      "Epoch 35/100\n",
      "105/105 [==============================] - 0s 286us/sample - loss: 0.2969 - accuracy: 0.9429 - val_loss: 0.3793 - val_accuracy: 0.8000\n",
      "Epoch 36/100\n",
      "105/105 [==============================] - 0s 257us/sample - loss: 0.3024 - accuracy: 0.9333 - val_loss: 0.3782 - val_accuracy: 0.8000\n",
      "Epoch 37/100\n",
      "105/105 [==============================] - 0s 262us/sample - loss: 0.3302 - accuracy: 0.8952 - val_loss: 0.3769 - val_accuracy: 0.8000\n",
      "Epoch 38/100\n",
      "105/105 [==============================] - 0s 229us/sample - loss: 0.3201 - accuracy: 0.8952 - val_loss: 0.3754 - val_accuracy: 0.8000\n",
      "Epoch 39/100\n",
      "105/105 [==============================] - 0s 276us/sample - loss: 0.3318 - accuracy: 0.8952 - val_loss: 0.3746 - val_accuracy: 0.8000\n",
      "Epoch 40/100\n",
      "105/105 [==============================] - 0s 257us/sample - loss: 0.3108 - accuracy: 0.9143 - val_loss: 0.3736 - val_accuracy: 0.8000\n",
      "Epoch 41/100\n",
      "105/105 [==============================] - 0s 267us/sample - loss: 0.2910 - accuracy: 0.9429 - val_loss: 0.3727 - val_accuracy: 0.8000\n",
      "Epoch 42/100\n",
      "105/105 [==============================] - 0s 248us/sample - loss: 0.2898 - accuracy: 0.9333 - val_loss: 0.3715 - val_accuracy: 0.8000\n",
      "Epoch 43/100\n",
      "105/105 [==============================] - 0s 267us/sample - loss: 0.3093 - accuracy: 0.9143 - val_loss: 0.3706 - val_accuracy: 0.8000\n",
      "Epoch 44/100\n",
      "105/105 [==============================] - 0s 276us/sample - loss: 0.2992 - accuracy: 0.9048 - val_loss: 0.3686 - val_accuracy: 0.8222\n",
      "Epoch 45/100\n",
      "105/105 [==============================] - 0s 276us/sample - loss: 0.2993 - accuracy: 0.9524 - val_loss: 0.3675 - val_accuracy: 0.8222\n",
      "Epoch 46/100\n",
      "105/105 [==============================] - 0s 281us/sample - loss: 0.3427 - accuracy: 0.8952 - val_loss: 0.3664 - val_accuracy: 0.8222\n",
      "Epoch 47/100\n",
      "105/105 [==============================] - 0s 260us/sample - loss: 0.2839 - accuracy: 0.9333 - val_loss: 0.3657 - val_accuracy: 0.8222\n",
      "Epoch 48/100\n",
      "105/105 [==============================] - 0s 248us/sample - loss: 0.3132 - accuracy: 0.9333 - val_loss: 0.3642 - val_accuracy: 0.8222\n",
      "Epoch 49/100\n",
      "105/105 [==============================] - 0s 248us/sample - loss: 0.3040 - accuracy: 0.8857 - val_loss: 0.3634 - val_accuracy: 0.8222\n",
      "Epoch 50/100\n",
      "105/105 [==============================] - 0s 276us/sample - loss: 0.2746 - accuracy: 0.9714 - val_loss: 0.3622 - val_accuracy: 0.8222\n",
      "Epoch 51/100\n",
      "105/105 [==============================] - 0s 267us/sample - loss: 0.3415 - accuracy: 0.9048 - val_loss: 0.3611 - val_accuracy: 0.8222\n",
      "Epoch 52/100\n",
      "105/105 [==============================] - 0s 257us/sample - loss: 0.2934 - accuracy: 0.9429 - val_loss: 0.3597 - val_accuracy: 0.8222\n",
      "Epoch 53/100\n",
      "105/105 [==============================] - 0s 262us/sample - loss: 0.2798 - accuracy: 0.9429 - val_loss: 0.3587 - val_accuracy: 0.8222\n",
      "Epoch 54/100\n",
      "105/105 [==============================] - 0s 219us/sample - loss: 0.2873 - accuracy: 0.9333 - val_loss: 0.3571 - val_accuracy: 0.8222\n",
      "Epoch 55/100\n",
      "105/105 [==============================] - 0s 276us/sample - loss: 0.2927 - accuracy: 0.9143 - val_loss: 0.3568 - val_accuracy: 0.8222\n",
      "Epoch 56/100\n"
     ]
    },
    {
     "name": "stdout",
     "output_type": "stream",
     "text": [
      "105/105 [==============================] - 0s 257us/sample - loss: 0.3097 - accuracy: 0.8952 - val_loss: 0.3560 - val_accuracy: 0.8222\n",
      "Epoch 57/100\n",
      "105/105 [==============================] - 0s 276us/sample - loss: 0.2825 - accuracy: 0.9619 - val_loss: 0.3557 - val_accuracy: 0.8222\n",
      "Epoch 58/100\n",
      "105/105 [==============================] - 0s 267us/sample - loss: 0.2687 - accuracy: 0.9714 - val_loss: 0.3555 - val_accuracy: 0.8222\n",
      "Epoch 59/100\n",
      "105/105 [==============================] - 0s 248us/sample - loss: 0.2866 - accuracy: 0.8952 - val_loss: 0.3550 - val_accuracy: 0.8222\n",
      "Epoch 60/100\n",
      "105/105 [==============================] - 0s 210us/sample - loss: 0.3408 - accuracy: 0.9048 - val_loss: 0.3535 - val_accuracy: 0.8222\n",
      "Epoch 61/100\n",
      "105/105 [==============================] - 0s 214us/sample - loss: 0.2881 - accuracy: 0.9238 - val_loss: 0.3531 - val_accuracy: 0.8222\n",
      "Epoch 62/100\n",
      "105/105 [==============================] - 0s 210us/sample - loss: 0.2815 - accuracy: 0.9143 - val_loss: 0.3519 - val_accuracy: 0.8222\n",
      "Epoch 63/100\n",
      "105/105 [==============================] - 0s 219us/sample - loss: 0.3165 - accuracy: 0.8952 - val_loss: 0.3513 - val_accuracy: 0.8222\n",
      "Epoch 64/100\n",
      "105/105 [==============================] - 0s 214us/sample - loss: 0.2881 - accuracy: 0.9238 - val_loss: 0.3509 - val_accuracy: 0.8222\n",
      "Epoch 65/100\n",
      "105/105 [==============================] - 0s 248us/sample - loss: 0.2875 - accuracy: 0.9048 - val_loss: 0.3505 - val_accuracy: 0.8222\n",
      "Epoch 66/100\n",
      "105/105 [==============================] - 0s 229us/sample - loss: 0.2627 - accuracy: 0.9619 - val_loss: 0.3495 - val_accuracy: 0.8222\n",
      "Epoch 67/100\n",
      "105/105 [==============================] - 0s 248us/sample - loss: 0.3108 - accuracy: 0.8857 - val_loss: 0.3492 - val_accuracy: 0.8222\n",
      "Epoch 68/100\n",
      "105/105 [==============================] - 0s 229us/sample - loss: 0.3032 - accuracy: 0.9048 - val_loss: 0.3487 - val_accuracy: 0.8222\n",
      "Epoch 69/100\n",
      "105/105 [==============================] - 0s 219us/sample - loss: 0.3226 - accuracy: 0.8952 - val_loss: 0.3482 - val_accuracy: 0.8222\n",
      "Epoch 70/100\n",
      "105/105 [==============================] - 0s 229us/sample - loss: 0.3004 - accuracy: 0.9333 - val_loss: 0.3480 - val_accuracy: 0.8222\n",
      "Epoch 71/100\n",
      "105/105 [==============================] - 0s 210us/sample - loss: 0.2866 - accuracy: 0.9143 - val_loss: 0.3462 - val_accuracy: 0.8222\n",
      "Epoch 72/100\n",
      "105/105 [==============================] - 0s 210us/sample - loss: 0.2878 - accuracy: 0.9333 - val_loss: 0.3453 - val_accuracy: 0.8222\n",
      "Epoch 73/100\n",
      "105/105 [==============================] - 0s 210us/sample - loss: 0.2781 - accuracy: 0.9238 - val_loss: 0.3448 - val_accuracy: 0.8222\n",
      "Epoch 74/100\n",
      "105/105 [==============================] - 0s 219us/sample - loss: 0.2590 - accuracy: 0.9238 - val_loss: 0.3445 - val_accuracy: 0.8222\n",
      "Epoch 75/100\n",
      "105/105 [==============================] - 0s 229us/sample - loss: 0.2732 - accuracy: 0.9429 - val_loss: 0.3431 - val_accuracy: 0.8222\n",
      "Epoch 76/100\n",
      "105/105 [==============================] - 0s 210us/sample - loss: 0.2842 - accuracy: 0.9333 - val_loss: 0.3422 - val_accuracy: 0.8222\n",
      "Epoch 77/100\n",
      "105/105 [==============================] - 0s 210us/sample - loss: 0.2594 - accuracy: 0.9333 - val_loss: 0.3410 - val_accuracy: 0.8444\n",
      "Epoch 78/100\n",
      "105/105 [==============================] - 0s 229us/sample - loss: 0.2745 - accuracy: 0.9524 - val_loss: 0.3395 - val_accuracy: 0.8444\n",
      "Epoch 79/100\n",
      "105/105 [==============================] - 0s 219us/sample - loss: 0.2586 - accuracy: 0.9524 - val_loss: 0.3386 - val_accuracy: 0.8444\n",
      "Epoch 80/100\n",
      "105/105 [==============================] - 0s 244us/sample - loss: 0.3018 - accuracy: 0.8952 - val_loss: 0.3381 - val_accuracy: 0.8444\n",
      "Epoch 81/100\n",
      "105/105 [==============================] - 0s 238us/sample - loss: 0.2697 - accuracy: 0.9238 - val_loss: 0.3373 - val_accuracy: 0.8444\n",
      "Epoch 82/100\n",
      "105/105 [==============================] - 0s 219us/sample - loss: 0.3137 - accuracy: 0.8762 - val_loss: 0.3371 - val_accuracy: 0.8444\n",
      "Epoch 83/100\n",
      "105/105 [==============================] - 0s 210us/sample - loss: 0.2643 - accuracy: 0.9429 - val_loss: 0.3359 - val_accuracy: 0.8444\n",
      "Epoch 84/100\n",
      "105/105 [==============================] - 0s 224us/sample - loss: 0.2597 - accuracy: 0.9429 - val_loss: 0.3351 - val_accuracy: 0.8667\n",
      "Epoch 85/100\n",
      "105/105 [==============================] - 0s 200us/sample - loss: 0.2689 - accuracy: 0.9619 - val_loss: 0.3335 - val_accuracy: 0.8667\n",
      "Epoch 86/100\n",
      "105/105 [==============================] - 0s 267us/sample - loss: 0.2829 - accuracy: 0.9429 - val_loss: 0.3326 - val_accuracy: 0.8667\n",
      "Epoch 87/100\n",
      "105/105 [==============================] - 0s 253us/sample - loss: 0.2533 - accuracy: 0.9429 - val_loss: 0.3316 - val_accuracy: 0.8667\n",
      "Epoch 88/100\n",
      "105/105 [==============================] - 0s 210us/sample - loss: 0.2664 - accuracy: 0.9048 - val_loss: 0.3309 - val_accuracy: 0.8667\n",
      "Epoch 89/100\n",
      "105/105 [==============================] - 0s 238us/sample - loss: 0.2631 - accuracy: 0.9524 - val_loss: 0.3307 - val_accuracy: 0.8667\n",
      "Epoch 90/100\n",
      "105/105 [==============================] - 0s 229us/sample - loss: 0.2745 - accuracy: 0.9333 - val_loss: 0.3299 - val_accuracy: 0.8667\n",
      "Epoch 91/100\n",
      "105/105 [==============================] - 0s 238us/sample - loss: 0.2747 - accuracy: 0.9143 - val_loss: 0.3294 - val_accuracy: 0.8667\n",
      "Epoch 92/100\n",
      "105/105 [==============================] - 0s 224us/sample - loss: 0.2681 - accuracy: 0.9429 - val_loss: 0.3289 - val_accuracy: 0.8667\n",
      "Epoch 93/100\n",
      "105/105 [==============================] - 0s 238us/sample - loss: 0.2562 - accuracy: 0.9619 - val_loss: 0.3280 - val_accuracy: 0.8667\n",
      "Epoch 94/100\n",
      "105/105 [==============================] - 0s 248us/sample - loss: 0.3019 - accuracy: 0.8952 - val_loss: 0.3281 - val_accuracy: 0.8667\n",
      "Epoch 95/100\n",
      "105/105 [==============================] - 0s 214us/sample - loss: 0.2708 - accuracy: 0.9238 - val_loss: 0.3271 - val_accuracy: 0.8667\n",
      "Epoch 96/100\n",
      "105/105 [==============================] - 0s 219us/sample - loss: 0.2550 - accuracy: 0.9429 - val_loss: 0.3266 - val_accuracy: 0.8667\n",
      "Epoch 97/100\n",
      "105/105 [==============================] - 0s 219us/sample - loss: 0.2613 - accuracy: 0.9333 - val_loss: 0.3254 - val_accuracy: 0.8667\n",
      "Epoch 98/100\n",
      "105/105 [==============================] - 0s 238us/sample - loss: 0.2440 - accuracy: 0.9714 - val_loss: 0.3239 - val_accuracy: 0.8667\n",
      "Epoch 99/100\n",
      "105/105 [==============================] - 0s 225us/sample - loss: 0.2477 - accuracy: 0.9619 - val_loss: 0.3229 - val_accuracy: 0.8444\n",
      "Epoch 100/100\n",
      "105/105 [==============================] - 0s 229us/sample - loss: 0.2562 - accuracy: 0.9429 - val_loss: 0.3224 - val_accuracy: 0.8444\n"
     ]
    },
    {
     "data": {
      "text/plain": [
       "<tensorflow.python.keras.callbacks.History at 0x213d740d240>"
      ]
     },
     "execution_count": 70,
     "metadata": {},
     "output_type": "execute_result"
    }
   ],
   "source": [
    "model.fit(trainX.values, trainY.values, validation_data=(testX.values, testY.values), epochs=100, batch_size=32)"
   ]
  },
  {
   "cell_type": "markdown",
   "metadata": {
    "colab_type": "text",
    "id": "y-SgSSdRcih5"
   },
   "source": [
    "### Model Prediction"
   ]
  },
  {
   "cell_type": "code",
   "execution_count": 73,
   "metadata": {
    "colab": {},
    "colab_type": "code",
    "id": "GBgKZkhkcih6"
   },
   "outputs": [
    {
     "data": {
      "text/plain": [
       "array([[9.78208899e-01, 2.15605777e-02, 2.30598525e-04],\n",
       "       [4.74254221e-01, 4.98401999e-01, 2.73438469e-02],\n",
       "       [2.54570190e-02, 6.99617565e-01, 2.74925351e-01],\n",
       "       [9.84108090e-01, 1.55619290e-02, 3.30060342e-04],\n",
       "       [4.66341226e-05, 3.72525863e-02, 9.62700784e-01],\n",
       "       [1.76706165e-02, 3.06248963e-01, 6.76080465e-01],\n",
       "       [3.95113323e-03, 1.98172674e-01, 7.97876120e-01],\n",
       "       [9.60872710e-01, 3.69857773e-02, 2.14155251e-03],\n",
       "       [9.59046245e-01, 4.04806808e-02, 4.73105290e-04],\n",
       "       [5.93580771e-04, 7.61070624e-02, 9.23299372e-01],\n",
       "       [6.56559765e-02, 6.70441329e-01, 2.63902724e-01],\n",
       "       [9.67127979e-01, 3.16572450e-02, 1.21482892e-03],\n",
       "       [3.57631594e-04, 1.37699127e-01, 8.61943185e-01],\n",
       "       [2.77063176e-02, 4.82170373e-01, 4.90123212e-01],\n",
       "       [3.08733284e-02, 5.29600501e-01, 4.39526230e-01],\n",
       "       [9.82957661e-01, 1.68668143e-02, 1.75494191e-04],\n",
       "       [6.93752542e-02, 8.00573707e-01, 1.30051091e-01],\n",
       "       [4.03329879e-02, 3.70212287e-01, 5.89454710e-01],\n",
       "       [9.53011870e-01, 4.65318188e-02, 4.56296228e-04],\n",
       "       [9.71628010e-01, 2.82405894e-02, 1.31346198e-04],\n",
       "       [4.06517200e-02, 6.81255996e-01, 2.78092295e-01],\n",
       "       [4.42262851e-02, 3.20515007e-01, 6.35258675e-01],\n",
       "       [6.09439565e-03, 4.19585556e-01, 5.74320138e-01],\n",
       "       [9.80152905e-01, 1.96123328e-02, 2.34681516e-04],\n",
       "       [2.69275246e-04, 1.37963071e-01, 8.61767590e-01],\n",
       "       [8.11608434e-02, 6.67456686e-01, 2.51382470e-01],\n",
       "       [9.83387172e-01, 1.61192603e-02, 4.93703701e-04],\n",
       "       [9.79382932e-01, 2.00675949e-02, 5.49443415e-04],\n",
       "       [1.51051618e-02, 6.53945208e-01, 3.30949664e-01],\n",
       "       [6.56105857e-03, 4.97715890e-01, 4.95723128e-01],\n",
       "       [2.33010892e-02, 5.10336637e-01, 4.66362357e-01],\n",
       "       [1.54896203e-04, 1.43582955e-01, 8.56262088e-01],\n",
       "       [8.38508159e-02, 8.17637801e-01, 9.85113531e-02],\n",
       "       [1.13705790e-03, 1.50584981e-01, 8.48277986e-01],\n",
       "       [5.46834292e-03, 1.07300088e-01, 8.87231588e-01],\n",
       "       [9.67285216e-01, 3.22249196e-02, 4.89783881e-04],\n",
       "       [7.02661723e-02, 8.16310406e-01, 1.13423355e-01],\n",
       "       [9.62164164e-01, 3.75466198e-02, 2.89256976e-04],\n",
       "       [1.56898461e-02, 6.78986311e-01, 3.05323899e-01],\n",
       "       [6.21166953e-04, 3.56894553e-01, 6.42484307e-01],\n",
       "       [1.31836429e-03, 1.72039598e-01, 8.26642036e-01],\n",
       "       [9.73381102e-01, 2.62918863e-02, 3.27037997e-04],\n",
       "       [5.76351676e-03, 7.15020657e-01, 2.79215842e-01],\n",
       "       [1.25835347e-03, 1.70054317e-01, 8.28687310e-01],\n",
       "       [1.42250834e-02, 7.22043812e-01, 2.63731152e-01]], dtype=float32)"
      ]
     },
     "execution_count": 73,
     "metadata": {},
     "output_type": "execute_result"
    }
   ],
   "source": [
    "model.predict(testX.values)"
   ]
  },
  {
   "cell_type": "markdown",
   "metadata": {
    "colab_type": "text",
    "id": "P32ASP1Vjt0a"
   },
   "source": [
    "### Save the Model"
   ]
  },
  {
   "cell_type": "code",
   "execution_count": 74,
   "metadata": {
    "colab": {},
    "colab_type": "code",
    "id": "n8rd0jjAjyTR"
   },
   "outputs": [],
   "source": [
    "model.save('iris.h5')"
   ]
  },
  {
   "cell_type": "markdown",
   "metadata": {
    "colab_type": "text",
    "id": "XiipRpe7rbVh"
   },
   "source": [
    "### Build and Train a Deep Neural network with 2 hidden layer  - Optional - For Practice\n",
    "\n",
    "Does it perform better than Linear Classifier? What could be the reason for difference in performance?"
   ]
  },
  {
   "cell_type": "code",
   "execution_count": null,
   "metadata": {},
   "outputs": [],
   "source": []
  }
 ],
 "metadata": {
  "colab": {
   "name": "R6_Internal_Lab_UpdatedTF2_Prices_Iris.ipynb",
   "provenance": [],
   "version": "0.3.2"
  },
  "kernelspec": {
   "display_name": "Python 3",
   "language": "python",
   "name": "python3"
  },
  "language_info": {
   "codemirror_mode": {
    "name": "ipython",
    "version": 3
   },
   "file_extension": ".py",
   "mimetype": "text/x-python",
   "name": "python",
   "nbconvert_exporter": "python",
   "pygments_lexer": "ipython3",
   "version": "3.7.3"
  }
 },
 "nbformat": 4,
 "nbformat_minor": 1
}
