{
 "cells": [
  {
   "cell_type": "code",
   "execution_count": 1,
   "metadata": {
    "colab": {
     "base_uri": "https://localhost:8080/",
     "height": 64
    },
    "colab_type": "code",
    "id": "XRJVvG8rt87L",
    "outputId": "c0886f65-0113-4d9a-a42f-738d2eabe846"
   },
   "outputs": [
    {
     "data": {
      "text/html": [
       "<p style=\"color: red;\">\n",
       "The default version of TensorFlow in Colab will soon switch to TensorFlow 2.x.<br>\n",
       "We recommend you <a href=\"https://www.tensorflow.org/guide/migrate\" target=\"_blank\">upgrade</a> now \n",
       "or ensure your notebook will continue to use TensorFlow 1.x via the <code>%tensorflow_version 1.x</code> magic:\n",
       "<a href=\"https://colab.research.google.com/notebooks/tensorflow_version.ipynb\" target=\"_blank\">more info</a>.</p>\n"
      ],
      "text/plain": [
       "<IPython.core.display.HTML object>"
      ]
     },
     "metadata": {
      "tags": []
     },
     "output_type": "display_data"
    }
   ],
   "source": [
    "import tensorflow as tf "
   ]
  },
  {
   "cell_type": "code",
   "execution_count": 2,
   "metadata": {
    "colab": {
     "base_uri": "https://localhost:8080/",
     "height": 35
    },
    "colab_type": "code",
    "id": "8LOXhUCHuBvz",
    "outputId": "f9969854-f8f3-414f-a20b-00fcf0a9c400"
   },
   "outputs": [
    {
     "data": {
      "text/plain": [
       "'1.15.0'"
      ]
     },
     "execution_count": 2,
     "metadata": {
      "tags": []
     },
     "output_type": "execute_result"
    }
   ],
   "source": [
    "tf.__version__"
   ]
  },
  {
   "cell_type": "code",
   "execution_count": 0,
   "metadata": {
    "colab": {},
    "colab_type": "code",
    "id": "ESlhqSSHuKP1"
   },
   "outputs": [],
   "source": [
    "import pandas as pd\n",
    "import numpy as np\n",
    "import seaborn as sn\n",
    "import matplotlib.pyplot as plt\n",
    "%matplotlib inline"
   ]
  },
  {
   "cell_type": "code",
   "execution_count": 0,
   "metadata": {
    "colab": {},
    "colab_type": "code",
    "id": "KKJwFOHqTNTu"
   },
   "outputs": [],
   "source": [
    "import h5py"
   ]
  },
  {
   "cell_type": "code",
   "execution_count": 7,
   "metadata": {
    "colab": {
     "base_uri": "https://localhost:8080/",
     "height": 126
    },
    "colab_type": "code",
    "id": "eTTeEKCRuiHb",
    "outputId": "b993d33b-e891-4dcd-ac2c-ec0e3582f31f"
   },
   "outputs": [
    {
     "name": "stdout",
     "output_type": "stream",
     "text": [
      "Go to this URL in a browser: https://accounts.google.com/o/oauth2/auth?client_id=947318989803-6bn6qk8qdgf4n4g3pfee6491hc0brc4i.apps.googleusercontent.com&redirect_uri=urn%3aietf%3awg%3aoauth%3a2.0%3aoob&response_type=code&scope=email%20https%3a%2f%2fwww.googleapis.com%2fauth%2fdocs.test%20https%3a%2f%2fwww.googleapis.com%2fauth%2fdrive%20https%3a%2f%2fwww.googleapis.com%2fauth%2fdrive.photos.readonly%20https%3a%2f%2fwww.googleapis.com%2fauth%2fpeopleapi.readonly\n",
      "\n",
      "Enter your authorization code:\n",
      "··········\n",
      "Mounted at /gdrive\n"
     ]
    }
   ],
   "source": [
    "from google.colab import drive\n",
    "drive.mount(\"/gdrive\")"
   ]
  },
  {
   "cell_type": "code",
   "execution_count": 8,
   "metadata": {
    "colab": {
     "base_uri": "https://localhost:8080/",
     "height": 230
    },
    "colab_type": "code",
    "id": "8ISZZ46dSPuG",
    "outputId": "3d2c4cfd-d6c6-4aee-9057-af8823ed2af4"
   },
   "outputs": [
    {
     "name": "stdout",
     "output_type": "stream",
     "text": [
      "shape of  X_test : \n",
      " (18000, 32, 32)\n",
      "shape of  X_train : \n",
      " (42000, 32, 32)\n",
      "shape of  X_val : \n",
      " (60000, 32, 32)\n",
      "shape of  y_test : \n",
      " (18000,)\n",
      "shape of  y_train : \n",
      " (42000,)\n",
      "shape of  y_val : \n",
      " (60000,)\n"
     ]
    }
   ],
   "source": [
    "with h5py.File('/gdrive/My Drive/Colab Notebooks/Neural Networks/Project2/SVHN_single_grey1-2.h5', 'r') as f:\n",
    "  ls = list(f.keys())\n",
    "  for dataset in ls:\n",
    "    data = f.get(dataset)\n",
    "    dataset1 = np.array(data)\n",
    "    print('shape of ', dataset,': \\n', dataset1.shape)"
   ]
  },
  {
   "cell_type": "markdown",
   "metadata": {
    "colab_type": "text",
    "id": "NEAn-48SWRbE"
   },
   "source": [
    "We have sufficient data for train, validation and test."
   ]
  },
  {
   "cell_type": "code",
   "execution_count": 0,
   "metadata": {
    "colab": {},
    "colab_type": "code",
    "id": "LypGGRFL3GI3"
   },
   "outputs": [],
   "source": [
    "data = h5py.File('/gdrive/My Drive/Colab Notebooks/Neural Networks/Project2/SVHN_single_grey1-2.h5', 'r')"
   ]
  },
  {
   "cell_type": "code",
   "execution_count": 0,
   "metadata": {
    "colab": {},
    "colab_type": "code",
    "id": "42rEeAGdI9ku"
   },
   "outputs": [],
   "source": [
    "X_train = np.array(data.get('X_train'))"
   ]
  },
  {
   "cell_type": "code",
   "execution_count": 11,
   "metadata": {
    "colab": {
     "base_uri": "https://localhost:8080/",
     "height": 35
    },
    "colab_type": "code",
    "id": "as7LSgz-Jui9",
    "outputId": "7a52994e-22e6-4aad-931d-b7bf22c4e5e9"
   },
   "outputs": [
    {
     "data": {
      "text/plain": [
       "array([0, 1, 2, 3, 4, 5, 6, 7, 8, 9], dtype=uint8)"
      ]
     },
     "execution_count": 11,
     "metadata": {
      "tags": []
     },
     "output_type": "execute_result"
    }
   ],
   "source": [
    "y_train = np.array(data.get('y_train'))\n",
    "np.unique(y_train)"
   ]
  },
  {
   "cell_type": "markdown",
   "metadata": {
    "colab_type": "text",
    "id": "aLFqkxVAAUvS"
   },
   "source": [
    "The images are of 32 x 32 shape and the target variable has 10 distinct values"
   ]
  },
  {
   "cell_type": "code",
   "execution_count": 0,
   "metadata": {
    "colab": {},
    "colab_type": "code",
    "id": "k8k3TsXEV8A0"
   },
   "outputs": [],
   "source": [
    "X_val = np.array(data.get('X_val'))\n",
    "y_val = np.array(data.get('y_val'))\n",
    "X_test = np.array(data.get('X_test'))\n",
    "y_test = np.array(data.get('y_test'))"
   ]
  },
  {
   "cell_type": "code",
   "execution_count": 0,
   "metadata": {
    "colab": {},
    "colab_type": "code",
    "id": "54IQGw2gV76a"
   },
   "outputs": [],
   "source": [
    "y_train = tf.keras.utils.to_categorical(y_train)\n",
    "y_val = tf.keras.utils.to_categorical(y_val)\n",
    "y_test = tf.keras.utils.to_categorical(y_test)\n"
   ]
  },
  {
   "cell_type": "code",
   "execution_count": 14,
   "metadata": {
    "colab": {
     "base_uri": "https://localhost:8080/",
     "height": 598
    },
    "colab_type": "code",
    "id": "36VWWC6ZKOKo",
    "outputId": "ed6931ea-f638-4e7f-8b4a-5f48a29ea50a"
   },
   "outputs": [
    {
     "name": "stderr",
     "output_type": "stream",
     "text": [
      "/usr/local/lib/python3.6/dist-packages/matplotlib/text.py:1150: FutureWarning: elementwise comparison failed; returning scalar instead, but in the future will perform elementwise comparison\n",
      "  if s != self._text:\n"
     ]
    },
    {
     "data": {
      "image/png": "[encoded data removed]",
      "text/plain": [
       "<Figure size 432x288 with 1 Axes>"
      ]
     },
     "metadata": {
      "tags": []
     },
     "output_type": "display_data"
    },
    {
     "data": {
      "image/png": "[encoded data removed]",
      "text/plain": [
       "<Figure size 432x288 with 1 Axes>"
      ]
     },
     "metadata": {
      "tags": []
     },
     "output_type": "display_data"
    }
   ],
   "source": [
    "#lets display first 2 images with its class below\n",
    "for i in range(0,2):\n",
    "  plt.imshow(X_train[i],cmap='gray')\n",
    "  plt.xlabel(y_train[i])\n",
    "  plt.show()"
   ]
  },
  {
   "cell_type": "code",
   "execution_count": 17,
   "metadata": {
    "colab": {
     "base_uri": "https://localhost:8080/",
     "height": 90
    },
    "colab_type": "code",
    "id": "zvhLhtGqQHs4",
    "outputId": "603e6984-b086-4a20-b4da-cde2ad987131"
   },
   "outputs": [
    {
     "name": "stdout",
     "output_type": "stream",
     "text": [
      "WARNING:tensorflow:From /usr/local/lib/python3.6/dist-packages/tensorflow_core/python/ops/resource_variable_ops.py:1630: calling BaseResourceVariable.__init__ (from tensorflow.python.ops.resource_variable_ops) with constraint is deprecated and will be removed in a future version.\n",
      "Instructions for updating:\n",
      "If using Keras pass *_constraint arguments to layers.\n"
     ]
    }
   ],
   "source": [
    "#lets build the graph\n",
    "tf.keras.backend.clear_session()\n",
    "#initialize the model\n",
    "model = tf.keras.models.Sequential()\n",
    "#lets reshape the input\n",
    "model.add(tf.keras.layers.Reshape((1024,), input_shape=(32,32, )))\n",
    "#lets add first hidden layer\n",
    "model.add(tf.keras.layers.Dense(100, activation='relu'))\n",
    "#lets add second hidden layer\n",
    "model.add(tf.keras.layers.Dense(50, activation='relu'))\n",
    "#lets add the third hidden layer\n",
    "model.add(tf.keras.layers.Dense(10, activation='relu'))"
   ]
  },
  {
   "cell_type": "code",
   "execution_count": 0,
   "metadata": {
    "colab": {},
    "colab_type": "code",
    "id": "prj-86ziT_pa"
   },
   "outputs": [],
   "source": [
    "#lets add  the output layer\n",
    "model.add(tf.keras.layers.Dense(10, activation='softmax'))"
   ]
  },
  {
   "cell_type": "code",
   "execution_count": 0,
   "metadata": {
    "colab": {},
    "colab_type": "code",
    "id": "rfllrdijU1by"
   },
   "outputs": [],
   "source": [
    "#lets compile the model\n",
    "model.compile(optimizer='sgd', loss='categorical_crossentropy', metrics=['accuracy'])"
   ]
  },
  {
   "cell_type": "code",
   "execution_count": 20,
   "metadata": {
    "colab": {
     "base_uri": "https://localhost:8080/",
     "height": 764
    },
    "colab_type": "code",
    "id": "4ROdGPFtVWBo",
    "outputId": "e44713d1-30a4-4b48-98f7-7940a574566e"
   },
   "outputs": [
    {
     "name": "stdout",
     "output_type": "stream",
     "text": [
      "Train on 42000 samples, validate on 60000 samples\n",
      "Epoch 1/20\n",
      "42000/42000 [==============================] - 6s 153us/sample - loss: 2.4552 - acc: 0.1008 - val_loss: 2.3026 - val_acc: 0.1000\n",
      "Epoch 2/20\n",
      "42000/42000 [==============================] - 6s 133us/sample - loss: 2.3028 - acc: 0.1009 - val_loss: 2.3026 - val_acc: 0.1000\n",
      "Epoch 3/20\n",
      "42000/42000 [==============================] - 5s 131us/sample - loss: 2.3028 - acc: 0.1006 - val_loss: 2.3026 - val_acc: 0.1000\n",
      "Epoch 4/20\n",
      "42000/42000 [==============================] - 6s 134us/sample - loss: 2.3028 - acc: 0.0985 - val_loss: 2.3027 - val_acc: 0.1000\n",
      "Epoch 5/20\n",
      "42000/42000 [==============================] - 6s 133us/sample - loss: 2.3028 - acc: 0.0997 - val_loss: 2.3026 - val_acc: 0.1000\n",
      "Epoch 6/20\n",
      "42000/42000 [==============================] - 6s 139us/sample - loss: 2.3028 - acc: 0.0999 - val_loss: 2.3026 - val_acc: 0.1000\n",
      "Epoch 7/20\n",
      "42000/42000 [==============================] - 6s 138us/sample - loss: 2.3027 - acc: 0.0987 - val_loss: 2.3026 - val_acc: 0.1000\n",
      "Epoch 8/20\n",
      "42000/42000 [==============================] - 6s 136us/sample - loss: 2.3027 - acc: 0.1014 - val_loss: 2.3027 - val_acc: 0.1000\n",
      "Epoch 9/20\n",
      "42000/42000 [==============================] - 6s 133us/sample - loss: 2.3027 - acc: 0.0996 - val_loss: 2.3027 - val_acc: 0.1000\n",
      "Epoch 10/20\n",
      "42000/42000 [==============================] - 6s 132us/sample - loss: 2.3028 - acc: 0.1005 - val_loss: 2.3026 - val_acc: 0.1000\n",
      "Epoch 11/20\n",
      "42000/42000 [==============================] - 6s 131us/sample - loss: 2.3028 - acc: 0.0991 - val_loss: 2.3026 - val_acc: 0.1000\n",
      "Epoch 12/20\n",
      "42000/42000 [==============================] - 6s 133us/sample - loss: 2.3028 - acc: 0.1012 - val_loss: 2.3027 - val_acc: 0.1000\n",
      "Epoch 13/20\n",
      "42000/42000 [==============================] - 6s 132us/sample - loss: 2.3028 - acc: 0.0997 - val_loss: 2.3026 - val_acc: 0.1000\n",
      "Epoch 14/20\n",
      "42000/42000 [==============================] - 6s 133us/sample - loss: 2.3027 - acc: 0.0985 - val_loss: 2.3027 - val_acc: 0.1000\n",
      "Epoch 15/20\n",
      "42000/42000 [==============================] - 6s 133us/sample - loss: 2.3027 - acc: 0.0992 - val_loss: 2.3027 - val_acc: 0.1000\n",
      "Epoch 16/20\n",
      "42000/42000 [==============================] - 6s 132us/sample - loss: 2.3028 - acc: 0.0991 - val_loss: 2.3026 - val_acc: 0.1000\n",
      "Epoch 17/20\n",
      "42000/42000 [==============================] - 6s 133us/sample - loss: 2.3028 - acc: 0.0989 - val_loss: 2.3026 - val_acc: 0.1000\n",
      "Epoch 18/20\n",
      "42000/42000 [==============================] - 6s 134us/sample - loss: 2.3027 - acc: 0.0999 - val_loss: 2.3026 - val_acc: 0.1000\n",
      "Epoch 19/20\n",
      "42000/42000 [==============================] - 6s 132us/sample - loss: 2.3028 - acc: 0.1011 - val_loss: 2.3026 - val_acc: 0.1000\n",
      "Epoch 20/20\n",
      "42000/42000 [==============================] - 6s 132us/sample - loss: 2.3028 - acc: 0.1015 - val_loss: 2.3026 - val_acc: 0.1000\n"
     ]
    },
    {
     "data": {
      "text/plain": [
       "<tensorflow.python.keras.callbacks.History at 0x7f117111e9b0>"
      ]
     },
     "execution_count": 20,
     "metadata": {
      "tags": []
     },
     "output_type": "execute_result"
    }
   ],
   "source": [
    "#lets train our model\n",
    "model.fit(X_train,y_train,validation_data=(X_val, y_val), epochs=20, batch_size=32)"
   ]
  },
  {
   "cell_type": "markdown",
   "metadata": {
    "colab_type": "text",
    "id": "B_K2mNA2EwG0"
   },
   "source": [
    "when built model with out batch normalization and with 'relu' activation and 'sgd' optimizer, the loss has remained same through out the epochs which indicates vanishing gradient\n",
    "so lets add momentum and decay"
   ]
  },
  {
   "cell_type": "code",
   "execution_count": 0,
   "metadata": {
    "colab": {},
    "colab_type": "code",
    "id": "fy3bynyKLnbt"
   },
   "outputs": [],
   "source": [
    "#lets build the model with 'sgd' optimizer by adding momentum and decay\n",
    "tf.keras.backend.clear_session()\n",
    "#initialize the model\n",
    "model = tf.keras.models.Sequential()\n",
    "#lets reshape the input\n",
    "model.add(tf.keras.layers.Reshape((1024,), input_shape=(32,32, )))\n",
    "#lets batch normalise the data\n",
    "#model.add(tf.keras.layers.BatchNormalization())\n",
    "#lets add first hidden layer\n",
    "model.add(tf.keras.layers.Dense(10, activation='relu'))\n",
    "#lets add second hidden layer\n",
    "model.add(tf.keras.layers.Dense(10, activation='relu'))\n",
    "#lets add the third hidden layer\n",
    "model.add(tf.keras.layers.Dense(5, activation='relu'))"
   ]
  },
  {
   "cell_type": "code",
   "execution_count": 0,
   "metadata": {
    "colab": {},
    "colab_type": "code",
    "id": "i9_0AmZML-6n"
   },
   "outputs": [],
   "source": [
    "#lets add  the output layer\n",
    "model.add(tf.keras.layers.Dense(10, activation='softmax'))"
   ]
  },
  {
   "cell_type": "code",
   "execution_count": 0,
   "metadata": {
    "colab": {},
    "colab_type": "code",
    "id": "oAmeWUQvMAyv"
   },
   "outputs": [],
   "source": [
    "#lets compile the model\n",
    "#Create optimizer with default learning rate\n",
    "sgd_optimizer = tf.keras.optimizers.SGD(lr=0.001, decay=0.001, momentum=0.9, nesterov=True)\n",
    "model.compile(optimizer=sgd_optimizer, loss='categorical_crossentropy', metrics=['accuracy'])"
   ]
  },
  {
   "cell_type": "code",
   "execution_count": 55,
   "metadata": {
    "colab": {
     "base_uri": "https://localhost:8080/",
     "height": 764
    },
    "colab_type": "code",
    "id": "5ia0WLMgMFEA",
    "outputId": "35b78eac-83f6-4168-8202-f66bbba26848"
   },
   "outputs": [
    {
     "name": "stdout",
     "output_type": "stream",
     "text": [
      "Train on 42000 samples, validate on 60000 samples\n",
      "Epoch 1/20\n",
      "42000/42000 [==============================] - 4s 89us/sample - loss: 2.9055 - acc: 0.0985 - val_loss: 2.3026 - val_acc: 0.1000\n",
      "Epoch 2/20\n",
      "42000/42000 [==============================] - 4s 87us/sample - loss: 2.3026 - acc: 0.1016 - val_loss: 2.3026 - val_acc: 0.1000\n",
      "Epoch 3/20\n",
      "42000/42000 [==============================] - 4s 88us/sample - loss: 2.3026 - acc: 0.1019 - val_loss: 2.3026 - val_acc: 0.1000\n",
      "Epoch 4/20\n",
      "42000/42000 [==============================] - 4s 87us/sample - loss: 2.3026 - acc: 0.1019 - val_loss: 2.3026 - val_acc: 0.1000\n",
      "Epoch 5/20\n",
      "42000/42000 [==============================] - 4s 90us/sample - loss: 2.3026 - acc: 0.1019 - val_loss: 2.3026 - val_acc: 0.1000\n",
      "Epoch 6/20\n",
      "42000/42000 [==============================] - 4s 89us/sample - loss: 2.3026 - acc: 0.1019 - val_loss: 2.3026 - val_acc: 0.1000\n",
      "Epoch 7/20\n",
      "42000/42000 [==============================] - 4s 89us/sample - loss: 2.3026 - acc: 0.1019 - val_loss: 2.3026 - val_acc: 0.1000\n",
      "Epoch 8/20\n",
      "42000/42000 [==============================] - 4s 87us/sample - loss: 2.3026 - acc: 0.1019 - val_loss: 2.3026 - val_acc: 0.1000\n",
      "Epoch 9/20\n",
      "42000/42000 [==============================] - 4s 87us/sample - loss: 2.3026 - acc: 0.1019 - val_loss: 2.3026 - val_acc: 0.1000\n",
      "Epoch 10/20\n",
      "42000/42000 [==============================] - 4s 89us/sample - loss: 2.3026 - acc: 0.1019 - val_loss: 2.3026 - val_acc: 0.1000\n",
      "Epoch 11/20\n",
      "42000/42000 [==============================] - 4s 88us/sample - loss: 2.3026 - acc: 0.1019 - val_loss: 2.3026 - val_acc: 0.1000\n",
      "Epoch 12/20\n",
      "42000/42000 [==============================] - 4s 87us/sample - loss: 2.3026 - acc: 0.1019 - val_loss: 2.3026 - val_acc: 0.1000\n",
      "Epoch 13/20\n",
      "42000/42000 [==============================] - 4s 88us/sample - loss: 2.3026 - acc: 0.1019 - val_loss: 2.3026 - val_acc: 0.1000\n",
      "Epoch 14/20\n",
      "42000/42000 [==============================] - 4s 86us/sample - loss: 2.3026 - acc: 0.1019 - val_loss: 2.3026 - val_acc: 0.1000\n",
      "Epoch 15/20\n",
      "42000/42000 [==============================] - 4s 88us/sample - loss: 2.3026 - acc: 0.1019 - val_loss: 2.3026 - val_acc: 0.1000\n",
      "Epoch 16/20\n",
      "42000/42000 [==============================] - 4s 87us/sample - loss: 2.3026 - acc: 0.1019 - val_loss: 2.3026 - val_acc: 0.1000\n",
      "Epoch 17/20\n",
      "42000/42000 [==============================] - 4s 86us/sample - loss: 2.3026 - acc: 0.1019 - val_loss: 2.3026 - val_acc: 0.1000\n",
      "Epoch 18/20\n",
      "42000/42000 [==============================] - 4s 90us/sample - loss: 2.3026 - acc: 0.1019 - val_loss: 2.3026 - val_acc: 0.1000\n",
      "Epoch 19/20\n",
      "42000/42000 [==============================] - 4s 88us/sample - loss: 2.3026 - acc: 0.1019 - val_loss: 2.3026 - val_acc: 0.1000\n",
      "Epoch 20/20\n",
      "42000/42000 [==============================] - 4s 88us/sample - loss: 2.3026 - acc: 0.1019 - val_loss: 2.3026 - val_acc: 0.1000\n"
     ]
    },
    {
     "data": {
      "text/plain": [
       "<tensorflow.python.keras.callbacks.History at 0x7f1165f38198>"
      ]
     },
     "execution_count": 55,
     "metadata": {
      "tags": []
     },
     "output_type": "execute_result"
    }
   ],
   "source": [
    "#lets train our model\n",
    "model.fit(X_train,y_train,validation_data=(X_val, y_val), epochs=20, batch_size=32)"
   ]
  },
  {
   "cell_type": "markdown",
   "metadata": {
    "colab_type": "text",
    "id": "__uO4p6rOPG_"
   },
   "source": [
    "even after momentum and decay has added, there is no change in accuracy. lets batch normalize the data."
   ]
  },
  {
   "cell_type": "code",
   "execution_count": 0,
   "metadata": {
    "colab": {},
    "colab_type": "code",
    "id": "Dit03jQoM6bk"
   },
   "outputs": [],
   "source": [
    "#lets build the model with batch normalization\n",
    "tf.keras.backend.clear_session()\n",
    "#initialize the model\n",
    "model = tf.keras.models.Sequential()\n",
    "#lets reshape the input\n",
    "model.add(tf.keras.layers.Reshape((1024,), input_shape=(32,32, )))\n",
    "#lets batch normalise the data\n",
    "model.add(tf.keras.layers.BatchNormalization())\n",
    "#lets add first hidden layer\n",
    "model.add(tf.keras.layers.Dense(300, activation='relu'))\n",
    "#lets batch normalise the data\n",
    "model.add(tf.keras.layers.BatchNormalization())\n",
    "#lets add second hidden layer\n",
    "model.add(tf.keras.layers.Dense(200, activation='relu'))\n",
    "#lets batch normalise the data\n",
    "model.add(tf.keras.layers.BatchNormalization())\n",
    "#lets add the third hidden layer\n",
    "model.add(tf.keras.layers.Dense(50, activation='relu'))\n",
    "#lets add the third hidden layer\n",
    "model.add(tf.keras.layers.Dense(20, activation='relu'))\n",
    "#lets add the third hidden layer\n",
    "model.add(tf.keras.layers.Dense(5, activation='relu'))\n",
    "#lets batch normalise the data\n",
    "model.add(tf.keras.layers.BatchNormalization())"
   ]
  },
  {
   "cell_type": "code",
   "execution_count": 0,
   "metadata": {
    "colab": {},
    "colab_type": "code",
    "id": "QeWMWdemNDkP"
   },
   "outputs": [],
   "source": [
    "#lets add  the output layer\n",
    "model.add(tf.keras.layers.Dense(10, activation='softmax'))"
   ]
  },
  {
   "cell_type": "code",
   "execution_count": 0,
   "metadata": {
    "colab": {},
    "colab_type": "code",
    "id": "Q9IWNSMtNGc0"
   },
   "outputs": [],
   "source": [
    "#lets compile the model\n",
    "#Create optimizer with default learning rate\n",
    "sgd_optimizer = tf.keras.optimizers.SGD(lr=0.002, decay=0.001, momentum=0.9, nesterov=True)\n",
    "model.compile(optimizer=sgd_optimizer, loss='categorical_crossentropy', metrics=['accuracy'])"
   ]
  },
  {
   "cell_type": "code",
   "execution_count": 85,
   "metadata": {
    "colab": {
     "base_uri": "https://localhost:8080/",
     "height": 550
    },
    "colab_type": "code",
    "id": "1ma4KW5gs3_n",
    "outputId": "0e9d09ff-35d5-4a12-a0ff-fcebd662d481"
   },
   "outputs": [
    {
     "name": "stdout",
     "output_type": "stream",
     "text": [
      "Model: \"sequential\"\n",
      "_________________________________________________________________\n",
      "Layer (type)                 Output Shape              Param #   \n",
      "=================================================================\n",
      "reshape (Reshape)            (None, 1024)              0         \n",
      "_________________________________________________________________\n",
      "batch_normalization (BatchNo (None, 1024)              4096      \n",
      "_________________________________________________________________\n",
      "dense (Dense)                (None, 300)               307500    \n",
      "_________________________________________________________________\n",
      "batch_normalization_1 (Batch (None, 300)               1200      \n",
      "_________________________________________________________________\n",
      "dense_1 (Dense)              (None, 200)               60200     \n",
      "_________________________________________________________________\n",
      "batch_normalization_2 (Batch (None, 200)               800       \n",
      "_________________________________________________________________\n",
      "dense_2 (Dense)              (None, 50)                10050     \n",
      "_________________________________________________________________\n",
      "dense_3 (Dense)              (None, 20)                1020      \n",
      "_________________________________________________________________\n",
      "dense_4 (Dense)              (None, 5)                 105       \n",
      "_________________________________________________________________\n",
      "batch_normalization_3 (Batch (None, 5)                 20        \n",
      "_________________________________________________________________\n",
      "dense_5 (Dense)              (None, 10)                60        \n",
      "=================================================================\n",
      "Total params: 385,051\n",
      "Trainable params: 381,993\n",
      "Non-trainable params: 3,058\n",
      "_________________________________________________________________\n"
     ]
    }
   ],
   "source": [
    "model.summary()"
   ]
  },
  {
   "cell_type": "code",
   "execution_count": 86,
   "metadata": {
    "colab": {
     "base_uri": "https://localhost:8080/",
     "height": 1000
    },
    "colab_type": "code",
    "id": "Q4D6Os5dNJ30",
    "outputId": "05b520e5-9601-403d-d467-ad331289b11d"
   },
   "outputs": [
    {
     "name": "stdout",
     "output_type": "stream",
     "text": [
      "Train on 42000 samples, validate on 60000 samples\n",
      "Epoch 1/50\n",
      "42000/42000 [==============================] - 16s 375us/sample - loss: 1.9750 - acc: 0.3002 - val_loss: 1.6447 - val_acc: 0.4523\n",
      "Epoch 2/50\n",
      "42000/42000 [==============================] - 15s 357us/sample - loss: 1.5963 - acc: 0.4681 - val_loss: 1.3215 - val_acc: 0.5811\n",
      "Epoch 3/50\n",
      "42000/42000 [==============================] - 15s 352us/sample - loss: 1.3946 - acc: 0.5459 - val_loss: 1.1433 - val_acc: 0.6434\n",
      "Epoch 4/50\n",
      "42000/42000 [==============================] - 15s 360us/sample - loss: 1.2619 - acc: 0.5923 - val_loss: 1.0597 - val_acc: 0.6803\n",
      "Epoch 5/50\n",
      "42000/42000 [==============================] - 15s 353us/sample - loss: 1.1856 - acc: 0.6208 - val_loss: 0.9733 - val_acc: 0.7088\n",
      "Epoch 6/50\n",
      "42000/42000 [==============================] - 15s 363us/sample - loss: 1.1239 - acc: 0.6389 - val_loss: 0.9133 - val_acc: 0.7278\n",
      "Epoch 7/50\n",
      "42000/42000 [==============================] - 15s 346us/sample - loss: 1.0729 - acc: 0.6594 - val_loss: 0.8687 - val_acc: 0.7428\n",
      "Epoch 8/50\n",
      "42000/42000 [==============================] - 14s 344us/sample - loss: 1.0414 - acc: 0.6693 - val_loss: 0.8355 - val_acc: 0.7520\n",
      "Epoch 9/50\n",
      "42000/42000 [==============================] - 15s 349us/sample - loss: 1.0145 - acc: 0.6764 - val_loss: 0.8048 - val_acc: 0.7625\n",
      "Epoch 10/50\n",
      "42000/42000 [==============================] - 15s 351us/sample - loss: 0.9821 - acc: 0.6868 - val_loss: 0.7801 - val_acc: 0.7692\n",
      "Epoch 11/50\n",
      "42000/42000 [==============================] - 15s 345us/sample - loss: 0.9616 - acc: 0.6968 - val_loss: 0.7641 - val_acc: 0.7735\n",
      "Epoch 12/50\n",
      "42000/42000 [==============================] - 15s 360us/sample - loss: 0.9444 - acc: 0.6991 - val_loss: 0.7454 - val_acc: 0.7792\n",
      "Epoch 13/50\n",
      "42000/42000 [==============================] - 15s 353us/sample - loss: 0.9300 - acc: 0.7051 - val_loss: 0.7347 - val_acc: 0.7814\n",
      "Epoch 14/50\n",
      "42000/42000 [==============================] - 15s 361us/sample - loss: 0.9128 - acc: 0.7120 - val_loss: 0.7215 - val_acc: 0.7852\n",
      "Epoch 15/50\n",
      "42000/42000 [==============================] - 15s 350us/sample - loss: 0.9067 - acc: 0.7126 - val_loss: 0.7090 - val_acc: 0.7912\n",
      "Epoch 16/50\n",
      "42000/42000 [==============================] - 15s 354us/sample - loss: 0.8942 - acc: 0.7155 - val_loss: 0.7007 - val_acc: 0.7915\n",
      "Epoch 17/50\n",
      "42000/42000 [==============================] - 14s 338us/sample - loss: 0.8872 - acc: 0.7170 - val_loss: 0.6931 - val_acc: 0.7944\n",
      "Epoch 18/50\n",
      "42000/42000 [==============================] - 15s 361us/sample - loss: 0.8757 - acc: 0.7218 - val_loss: 0.6872 - val_acc: 0.7966\n",
      "Epoch 19/50\n",
      "42000/42000 [==============================] - 15s 358us/sample - loss: 0.8819 - acc: 0.7187 - val_loss: 0.6735 - val_acc: 0.8016\n",
      "Epoch 20/50\n",
      "42000/42000 [==============================] - 15s 355us/sample - loss: 0.8588 - acc: 0.7280 - val_loss: 0.6652 - val_acc: 0.8041\n",
      "Epoch 21/50\n",
      "42000/42000 [==============================] - 14s 342us/sample - loss: 0.8482 - acc: 0.7307 - val_loss: 0.6608 - val_acc: 0.8045\n",
      "Epoch 22/50\n",
      "42000/42000 [==============================] - 15s 355us/sample - loss: 0.8442 - acc: 0.7314 - val_loss: 0.6550 - val_acc: 0.8068\n",
      "Epoch 23/50\n",
      "42000/42000 [==============================] - 15s 367us/sample - loss: 0.8392 - acc: 0.7326 - val_loss: 0.6454 - val_acc: 0.8104\n",
      "Epoch 24/50\n",
      "42000/42000 [==============================] - 15s 360us/sample - loss: 0.8254 - acc: 0.7378 - val_loss: 0.6434 - val_acc: 0.8097\n",
      "Epoch 25/50\n",
      "42000/42000 [==============================] - 14s 340us/sample - loss: 0.8301 - acc: 0.7364 - val_loss: 0.6414 - val_acc: 0.8110\n",
      "Epoch 26/50\n",
      "42000/42000 [==============================] - 15s 350us/sample - loss: 0.8168 - acc: 0.7436 - val_loss: 0.6309 - val_acc: 0.8142\n",
      "Epoch 27/50\n",
      "42000/42000 [==============================] - 16s 379us/sample - loss: 0.8171 - acc: 0.7424 - val_loss: 0.6280 - val_acc: 0.8164\n",
      "Epoch 28/50\n",
      "42000/42000 [==============================] - 15s 364us/sample - loss: 0.8140 - acc: 0.7391 - val_loss: 0.6231 - val_acc: 0.8158\n",
      "Epoch 29/50\n",
      "42000/42000 [==============================] - 15s 353us/sample - loss: 0.8095 - acc: 0.7451 - val_loss: 0.6213 - val_acc: 0.8169\n",
      "Epoch 30/50\n",
      "42000/42000 [==============================] - 15s 359us/sample - loss: 0.8049 - acc: 0.7437 - val_loss: 0.6148 - val_acc: 0.8184\n",
      "Epoch 31/50\n",
      "42000/42000 [==============================] - 15s 368us/sample - loss: 0.7988 - acc: 0.7454 - val_loss: 0.6141 - val_acc: 0.8184\n",
      "Epoch 32/50\n",
      "42000/42000 [==============================] - 15s 367us/sample - loss: 0.7930 - acc: 0.7469 - val_loss: 0.6097 - val_acc: 0.8197\n",
      "Epoch 33/50\n",
      "42000/42000 [==============================] - 15s 358us/sample - loss: 0.7935 - acc: 0.7490 - val_loss: 0.6045 - val_acc: 0.8224\n",
      "Epoch 34/50\n",
      "42000/42000 [==============================] - 15s 365us/sample - loss: 0.7936 - acc: 0.7453 - val_loss: 0.6028 - val_acc: 0.8217\n",
      "Epoch 35/50\n",
      "42000/42000 [==============================] - 16s 370us/sample - loss: 0.7846 - acc: 0.7503 - val_loss: 0.5998 - val_acc: 0.8238\n",
      "Epoch 36/50\n",
      "42000/42000 [==============================] - 16s 377us/sample - loss: 0.7813 - acc: 0.7500 - val_loss: 0.5949 - val_acc: 0.8239\n",
      "Epoch 37/50\n",
      "42000/42000 [==============================] - 16s 390us/sample - loss: 0.7790 - acc: 0.7556 - val_loss: 0.5923 - val_acc: 0.8249\n",
      "Epoch 38/50\n",
      "42000/42000 [==============================] - 17s 416us/sample - loss: 0.7753 - acc: 0.7524 - val_loss: 0.5903 - val_acc: 0.8259\n",
      "Epoch 39/50\n",
      "42000/42000 [==============================] - 16s 378us/sample - loss: 0.7741 - acc: 0.7567 - val_loss: 0.5880 - val_acc: 0.8266\n",
      "Epoch 40/50\n",
      "42000/42000 [==============================] - 15s 362us/sample - loss: 0.7702 - acc: 0.7533 - val_loss: 0.5827 - val_acc: 0.8281\n",
      "Epoch 41/50\n",
      "42000/42000 [==============================] - 15s 368us/sample - loss: 0.7643 - acc: 0.7594 - val_loss: 0.5808 - val_acc: 0.8286\n",
      "Epoch 42/50\n",
      "42000/42000 [==============================] - 16s 383us/sample - loss: 0.7615 - acc: 0.7591 - val_loss: 0.5792 - val_acc: 0.8295\n",
      "Epoch 43/50\n",
      "42000/42000 [==============================] - 15s 358us/sample - loss: 0.7699 - acc: 0.7568 - val_loss: 0.5800 - val_acc: 0.8294\n",
      "Epoch 44/50\n",
      "42000/42000 [==============================] - 15s 348us/sample - loss: 0.7589 - acc: 0.7576 - val_loss: 0.5793 - val_acc: 0.8295\n",
      "Epoch 45/50\n",
      "42000/42000 [==============================] - 14s 338us/sample - loss: 0.7540 - acc: 0.7612 - val_loss: 0.5736 - val_acc: 0.8304\n",
      "Epoch 46/50\n",
      "42000/42000 [==============================] - 15s 351us/sample - loss: 0.7579 - acc: 0.7602 - val_loss: 0.5724 - val_acc: 0.8319\n",
      "Epoch 47/50\n",
      "42000/42000 [==============================] - 15s 356us/sample - loss: 0.7549 - acc: 0.7603 - val_loss: 0.5722 - val_acc: 0.8314\n",
      "Epoch 48/50\n",
      "42000/42000 [==============================] - 15s 351us/sample - loss: 0.7538 - acc: 0.7596 - val_loss: 0.5694 - val_acc: 0.8323\n",
      "Epoch 49/50\n",
      "42000/42000 [==============================] - 15s 348us/sample - loss: 0.7573 - acc: 0.7590 - val_loss: 0.5637 - val_acc: 0.8348\n",
      "Epoch 50/50\n",
      "42000/42000 [==============================] - 15s 352us/sample - loss: 0.7449 - acc: 0.7634 - val_loss: 0.5678 - val_acc: 0.8342\n"
     ]
    },
    {
     "data": {
      "text/plain": [
       "<tensorflow.python.keras.callbacks.History at 0x7f115f1480f0>"
      ]
     },
     "execution_count": 86,
     "metadata": {
      "tags": []
     },
     "output_type": "execute_result"
    }
   ],
   "source": [
    "#lets train our model\n",
    "model.fit(X_train,y_train,validation_data=(X_val, y_val), epochs=50)"
   ]
  },
  {
   "cell_type": "code",
   "execution_count": 87,
   "metadata": {
    "colab": {
     "base_uri": "https://localhost:8080/",
     "height": 35
    },
    "colab_type": "code",
    "id": "Vl9uDIkkP6DW",
    "outputId": "c655da34-1c70-404f-c4e1-35564ec5c810"
   },
   "outputs": [
    {
     "name": "stdout",
     "output_type": "stream",
     "text": [
      "18000/18000 [==============================] - 1s 68us/sample - loss: 0.7134 - acc: 0.7884\n"
     ]
    }
   ],
   "source": [
    "test_acc = model.evaluate(X_test, y_test, batch_size=32)"
   ]
  },
  {
   "cell_type": "code",
   "execution_count": 88,
   "metadata": {
    "colab": {
     "base_uri": "https://localhost:8080/",
     "height": 35
    },
    "colab_type": "code",
    "id": "a0jpdqd7Qgkw",
    "outputId": "c3cf99ba-46be-4db9-bd54-5f43c0ed9f22"
   },
   "outputs": [
    {
     "name": "stdout",
     "output_type": "stream",
     "text": [
      "The Test accuracy is -  0.78844446\n"
     ]
    }
   ],
   "source": [
    "print('The Test accuracy is - ',test_acc[1])\n"
   ]
  },
  {
   "cell_type": "markdown",
   "metadata": {
    "colab_type": "text",
    "id": "Ryw05eNgUGhM"
   },
   "source": [
    "batch normalizing the data has improved the accuracy of the model to a large extent . it has overcome the vanishing gradient."
   ]
  }
 ],
 "metadata": {
  "colab": {
   "name": "NeuralNetworks_Project2.ipynb",
   "provenance": [],
   "toc_visible": true
  },
  "kernelspec": {
   "display_name": "Python 3",
   "language": "python",
   "name": "python3"
  },
  "language_info": {
   "codemirror_mode": {
    "name": "ipython",
    "version": 3
   },
   "file_extension": ".py",
   "mimetype": "text/x-python",
   "name": "python",
   "nbconvert_exporter": "python",
   "pygments_lexer": "ipython3",
   "version": "3.7.4"
  }
 },
 "nbformat": 4,
 "nbformat_minor": 1
}
