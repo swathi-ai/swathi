{
  "nbformat": 4,
  "nbformat_minor": 0,
  "metadata": {
    "accelerator": "GPU",
    "colab": {
      "name": "CV_Project2_Dog_Breed_Classification_Questions.ipynb",
      "provenance": [],
      "collapsed_sections": [],
      "machine_shape": "hm"
    },
    "kernelspec": {
      "display_name": "Python 3",
      "language": "python",
      "name": "python3"
    },
    "language_info": {
      "codemirror_mode": {
        "name": "ipython",
        "version": 3
      },
      "file_extension": ".py",
      "mimetype": "text/x-python",
      "name": "python",
      "nbconvert_exporter": "python",
      "pygments_lexer": "ipython3",
      "version": "3.7.4"
    }
  },
  "cells": [
    {
      "cell_type": "markdown",
      "metadata": {
        "colab_type": "text",
        "id": "2kIWaR5ZpKlJ"
      },
      "source": [
        "## Dog Breed Classification\n",
        "\n",
        "In this project we will use traditional CNN, CNN with data augmentation and finally transfer Learning by VGG16 model with weights pre-trained on Imagenet to solve the dog breed classification problem"
      ]
    },
    {
      "cell_type": "markdown",
      "metadata": {
        "colab_type": "text",
        "id": "F7MDmaAw2xGO"
      },
      "source": [
        "### Load Dataset Files"
      ]
    },
    {
      "cell_type": "code",
      "metadata": {
        "colab_type": "code",
        "id": "BZWpQv1OwqYK",
        "colab": {}
      },
      "source": [
        "import pandas as pd\n",
        "import numpy as np\n",
        "import tensorflow as tf\n",
        "from sklearn.model_selection import train_test_split\n",
        "from tqdm import tqdm\n",
        "import cv2"
      ],
      "execution_count": 0,
      "outputs": []
    },
    {
      "cell_type": "markdown",
      "metadata": {
        "colab_type": "text",
        "id": "1q2zzIaUprk_"
      },
      "source": [
        "Now, upload the given dataset file shared with you in your google drive and give its path for the below given `project_path` variable. For example, a path is given below according to the file path in our google drive. You need to change this to match the path of yours."
      ]
    },
    {
      "cell_type": "code",
      "metadata": {
        "colab_type": "code",
        "id": "PO3g269O-MEP",
        "outputId": "4318d859-1d28-4928-88ee-188e40fff5d4",
        "colab": {
          "base_uri": "https://localhost:8080/",
          "height": 126
        }
      },
      "source": [
        "from google.colab import drive\n",
        "drive.mount('/content/drive')"
      ],
      "execution_count": 2,
      "outputs": [
        {
          "output_type": "stream",
          "text": [
            "Go to this URL in a browser: https://accounts.google.com/o/oauth2/auth?client_id=947318989803-6bn6qk8qdgf4n4g3pfee6491hc0brc4i.apps.googleusercontent.com&redirect_uri=urn%3aietf%3awg%3aoauth%3a2.0%3aoob&response_type=code&scope=email%20https%3a%2f%2fwww.googleapis.com%2fauth%2fdocs.test%20https%3a%2f%2fwww.googleapis.com%2fauth%2fdrive%20https%3a%2f%2fwww.googleapis.com%2fauth%2fdrive.photos.readonly%20https%3a%2f%2fwww.googleapis.com%2fauth%2fpeopleapi.readonly\n",
            "\n",
            "Enter your authorization code:\n",
            "··········\n",
            "Mounted at /content/drive\n"
          ],
          "name": "stdout"
        }
      ]
    },
    {
      "cell_type": "code",
      "metadata": {
        "colab_type": "code",
        "id": "Tp6FvAToxUFs",
        "colab": {}
      },
      "source": [
        "project_path = \"/content/drive/My Drive/CNN/Project2/DogBreed_Classification/\"\n",
        "#project_path = \"C:/Users/Swathi/Desktop/AIML/CNN/Project2/DogBreed_Classification/\""
      ],
      "execution_count": 0,
      "outputs": []
    },
    {
      "cell_type": "markdown",
      "metadata": {
        "colab_type": "text",
        "id": "rydR_j8lqUei"
      },
      "source": [
        "Run the below code to extract all the images in the train.zip files given in the dataset. We are going to use these images as train and validation sets and their labels in further steps."
      ]
    },
    {
      "cell_type": "code",
      "metadata": {
        "colab_type": "code",
        "id": "3350WZM4w4EL",
        "colab": {}
      },
      "source": [
        "from zipfile import ZipFile\n",
        "with ZipFile(project_path+'train.zip', 'r') as z:\n",
        "  z.extractall()"
      ],
      "execution_count": 0,
      "outputs": []
    },
    {
      "cell_type": "markdown",
      "metadata": {
        "colab_type": "text",
        "id": "3NHq1iBCfFjE"
      },
      "source": [
        "Repeat the same step for test.zip"
      ]
    },
    {
      "cell_type": "code",
      "metadata": {
        "colab_type": "code",
        "id": "_fxzynvB2YCb",
        "colab": {}
      },
      "source": [
        "with ZipFile(project_path+'test.zip', 'r') as z:\n",
        "  z.extractall()"
      ],
      "execution_count": 0,
      "outputs": []
    },
    {
      "cell_type": "markdown",
      "metadata": {
        "colab_type": "text",
        "id": "jnUMhQrDfJmz"
      },
      "source": [
        "Repeat the same step for sample_submission.csv.zip"
      ]
    },
    {
      "cell_type": "code",
      "metadata": {
        "colab_type": "code",
        "id": "4PyTxE8q2jLf",
        "colab": {}
      },
      "source": [
        "with ZipFile(project_path+'sample_submission.csv.zip', 'r') as z:\n",
        "  z.extractall()"
      ],
      "execution_count": 0,
      "outputs": []
    },
    {
      "cell_type": "markdown",
      "metadata": {
        "colab_type": "text",
        "id": "2G9RIxB-fOLT"
      },
      "source": [
        "Repeat the same step for labels.csv.zip"
      ]
    },
    {
      "cell_type": "code",
      "metadata": {
        "colab_type": "code",
        "id": "rXtnEoEixbgi",
        "colab": {}
      },
      "source": [
        "with ZipFile(project_path+'labels.csv.zip', 'r') as z:\n",
        "  z.extractall()"
      ],
      "execution_count": 0,
      "outputs": []
    },
    {
      "cell_type": "markdown",
      "metadata": {
        "colab_type": "text",
        "id": "sJc1lVrW_jmL"
      },
      "source": [
        "After this process, we will have 4 files - Train folder, test folder and labels.csv and sample_submission.csv as part of your google drive"
      ]
    },
    {
      "cell_type": "markdown",
      "metadata": {
        "colab_type": "text",
        "id": "aYmJKmDqqpng"
      },
      "source": [
        "### Read labels.csv file using pandas"
      ]
    },
    {
      "cell_type": "code",
      "metadata": {
        "colab_type": "code",
        "id": "WmlJ2VMY96IZ",
        "colab": {}
      },
      "source": [
        "#labels_df = pd.read_csv(project_path+\"labels.csv\")\n",
        "labels_df = pd.read_csv(\"labels.csv\")"
      ],
      "execution_count": 0,
      "outputs": []
    },
    {
      "cell_type": "code",
      "metadata": {
        "colab_type": "code",
        "id": "hPvb1RSc96If",
        "outputId": "bf111c59-58aa-45ee-a5db-0c7bcf18b648",
        "colab": {
          "base_uri": "https://localhost:8080/",
          "height": 200
        }
      },
      "source": [
        "labels_df.head()\n"
      ],
      "execution_count": 10,
      "outputs": [
        {
          "output_type": "execute_result",
          "data": {
            "text/html": [
              "<div>\n",
              "<style scoped>\n",
              "    .dataframe tbody tr th:only-of-type {\n",
              "        vertical-align: middle;\n",
              "    }\n",
              "\n",
              "    .dataframe tbody tr th {\n",
              "        vertical-align: top;\n",
              "    }\n",
              "\n",
              "    .dataframe thead th {\n",
              "        text-align: right;\n",
              "    }\n",
              "</style>\n",
              "<table border=\"1\" class=\"dataframe\">\n",
              "  <thead>\n",
              "    <tr style=\"text-align: right;\">\n",
              "      <th></th>\n",
              "      <th>id</th>\n",
              "      <th>breed</th>\n",
              "    </tr>\n",
              "  </thead>\n",
              "  <tbody>\n",
              "    <tr>\n",
              "      <th>0</th>\n",
              "      <td>000bec180eb18c7604dcecc8fe0dba07</td>\n",
              "      <td>boston_bull</td>\n",
              "    </tr>\n",
              "    <tr>\n",
              "      <th>1</th>\n",
              "      <td>001513dfcb2ffafc82cccf4d8bbaba97</td>\n",
              "      <td>dingo</td>\n",
              "    </tr>\n",
              "    <tr>\n",
              "      <th>2</th>\n",
              "      <td>001cdf01b096e06d78e9e5112d419397</td>\n",
              "      <td>pekinese</td>\n",
              "    </tr>\n",
              "    <tr>\n",
              "      <th>3</th>\n",
              "      <td>00214f311d5d2247d5dfe4fe24b2303d</td>\n",
              "      <td>bluetick</td>\n",
              "    </tr>\n",
              "    <tr>\n",
              "      <th>4</th>\n",
              "      <td>0021f9ceb3235effd7fcde7f7538ed62</td>\n",
              "      <td>golden_retriever</td>\n",
              "    </tr>\n",
              "  </tbody>\n",
              "</table>\n",
              "</div>"
            ],
            "text/plain": [
              "                                 id             breed\n",
              "0  000bec180eb18c7604dcecc8fe0dba07       boston_bull\n",
              "1  001513dfcb2ffafc82cccf4d8bbaba97             dingo\n",
              "2  001cdf01b096e06d78e9e5112d419397          pekinese\n",
              "3  00214f311d5d2247d5dfe4fe24b2303d          bluetick\n",
              "4  0021f9ceb3235effd7fcde7f7538ed62  golden_retriever"
            ]
          },
          "metadata": {
            "tags": []
          },
          "execution_count": 10
        }
      ]
    },
    {
      "cell_type": "markdown",
      "metadata": {
        "colab_type": "text",
        "id": "QP8YAzQvqyK-"
      },
      "source": [
        "### Print the count of each category of Dogs given in the dataset\n",
        "\n"
      ]
    },
    {
      "cell_type": "code",
      "metadata": {
        "colab_type": "code",
        "id": "3L2naXlr96Im",
        "outputId": "0c63991a-7039-4647-b470-d23b4b039016",
        "colab": {
          "base_uri": "https://localhost:8080/",
          "height": 124
        }
      },
      "source": [
        "breed_count = labels_df['breed'].value_counts()\n",
        "breed_count.head()"
      ],
      "execution_count": 11,
      "outputs": [
        {
          "output_type": "execute_result",
          "data": {
            "text/plain": [
              "scottish_deerhound      126\n",
              "maltese_dog             117\n",
              "afghan_hound            116\n",
              "entlebucher             115\n",
              "bernese_mountain_dog    114\n",
              "Name: breed, dtype: int64"
            ]
          },
          "metadata": {
            "tags": []
          },
          "execution_count": 11
        }
      ]
    },
    {
      "cell_type": "code",
      "metadata": {
        "colab_type": "code",
        "id": "CLm3W5RN96Ir",
        "outputId": "358b8b31-2031-486e-a2ea-a6d61dcd57cc",
        "colab": {
          "base_uri": "https://localhost:8080/",
          "height": 35
        }
      },
      "source": [
        "breed_count.shape"
      ],
      "execution_count": 12,
      "outputs": [
        {
          "output_type": "execute_result",
          "data": {
            "text/plain": [
              "(120,)"
            ]
          },
          "metadata": {
            "tags": []
          },
          "execution_count": 12
        }
      ]
    },
    {
      "cell_type": "markdown",
      "metadata": {
        "colab_type": "text",
        "id": "WI94_Qcc0D4M"
      },
      "source": [
        "### Get one-hot encodings of labels"
      ]
    },
    {
      "cell_type": "code",
      "metadata": {
        "colab_type": "code",
        "id": "Q48iAcY196I3",
        "colab": {}
      },
      "source": [
        "target_labels = pd.Series(labels_df['breed'])\n",
        "one_hot_encoding = pd.get_dummies(target_labels, sparse=True)\n",
        "one_hot_labels = np.asarray(one_hot_encoding)"
      ],
      "execution_count": 0,
      "outputs": []
    },
    {
      "cell_type": "code",
      "metadata": {
        "colab_type": "code",
        "id": "9nlWmRNM96I8",
        "outputId": "e6a085fe-9bec-4499-e598-69d0660150c0",
        "colab": {
          "base_uri": "https://localhost:8080/",
          "height": 124
        }
      },
      "source": [
        "one_hot_labels[0]"
      ],
      "execution_count": 14,
      "outputs": [
        {
          "output_type": "execute_result",
          "data": {
            "text/plain": [
              "array([0, 0, 0, 0, 0, 0, 0, 0, 0, 0, 0, 0, 0, 0, 0, 0, 0, 0, 0, 1, 0, 0,\n",
              "       0, 0, 0, 0, 0, 0, 0, 0, 0, 0, 0, 0, 0, 0, 0, 0, 0, 0, 0, 0, 0, 0,\n",
              "       0, 0, 0, 0, 0, 0, 0, 0, 0, 0, 0, 0, 0, 0, 0, 0, 0, 0, 0, 0, 0, 0,\n",
              "       0, 0, 0, 0, 0, 0, 0, 0, 0, 0, 0, 0, 0, 0, 0, 0, 0, 0, 0, 0, 0, 0,\n",
              "       0, 0, 0, 0, 0, 0, 0, 0, 0, 0, 0, 0, 0, 0, 0, 0, 0, 0, 0, 0, 0, 0,\n",
              "       0, 0, 0, 0, 0, 0, 0, 0, 0, 0], dtype=uint8)"
            ]
          },
          "metadata": {
            "tags": []
          },
          "execution_count": 14
        }
      ]
    },
    {
      "cell_type": "markdown",
      "metadata": {
        "colab_type": "text",
        "id": "VWaJ9naXfoiU"
      },
      "source": [
        "## Preparing training dataset\n",
        "1. Write a code which reads each and every id from labels.csv file and loads the corresponding image (in RGB - 128, 128, 3) from the train folder. <br>\n",
        "2. Create 2 variables <br> \n",
        "     a.  x_train - Should have all the images of the dogs from train folder <br>\n",
        "     b.  y_train - Corresponding label of the dog <br>\n",
        "<u>Note:</u> The id of the dog images and its corresponding labels are available in labels.csv file   \n",
        "<u>Hint:</u> Watch the video shared on \"Preparing the training dataset\" if you face issue on creating the training dataset"
      ]
    },
    {
      "cell_type": "code",
      "metadata": {
        "colab_type": "code",
        "id": "aC2f9ecR0XGR",
        "colab": {}
      },
      "source": [
        "img_size = 150\n",
        "img_rows = 150\n",
        "img_cols = 150\n",
        "num_channel = 3\n",
        "X_train = []\n",
        "y_train = []"
      ],
      "execution_count": 0,
      "outputs": []
    },
    {
      "cell_type": "code",
      "metadata": {
        "colab_type": "code",
        "id": "A8B7j0sbA5lr",
        "outputId": "b58ca869-085d-48c3-8ab7-e5dd77717f15",
        "colab": {
          "base_uri": "https://localhost:8080/",
          "height": 35
        }
      },
      "source": [
        "for ids, label in tqdm(labels_df.values):\n",
        "  train_img = cv2.imread('./train/{}.jpg'.format(ids), 1) \n",
        "  train_img_resized = cv2.resize(train_img, (img_rows, img_cols))\n",
        "  X_train.append(train_img_resized)\n",
        "  y_train.append(label)"
      ],
      "execution_count": 18,
      "outputs": [
        {
          "output_type": "stream",
          "text": [
            "100%|██████████| 10222/10222 [00:31<00:00, 328.87it/s]\n"
          ],
          "name": "stderr"
        }
      ]
    },
    {
      "cell_type": "code",
      "metadata": {
        "colab_type": "code",
        "id": "q2aLdopQD-a0",
        "outputId": "cfec606d-6d6c-475f-e54b-188766d5f1cc",
        "colab": {
          "base_uri": "https://localhost:8080/",
          "height": 35
        }
      },
      "source": [
        "y_train[0]"
      ],
      "execution_count": 20,
      "outputs": [
        {
          "output_type": "execute_result",
          "data": {
            "text/plain": [
              "'boston_bull'"
            ]
          },
          "metadata": {
            "tags": []
          },
          "execution_count": 20
        }
      ]
    },
    {
      "cell_type": "code",
      "metadata": {
        "colab_type": "code",
        "id": "V5hIn-glEkPI",
        "outputId": "331d3c71-ddad-4cb5-bef7-014d37fdd186",
        "colab": {
          "base_uri": "https://localhost:8080/",
          "height": 287
        }
      },
      "source": [
        "import matplotlib.pyplot as plt\n",
        "plt.imshow(X_train[0])"
      ],
      "execution_count": 21,
      "outputs": [
        {
          "output_type": "execute_result",
          "data": {
            "text/plain": [
              "<matplotlib.image.AxesImage at 0x7fa1ce282d30>"
            ]
          },
          "metadata": {
            "tags": []
          },
          "execution_count": 21
        },
        {
          "output_type": "display_data",
          "data": {
            "image/png": "[encoded data removed]",
            "text/plain": [
              "<Figure size 432x288 with 1 Axes>"
            ]
          },
          "metadata": {
            "tags": [],
            "needs_background": "light"
          }
        }
      ]
    },
    {
      "cell_type": "markdown",
      "metadata": {
        "colab_type": "text",
        "id": "6ioWDEgElBOs"
      },
      "source": [
        "Normalize the training data and convert into 4 dimensions so that it can be used as an input to conv layers in the model"
      ]
    },
    {
      "cell_type": "code",
      "metadata": {
        "colab_type": "code",
        "id": "ARn76j3U1CDa",
        "colab": {}
      },
      "source": [
        "#normalize the image data\n",
        "X_train = np.array(X_train)/255"
      ],
      "execution_count": 0,
      "outputs": []
    },
    {
      "cell_type": "code",
      "metadata": {
        "id": "lT_BF6xQllHO",
        "colab_type": "code",
        "colab": {}
      },
      "source": [
        "#converting in to 4 dimensions\n",
        "x_train = np.reshape(X_train, (X_train.shape[0], X_train.shape[1], X_train.shape[2],3))"
      ],
      "execution_count": 0,
      "outputs": []
    },
    {
      "cell_type": "code",
      "metadata": {
        "id": "TYCSS5s8lh7q",
        "colab_type": "code",
        "colab": {}
      },
      "source": [
        "#one-hot-encode the labels\n",
        "y_train = pd.Series(y_train)\n",
        "y_train = pd.get_dummies(y_train, sparse=True)\n",
        "y_train_data = np.asarray(y_train)"
      ],
      "execution_count": 0,
      "outputs": []
    },
    {
      "cell_type": "markdown",
      "metadata": {
        "colab_type": "text",
        "id": "bdCXuAE11gZL"
      },
      "source": [
        "### Split the training and validation data from `x_train_data` and `y_train_data` obtained from above step"
      ]
    },
    {
      "cell_type": "code",
      "metadata": {
        "colab_type": "code",
        "id": "kpWx-pgV96Jv",
        "colab": {}
      },
      "source": [
        "X_train_new, X_validation, y_train_new, y_validation = train_test_split(X_train, y_train_data, test_size=0.30, random_state=6)\n"
      ],
      "execution_count": 0,
      "outputs": []
    },
    {
      "cell_type": "code",
      "metadata": {
        "colab_type": "code",
        "id": "jQxTaHOXrwzR",
        "outputId": "f6f5d731-e56e-4f4b-99da-3f1465a57441",
        "colab": {
          "base_uri": "https://localhost:8080/",
          "height": 52
        }
      },
      "source": [
        "print(X_train_new.shape)\n",
        "print(X_validation.shape)\n"
      ],
      "execution_count": 26,
      "outputs": [
        {
          "output_type": "stream",
          "text": [
            "(7155, 150, 150, 3)\n",
            "(3067, 150, 150, 3)\n"
          ],
          "name": "stdout"
        }
      ]
    },
    {
      "cell_type": "markdown",
      "metadata": {
        "colab_type": "text",
        "id": "XkL-N1jDsU8m"
      },
      "source": [
        "### Loading the test data\n",
        "Read the id column from the samples_submission.csv and store it in test_img"
      ]
    },
    {
      "cell_type": "code",
      "metadata": {
        "colab_type": "code",
        "id": "DnpXdpd9b3E7",
        "colab": {}
      },
      "source": [
        "sample_df = pd.read_csv('sample_submission.csv')"
      ],
      "execution_count": 0,
      "outputs": []
    },
    {
      "cell_type": "code",
      "metadata": {
        "colab_type": "code",
        "id": "LiQV3nNPBVHY",
        "colab": {}
      },
      "source": [
        "test_img = sample_df['id']"
      ],
      "execution_count": 0,
      "outputs": []
    },
    {
      "cell_type": "markdown",
      "metadata": {
        "colab_type": "text",
        "id": "DEJqZIMbm0Jo"
      },
      "source": [
        "Run the below code to load the test image files in x_test_feature"
      ]
    },
    {
      "cell_type": "code",
      "metadata": {
        "colab_type": "code",
        "id": "zf7n4WG-b3Hv",
        "outputId": "0210b026-900e-47bf-b324-7c958b6e36cc",
        "colab": {
          "base_uri": "https://localhost:8080/",
          "height": 35
        }
      },
      "source": [
        "x_test_feature = []\n",
        "i = 0 # initialisation\n",
        "for f in tqdm(test_img.values): # f for format ,jpg\n",
        "    img = cv2.imread('./test/{}.jpg'.format(f), 1)\n",
        "    img_resize = cv2.resize(img, (img_rows, img_cols)) \n",
        "    x_test_feature.append(img_resize)"
      ],
      "execution_count": 0,
      "outputs": [
        {
          "output_type": "stream",
          "text": [
            "100%|██████████| 10357/10357 [00:32<00:00, 316.62it/s]\n"
          ],
          "name": "stderr"
        }
      ]
    },
    {
      "cell_type": "markdown",
      "metadata": {
        "colab_type": "text",
        "id": "9My6qSyDnE-_"
      },
      "source": [
        "Normalize the test data and convert it into 4 dimensions"
      ]
    },
    {
      "cell_type": "code",
      "metadata": {
        "id": "vU37NcPdaq_m",
        "colab_type": "code",
        "colab": {}
      },
      "source": [
        "#normalize the test image data\n",
        "X_test_img = np.array(x_test_feature)/255"
      ],
      "execution_count": 0,
      "outputs": []
    },
    {
      "cell_type": "code",
      "metadata": {
        "id": "ktnT7aWRaq1e",
        "colab_type": "code",
        "outputId": "afa50a7f-b60b-4403-fae0-5912ef6077dc",
        "colab": {
          "base_uri": "https://localhost:8080/",
          "height": 35
        }
      },
      "source": [
        "#converting in to 4 dimensions\n",
        "X_test_img = np.reshape(X_test_img, (X_test_img.shape[0], X_test_img.shape[1], X_test_img.shape[2],3))\n",
        "print(X_test_img.shape)"
      ],
      "execution_count": 0,
      "outputs": [
        {
          "output_type": "stream",
          "text": [
            "(10357, 150, 150, 3)\n"
          ],
          "name": "stdout"
        }
      ]
    },
    {
      "cell_type": "markdown",
      "metadata": {
        "colab_type": "text",
        "id": "zKezNJVMsocP"
      },
      "source": [
        "### Build a basic conv neural network with 2 conv layers (kernel sizes - 5 and 3) add layers as mentioned below for classification.\n",
        "\n",
        "1. Add a Dense layer with 256 neurons with `relu` activation\n",
        "\n",
        "2. Add a Dense layer with 120 neurons as final layer (as there are 120 classes in the given dataset) with `softmax` activation for classifiaction. "
      ]
    },
    {
      "cell_type": "code",
      "metadata": {
        "colab_type": "code",
        "id": "D2jxTY2S96J4",
        "colab": {}
      },
      "source": [
        "#Clear any previous model from memory\n",
        "tf.keras.backend.clear_session()\n",
        "\n",
        "#Initialize model\n",
        "model = tf.keras.models.Sequential()\n",
        "\n",
        "#Add Conv Layer\n",
        "model.add(tf.keras.layers.Conv2D(32, kernel_size=(5,5),input_shape=(150,150,3,), activation='relu'))\n",
        "\n",
        "#Add Conv Layer\n",
        "model.add(tf.keras.layers.Conv2D(64, kernel_size=(3,3), activation='relu'))\n",
        "\n",
        "#Add Dense Layers after flattening the data\n",
        "model.add(tf.keras.layers.Flatten())\n",
        "model.add(tf.keras.layers.Dense(256, activation='relu'))\n",
        "\n",
        "#Add Output Layer\n",
        "model.add(tf.keras.layers.Dense(120, activation='softmax'))"
      ],
      "execution_count": 0,
      "outputs": []
    },
    {
      "cell_type": "markdown",
      "metadata": {
        "colab_type": "text",
        "id": "ui8EXw6_oqpR"
      },
      "source": [
        "### Use batch_size = 128 and epochs = 10 and execute the model"
      ]
    },
    {
      "cell_type": "code",
      "metadata": {
        "colab_type": "code",
        "id": "IriIc37NozbK",
        "colab": {}
      },
      "source": [
        "#Specify Loass and Optimizer\n",
        "model.compile(optimizer='adam', loss='categorical_crossentropy', metrics=['accuracy'])"
      ],
      "execution_count": 0,
      "outputs": []
    },
    {
      "cell_type": "code",
      "metadata": {
        "colab_type": "code",
        "id": "iwkgInWPdgRP",
        "outputId": "571cef12-a20f-41c5-9afa-811f3544f1cc",
        "colab": {
          "base_uri": "https://localhost:8080/",
          "height": 337
        }
      },
      "source": [
        "model.summary()"
      ],
      "execution_count": 33,
      "outputs": [
        {
          "output_type": "stream",
          "text": [
            "Model: \"sequential\"\n",
            "_________________________________________________________________\n",
            "Layer (type)                 Output Shape              Param #   \n",
            "=================================================================\n",
            "conv2d (Conv2D)              (None, 146, 146, 32)      2432      \n",
            "_________________________________________________________________\n",
            "conv2d_1 (Conv2D)            (None, 144, 144, 64)      18496     \n",
            "_________________________________________________________________\n",
            "flatten (Flatten)            (None, 1327104)           0         \n",
            "_________________________________________________________________\n",
            "dense (Dense)                (None, 256)               339738880 \n",
            "_________________________________________________________________\n",
            "dense_1 (Dense)              (None, 120)               30840     \n",
            "=================================================================\n",
            "Total params: 339,790,648\n",
            "Trainable params: 339,790,648\n",
            "Non-trainable params: 0\n",
            "_________________________________________________________________\n"
          ],
          "name": "stdout"
        }
      ]
    },
    {
      "cell_type": "code",
      "metadata": {
        "colab_type": "code",
        "id": "0PR9j5_Xozmd",
        "outputId": "9c87c09b-f4b6-45f7-91af-f5a08f53565c",
        "colab": {
          "base_uri": "https://localhost:8080/",
          "height": 410
        }
      },
      "source": [
        "model.fit(X_train_new, y_train_new,          \n",
        "          validation_data=(X_validation,y_validation),\n",
        "          epochs=10,\n",
        "          batch_size=128)"
      ],
      "execution_count": 34,
      "outputs": [
        {
          "output_type": "stream",
          "text": [
            "Epoch 1/10\n",
            "56/56 [==============================] - 43s 768ms/step - loss: 10.9329 - accuracy: 0.0068 - val_loss: 4.7870 - val_accuracy: 0.0082\n",
            "Epoch 2/10\n",
            "56/56 [==============================] - 41s 731ms/step - loss: 4.7880 - accuracy: 0.0113 - val_loss: 4.7865 - val_accuracy: 0.0088\n",
            "Epoch 3/10\n",
            "56/56 [==============================] - 41s 737ms/step - loss: 4.7766 - accuracy: 0.0145 - val_loss: 4.7782 - val_accuracy: 0.0078\n",
            "Epoch 4/10\n",
            "56/56 [==============================] - 41s 740ms/step - loss: 4.7837 - accuracy: 0.0189 - val_loss: 4.7857 - val_accuracy: 0.0091\n",
            "Epoch 5/10\n",
            "56/56 [==============================] - 41s 730ms/step - loss: 4.7778 - accuracy: 0.0158 - val_loss: 4.8699 - val_accuracy: 0.0078\n",
            "Epoch 6/10\n",
            "56/56 [==============================] - 41s 732ms/step - loss: 4.5301 - accuracy: 0.0521 - val_loss: 4.8281 - val_accuracy: 0.0199\n",
            "Epoch 7/10\n",
            "56/56 [==============================] - 41s 736ms/step - loss: 2.8086 - accuracy: 0.3800 - val_loss: 6.2075 - val_accuracy: 0.0209\n",
            "Epoch 8/10\n",
            "56/56 [==============================] - 42s 752ms/step - loss: 0.7497 - accuracy: 0.8407 - val_loss: 9.8730 - val_accuracy: 0.0238\n",
            "Epoch 9/10\n",
            "56/56 [==============================] - 42s 752ms/step - loss: 0.1564 - accuracy: 0.9806 - val_loss: 10.7259 - val_accuracy: 0.0218\n",
            "Epoch 10/10\n",
            "56/56 [==============================] - 42s 750ms/step - loss: 0.0634 - accuracy: 0.9934 - val_loss: 12.7262 - val_accuracy: 0.0231\n"
          ],
          "name": "stdout"
        },
        {
          "output_type": "execute_result",
          "data": {
            "text/plain": [
              "<tensorflow.python.keras.callbacks.History at 0x7fa1c00e54e0>"
            ]
          },
          "metadata": {
            "tags": []
          },
          "execution_count": 34
        }
      ]
    },
    {
      "cell_type": "markdown",
      "metadata": {
        "colab_type": "text",
        "id": "Z8hWaKmjoz69"
      },
      "source": [
        "#The model accuracy is very poor !!!!"
      ]
    },
    {
      "cell_type": "markdown",
      "metadata": {
        "colab_type": "text",
        "id": "agJKkc6xtKiq"
      },
      "source": [
        "### Use Data Augmentation in the above model to see if the accuracy improves\n"
      ]
    },
    {
      "cell_type": "code",
      "metadata": {
        "colab_type": "code",
        "id": "31Mn8qnZb3Ru",
        "colab": {}
      },
      "source": [
        "#ImageDataGenerator declaration with 20% data as test (80% for training)\n",
        "img_generator= tf.keras.preprocessing.image.ImageDataGenerator(rotation_range=20,\n",
        "                                                               width_shift_range=0.2,\n",
        "                                                               height_shift_range=0.2,\n",
        "                                                               horizontal_flip=True,\n",
        "                                                               validation_split=0.2)"
      ],
      "execution_count": 0,
      "outputs": []
    },
    {
      "cell_type": "markdown",
      "metadata": {
        "colab_type": "text",
        "id": "6sssbaTfxlkk"
      },
      "source": [
        "### Using the above objects, create the image generators with variable names `train_generator` and `val_generator`\n",
        "\n",
        "You need to use train_datagen.flow() and val_datagen.flow()"
      ]
    },
    {
      "cell_type": "code",
      "metadata": {
        "colab_type": "code",
        "id": "sehaRgT-96KQ",
        "colab": {}
      },
      "source": [
        "#Build training generator. \n",
        "train_generator = img_generator.flow(X_train_new, y_train_new, batch_size=32)\n",
        "\n",
        "#Build test generator\n",
        "val_generator = img_generator.flow(X_validation, y_validation, batch_size=32)\n"
      ],
      "execution_count": 0,
      "outputs": []
    },
    {
      "cell_type": "code",
      "metadata": {
        "colab_type": "code",
        "id": "ZcMUUKiKh1S2",
        "colab": {}
      },
      "source": [
        "#Saving the best model using model checkpoint callback\n",
        "#model_checkpoint=tf.keras.callbacks.ModelCheckpoint('dogbreed_cnn.h5', \n",
        " #                                                   save_best_only=True, \n",
        "  #                                                  monitor='val_accuracy', \n",
        "   #                                                 mode='max', \n",
        "    #                                                verbose=1)"
      ],
      "execution_count": 0,
      "outputs": []
    },
    {
      "cell_type": "markdown",
      "metadata": {
        "colab_type": "text",
        "id": "TVFQJZw3x4-C"
      },
      "source": [
        "### Fit the model using fit_generator() using `train_generator` and `val_generator` from the above step with 10 epochs"
      ]
    },
    {
      "cell_type": "code",
      "metadata": {
        "colab_type": "code",
        "id": "J1K2MqHbuPUa",
        "outputId": "0c757f37-7a94-449e-e402-1f9c5cd57a3b",
        "colab": {
          "base_uri": "https://localhost:8080/",
          "height": 464
        }
      },
      "source": [
        "model.fit_generator(train_generator,\n",
        "                    epochs=10,\n",
        "                    steps_per_epoch= 7155//128,  #Number of training images//batch_size\n",
        "                    validation_data=val_generator,\n",
        "                    validation_steps = 3067//128, #Number of test images//batch_size\n",
        "                    )"
      ],
      "execution_count": 38,
      "outputs": [
        {
          "output_type": "stream",
          "text": [
            "WARNING:tensorflow:From <ipython-input-38-10a389a5c83f>:5: Model.fit_generator (from tensorflow.python.keras.engine.training) is deprecated and will be removed in a future version.\n",
            "Instructions for updating:\n",
            "Please use Model.fit, which supports generators.\n",
            "Epoch 1/10\n",
            "55/55 [==============================] - 20s 370ms/step - loss: 4.9991 - accuracy: 0.0085 - val_loss: 4.7865 - val_accuracy: 0.0122\n",
            "Epoch 2/10\n",
            "55/55 [==============================] - 20s 369ms/step - loss: 4.8140 - accuracy: 0.0102 - val_loss: 4.7833 - val_accuracy: 0.0122\n",
            "Epoch 3/10\n",
            "55/55 [==============================] - 20s 368ms/step - loss: 4.7797 - accuracy: 0.0108 - val_loss: 4.7816 - val_accuracy: 0.0109\n",
            "Epoch 4/10\n",
            "55/55 [==============================] - 20s 367ms/step - loss: 4.7828 - accuracy: 0.0131 - val_loss: 4.7914 - val_accuracy: 0.0041\n",
            "Epoch 5/10\n",
            "55/55 [==============================] - 21s 375ms/step - loss: 4.7776 - accuracy: 0.0103 - val_loss: 4.7873 - val_accuracy: 0.0082\n",
            "Epoch 6/10\n",
            "55/55 [==============================] - 20s 368ms/step - loss: 4.7796 - accuracy: 0.0119 - val_loss: 4.7860 - val_accuracy: 0.0095\n",
            "Epoch 7/10\n",
            "55/55 [==============================] - 20s 370ms/step - loss: 4.7742 - accuracy: 0.0091 - val_loss: 4.7884 - val_accuracy: 0.0054\n",
            "Epoch 8/10\n",
            "55/55 [==============================] - 20s 369ms/step - loss: 4.8021 - accuracy: 0.0136 - val_loss: 4.7805 - val_accuracy: 0.0163\n",
            "Epoch 9/10\n",
            "55/55 [==============================] - 20s 367ms/step - loss: 4.7771 - accuracy: 0.0114 - val_loss: 4.7842 - val_accuracy: 0.0163\n",
            "Epoch 10/10\n",
            "55/55 [==============================] - 20s 369ms/step - loss: 4.7789 - accuracy: 0.0097 - val_loss: 4.7885 - val_accuracy: 0.0122\n"
          ],
          "name": "stdout"
        },
        {
          "output_type": "execute_result",
          "data": {
            "text/plain": [
              "<tensorflow.python.keras.callbacks.History at 0x7f9f26f70400>"
            ]
          },
          "metadata": {
            "tags": []
          },
          "execution_count": 38
        }
      ]
    },
    {
      "cell_type": "markdown",
      "metadata": {
        "colab_type": "text",
        "id": "Q2zmLztqo5DY"
      },
      "source": [
        "# Model accuracy is still poor!!!"
      ]
    },
    {
      "cell_type": "markdown",
      "metadata": {
        "colab_type": "text",
        "id": "rSTATrhsAo7L"
      },
      "source": [
        "### Lets use Transfer Learning\n",
        "\n",
        "Download the vgg wieght file from here : https://github.com/MinerKasch/applied_deep_learning/blob/master/vgg16_weights_tf_dim_ordering_tf_kernels_notop.h5"
      ]
    },
    {
      "cell_type": "markdown",
      "metadata": {
        "colab_type": "text",
        "id": "zy5JdbW6pIvD"
      },
      "source": [
        "Use the below code to load VGG16 weights trained on ImageNet"
      ]
    },
    {
      "cell_type": "code",
      "metadata": {
        "colab_type": "code",
        "id": "yrqs0zg7ApNw",
        "colab": {}
      },
      "source": [
        "from tensorflow.keras.applications.vgg16 import VGG16, preprocess_input\n",
        "# Instantiate the model with the pre-trained weights (no top)\n",
        "base_model= VGG16(weights=(project_path+'vgg16_weights_tf_dim_ordering_tf_kernels_notop.h5'),\n",
        "                 include_top=False, pooling='max')"
      ],
      "execution_count": 0,
      "outputs": []
    },
    {
      "cell_type": "markdown",
      "metadata": {
        "colab_type": "text",
        "id": "EItOlRBGpV_A"
      },
      "source": [
        "Print the summary of the base_model"
      ]
    },
    {
      "cell_type": "code",
      "metadata": {
        "colab_type": "code",
        "id": "lQsEBgnlpHjH",
        "outputId": "280751c5-f5e4-4cea-cef7-b34eddef1508",
        "colab": {
          "base_uri": "https://localhost:8080/",
          "height": 870
        }
      },
      "source": [
        "base_model.summary()"
      ],
      "execution_count": 40,
      "outputs": [
        {
          "output_type": "stream",
          "text": [
            "Model: \"vgg16\"\n",
            "_________________________________________________________________\n",
            "Layer (type)                 Output Shape              Param #   \n",
            "=================================================================\n",
            "input_1 (InputLayer)         [(None, None, None, 3)]   0         \n",
            "_________________________________________________________________\n",
            "block1_conv1 (Conv2D)        (None, None, None, 64)    1792      \n",
            "_________________________________________________________________\n",
            "block1_conv2 (Conv2D)        (None, None, None, 64)    36928     \n",
            "_________________________________________________________________\n",
            "block1_pool (MaxPooling2D)   (None, None, None, 64)    0         \n",
            "_________________________________________________________________\n",
            "block2_conv1 (Conv2D)        (None, None, None, 128)   73856     \n",
            "_________________________________________________________________\n",
            "block2_conv2 (Conv2D)        (None, None, None, 128)   147584    \n",
            "_________________________________________________________________\n",
            "block2_pool (MaxPooling2D)   (None, None, None, 128)   0         \n",
            "_________________________________________________________________\n",
            "block3_conv1 (Conv2D)        (None, None, None, 256)   295168    \n",
            "_________________________________________________________________\n",
            "block3_conv2 (Conv2D)        (None, None, None, 256)   590080    \n",
            "_________________________________________________________________\n",
            "block3_conv3 (Conv2D)        (None, None, None, 256)   590080    \n",
            "_________________________________________________________________\n",
            "block3_pool (MaxPooling2D)   (None, None, None, 256)   0         \n",
            "_________________________________________________________________\n",
            "block4_conv1 (Conv2D)        (None, None, None, 512)   1180160   \n",
            "_________________________________________________________________\n",
            "block4_conv2 (Conv2D)        (None, None, None, 512)   2359808   \n",
            "_________________________________________________________________\n",
            "block4_conv3 (Conv2D)        (None, None, None, 512)   2359808   \n",
            "_________________________________________________________________\n",
            "block4_pool (MaxPooling2D)   (None, None, None, 512)   0         \n",
            "_________________________________________________________________\n",
            "block5_conv1 (Conv2D)        (None, None, None, 512)   2359808   \n",
            "_________________________________________________________________\n",
            "block5_conv2 (Conv2D)        (None, None, None, 512)   2359808   \n",
            "_________________________________________________________________\n",
            "block5_conv3 (Conv2D)        (None, None, None, 512)   2359808   \n",
            "_________________________________________________________________\n",
            "block5_pool (MaxPooling2D)   (None, None, None, 512)   0         \n",
            "_________________________________________________________________\n",
            "global_max_pooling2d (Global (None, 512)               0         \n",
            "=================================================================\n",
            "Total params: 14,714,688\n",
            "Trainable params: 14,714,688\n",
            "Non-trainable params: 0\n",
            "_________________________________________________________________\n"
          ],
          "name": "stdout"
        }
      ]
    },
    {
      "cell_type": "markdown",
      "metadata": {
        "colab_type": "text",
        "id": "fHpeOyW0qauW"
      },
      "source": [
        "### Add the following classification layers to the imported VGG Model <br>\n",
        "1. Flatten Layer\n",
        "2. Dense layer with 1024 neurons with activation as Relu\n",
        "3. Dense layer with 256 neurons with activation as Relu\n",
        "4. Dense layer with 120 neurons with activation as Softmax"
      ]
    },
    {
      "cell_type": "code",
      "metadata": {
        "id": "iByGEuXFTZ3e",
        "colab_type": "code",
        "colab": {}
      },
      "source": [
        "x = base_model.output\n",
        "# add flatten layer\n",
        "x = tf.keras.layers.Flatten()(x)\n",
        "# let's add a fully-connected layer\n",
        "x = tf.keras.layers.Dense(1024, activation='relu')(x)\n",
        "\n",
        "#add batch normalization\n",
        "x = tf.keras.layers.BatchNormalization()(x)\n",
        "#add dropout\n",
        "x = tf.keras.layers.Dropout(0.4)(x)\n",
        "\n",
        "\n",
        "# let's add a fully-connected layer\n",
        "x = tf.keras.layers.Dense(256, activation='relu')(x) \n",
        "\n",
        "#add batch normalization\n",
        "x = tf.keras.layers.BatchNormalization()(x)\n",
        "#add dropout\n",
        "x = tf.keras.layers.Dropout(0.2)(x)\n",
        "\n",
        "\n",
        "# Dense layer with 120 neurons with activation as Softmax\n",
        "predictions = tf.keras.layers.Dense(120, activation='softmax')(x)"
      ],
      "execution_count": 0,
      "outputs": []
    },
    {
      "cell_type": "markdown",
      "metadata": {
        "colab_type": "text",
        "id": "LeQem0pHITIj"
      },
      "source": [
        "### Make all the layers in the base_model (VGG16) to be non-trainable"
      ]
    },
    {
      "cell_type": "code",
      "metadata": {
        "colab_type": "code",
        "id": "C7w9CSPvIRnX",
        "colab": {}
      },
      "source": [
        "for layer in base_model.layers:\n",
        "    layer.trainable = False"
      ],
      "execution_count": 0,
      "outputs": []
    },
    {
      "cell_type": "markdown",
      "metadata": {
        "colab_type": "text",
        "id": "kj-BwqgfIkdv"
      },
      "source": [
        "### Fit and compile the model with batch_size = 128 and epochs = 10 and execute the model"
      ]
    },
    {
      "cell_type": "markdown",
      "metadata": {
        "colab_type": "text",
        "id": "YD5fAgVQIpKZ"
      },
      "source": [
        "Try to get training and validation accuracy to be more than 90%"
      ]
    },
    {
      "cell_type": "code",
      "metadata": {
        "colab_type": "code",
        "id": "SZk2SWvjIoRP",
        "colab": {}
      },
      "source": [
        "# this is the model we will train\n",
        "final_model = tf.keras.models.Model(inputs=base_model.input, outputs=predictions)"
      ],
      "execution_count": 0,
      "outputs": []
    },
    {
      "cell_type": "code",
      "metadata": {
        "id": "r9yrc4aaTZ32",
        "colab_type": "code",
        "outputId": "0dbe6d19-2d77-4431-dc9c-14bb12639160",
        "colab": {
          "base_uri": "https://localhost:8080/",
          "height": 1000
        }
      },
      "source": [
        "final_model.summary()"
      ],
      "execution_count": 44,
      "outputs": [
        {
          "output_type": "stream",
          "text": [
            "Model: \"model\"\n",
            "_________________________________________________________________\n",
            "Layer (type)                 Output Shape              Param #   \n",
            "=================================================================\n",
            "input_1 (InputLayer)         [(None, None, None, 3)]   0         \n",
            "_________________________________________________________________\n",
            "block1_conv1 (Conv2D)        (None, None, None, 64)    1792      \n",
            "_________________________________________________________________\n",
            "block1_conv2 (Conv2D)        (None, None, None, 64)    36928     \n",
            "_________________________________________________________________\n",
            "block1_pool (MaxPooling2D)   (None, None, None, 64)    0         \n",
            "_________________________________________________________________\n",
            "block2_conv1 (Conv2D)        (None, None, None, 128)   73856     \n",
            "_________________________________________________________________\n",
            "block2_conv2 (Conv2D)        (None, None, None, 128)   147584    \n",
            "_________________________________________________________________\n",
            "block2_pool (MaxPooling2D)   (None, None, None, 128)   0         \n",
            "_________________________________________________________________\n",
            "block3_conv1 (Conv2D)        (None, None, None, 256)   295168    \n",
            "_________________________________________________________________\n",
            "block3_conv2 (Conv2D)        (None, None, None, 256)   590080    \n",
            "_________________________________________________________________\n",
            "block3_conv3 (Conv2D)        (None, None, None, 256)   590080    \n",
            "_________________________________________________________________\n",
            "block3_pool (MaxPooling2D)   (None, None, None, 256)   0         \n",
            "_________________________________________________________________\n",
            "block4_conv1 (Conv2D)        (None, None, None, 512)   1180160   \n",
            "_________________________________________________________________\n",
            "block4_conv2 (Conv2D)        (None, None, None, 512)   2359808   \n",
            "_________________________________________________________________\n",
            "block4_conv3 (Conv2D)        (None, None, None, 512)   2359808   \n",
            "_________________________________________________________________\n",
            "block4_pool (MaxPooling2D)   (None, None, None, 512)   0         \n",
            "_________________________________________________________________\n",
            "block5_conv1 (Conv2D)        (None, None, None, 512)   2359808   \n",
            "_________________________________________________________________\n",
            "block5_conv2 (Conv2D)        (None, None, None, 512)   2359808   \n",
            "_________________________________________________________________\n",
            "block5_conv3 (Conv2D)        (None, None, None, 512)   2359808   \n",
            "_________________________________________________________________\n",
            "block5_pool (MaxPooling2D)   (None, None, None, 512)   0         \n",
            "_________________________________________________________________\n",
            "global_max_pooling2d (Global (None, 512)               0         \n",
            "_________________________________________________________________\n",
            "flatten_1 (Flatten)          (None, 512)               0         \n",
            "_________________________________________________________________\n",
            "dense_2 (Dense)              (None, 1024)              525312    \n",
            "_________________________________________________________________\n",
            "batch_normalization (BatchNo (None, 1024)              4096      \n",
            "_________________________________________________________________\n",
            "dropout (Dropout)            (None, 1024)              0         \n",
            "_________________________________________________________________\n",
            "dense_3 (Dense)              (None, 256)               262400    \n",
            "_________________________________________________________________\n",
            "batch_normalization_1 (Batch (None, 256)               1024      \n",
            "_________________________________________________________________\n",
            "dropout_1 (Dropout)          (None, 256)               0         \n",
            "_________________________________________________________________\n",
            "dense_4 (Dense)              (None, 120)               30840     \n",
            "=================================================================\n",
            "Total params: 15,538,360\n",
            "Trainable params: 821,112\n",
            "Non-trainable params: 14,717,248\n",
            "_________________________________________________________________\n"
          ],
          "name": "stdout"
        }
      ]
    },
    {
      "cell_type": "code",
      "metadata": {
        "id": "4gwH130qTZ39",
        "colab_type": "code",
        "colab": {}
      },
      "source": [
        "# compile the model (should be done *after* setting layers to non-trainable)\n",
        "#adam = tf.keras.optimizers.Adam(learning_rate=0.01)\n",
        "final_model.compile(optimizer='adam', loss='categorical_crossentropy', metrics=['accuracy'])"
      ],
      "execution_count": 0,
      "outputs": []
    },
    {
      "cell_type": "code",
      "metadata": {
        "id": "pwSj0ZmTguO3",
        "colab_type": "code",
        "colab": {}
      },
      "source": [
        "#Saving the best model using model checkpoint callback\n",
        "model_checkpoint=tf.keras.callbacks.ModelCheckpoint('dogbreed_cnn.h5', \n",
        "                                                    save_best_only=True, \n",
        "                                                    monitor='val_accuracy', \n",
        "                                                    mode='max', \n",
        "                                                    verbose=1)"
      ],
      "execution_count": 0,
      "outputs": []
    },
    {
      "cell_type": "code",
      "metadata": {
        "id": "IZV9_y6KTZ4I",
        "colab_type": "code",
        "outputId": "4e7c3d46-2a04-483d-b921-c6b915afc2b9",
        "colab": {
          "base_uri": "https://localhost:8080/",
          "height": 1000
        }
      },
      "source": [
        "final_model.fit_generator(train_generator,\n",
        "                    epochs=20,\n",
        "                    steps_per_epoch= 7155//128,  #Number of training images//batch_size\n",
        "                    validation_data=val_generator,\n",
        "                    validation_steps = 3067//128, #Number of test images//batch_size\n",
        "                    callbacks = [model_checkpoint])"
      ],
      "execution_count": 47,
      "outputs": [
        {
          "output_type": "stream",
          "text": [
            "Epoch 1/20\n",
            "55/55 [==============================] - ETA: 0s - loss: 5.1508 - accuracy: 0.0256\n",
            "Epoch 00001: val_accuracy improved from -inf to 0.01630, saving model to dogbreed_cnn.h5\n",
            "55/55 [==============================] - 14s 263ms/step - loss: 5.1508 - accuracy: 0.0256 - val_loss: 4.8207 - val_accuracy: 0.0163\n",
            "Epoch 2/20\n",
            "55/55 [==============================] - ETA: 0s - loss: 4.6765 - accuracy: 0.0506\n",
            "Epoch 00002: val_accuracy improved from 0.01630 to 0.04212, saving model to dogbreed_cnn.h5\n",
            "55/55 [==============================] - 14s 260ms/step - loss: 4.6765 - accuracy: 0.0506 - val_loss: 4.5487 - val_accuracy: 0.0421\n",
            "Epoch 3/20\n",
            "55/55 [==============================] - ETA: 0s - loss: 4.2105 - accuracy: 0.0962\n",
            "Epoch 00003: val_accuracy improved from 0.04212 to 0.09511, saving model to dogbreed_cnn.h5\n",
            "55/55 [==============================] - 15s 281ms/step - loss: 4.2105 - accuracy: 0.0962 - val_loss: 4.1797 - val_accuracy: 0.0951\n",
            "Epoch 4/20\n",
            "55/55 [==============================] - ETA: 0s - loss: 4.0162 - accuracy: 0.1136\n",
            "Epoch 00004: val_accuracy improved from 0.09511 to 0.13043, saving model to dogbreed_cnn.h5\n",
            "55/55 [==============================] - 14s 261ms/step - loss: 4.0162 - accuracy: 0.1136 - val_loss: 3.8804 - val_accuracy: 0.1304\n",
            "Epoch 5/20\n",
            "55/55 [==============================] - ETA: 0s - loss: 3.8874 - accuracy: 0.1153\n",
            "Epoch 00005: val_accuracy improved from 0.13043 to 0.14946, saving model to dogbreed_cnn.h5\n",
            "55/55 [==============================] - 15s 264ms/step - loss: 3.8874 - accuracy: 0.1153 - val_loss: 3.7641 - val_accuracy: 0.1495\n",
            "Epoch 6/20\n",
            "55/55 [==============================] - ETA: 0s - loss: 3.7633 - accuracy: 0.1483\n",
            "Epoch 00006: val_accuracy improved from 0.14946 to 0.17663, saving model to dogbreed_cnn.h5\n",
            "55/55 [==============================] - 15s 267ms/step - loss: 3.7633 - accuracy: 0.1483 - val_loss: 3.6094 - val_accuracy: 0.1766\n",
            "Epoch 7/20\n",
            "55/55 [==============================] - ETA: 0s - loss: 3.4857 - accuracy: 0.1734\n",
            "Epoch 00007: val_accuracy did not improve from 0.17663\n",
            "55/55 [==============================] - 14s 256ms/step - loss: 3.4857 - accuracy: 0.1734 - val_loss: 3.7171 - val_accuracy: 0.1522\n",
            "Epoch 8/20\n",
            "55/55 [==============================] - ETA: 0s - loss: 3.3807 - accuracy: 0.1949\n",
            "Epoch 00008: val_accuracy improved from 0.17663 to 0.18614, saving model to dogbreed_cnn.h5\n",
            "55/55 [==============================] - 14s 261ms/step - loss: 3.3807 - accuracy: 0.1949 - val_loss: 3.4818 - val_accuracy: 0.1861\n",
            "Epoch 9/20\n",
            "55/55 [==============================] - ETA: 0s - loss: 3.4715 - accuracy: 0.1915\n",
            "Epoch 00009: val_accuracy did not improve from 0.18614\n",
            "55/55 [==============================] - 14s 257ms/step - loss: 3.4715 - accuracy: 0.1915 - val_loss: 3.4952 - val_accuracy: 0.1793\n",
            "Epoch 10/20\n",
            "55/55 [==============================] - ETA: 0s - loss: 3.4251 - accuracy: 0.2000\n",
            "Epoch 00010: val_accuracy did not improve from 0.18614\n",
            "55/55 [==============================] - 14s 253ms/step - loss: 3.4251 - accuracy: 0.2000 - val_loss: 3.4241 - val_accuracy: 0.1834\n",
            "Epoch 11/20\n",
            "55/55 [==============================] - ETA: 0s - loss: 3.2814 - accuracy: 0.2044\n",
            "Epoch 00011: val_accuracy improved from 0.18614 to 0.19293, saving model to dogbreed_cnn.h5\n",
            "55/55 [==============================] - 14s 259ms/step - loss: 3.2814 - accuracy: 0.2044 - val_loss: 3.4423 - val_accuracy: 0.1929\n",
            "Epoch 12/20\n",
            "55/55 [==============================] - ETA: 0s - loss: 3.2010 - accuracy: 0.2205\n",
            "Epoch 00012: val_accuracy improved from 0.19293 to 0.20245, saving model to dogbreed_cnn.h5\n",
            "55/55 [==============================] - 14s 258ms/step - loss: 3.2010 - accuracy: 0.2205 - val_loss: 3.3363 - val_accuracy: 0.2024\n",
            "Epoch 13/20\n",
            "55/55 [==============================] - ETA: 0s - loss: 3.2027 - accuracy: 0.2267\n",
            "Epoch 00013: val_accuracy did not improve from 0.20245\n",
            "55/55 [==============================] - 14s 259ms/step - loss: 3.2027 - accuracy: 0.2267 - val_loss: 3.3606 - val_accuracy: 0.1902\n",
            "Epoch 14/20\n",
            "55/55 [==============================] - ETA: 0s - loss: 3.2658 - accuracy: 0.2210\n",
            "Epoch 00014: val_accuracy improved from 0.20245 to 0.22283, saving model to dogbreed_cnn.h5\n",
            "55/55 [==============================] - 14s 261ms/step - loss: 3.2658 - accuracy: 0.2210 - val_loss: 3.3192 - val_accuracy: 0.2228\n",
            "Epoch 15/20\n",
            "55/55 [==============================] - ETA: 0s - loss: 3.0329 - accuracy: 0.2645\n",
            "Epoch 00015: val_accuracy did not improve from 0.22283\n",
            "55/55 [==============================] - 14s 257ms/step - loss: 3.0329 - accuracy: 0.2645 - val_loss: 3.2397 - val_accuracy: 0.2215\n",
            "Epoch 16/20\n",
            "55/55 [==============================] - ETA: 0s - loss: 3.0540 - accuracy: 0.2347\n",
            "Epoch 00016: val_accuracy did not improve from 0.22283\n",
            "55/55 [==============================] - 14s 258ms/step - loss: 3.0540 - accuracy: 0.2347 - val_loss: 3.2732 - val_accuracy: 0.2065\n",
            "Epoch 17/20\n",
            "55/55 [==============================] - ETA: 0s - loss: 3.0936 - accuracy: 0.2472\n",
            "Epoch 00017: val_accuracy improved from 0.22283 to 0.22418, saving model to dogbreed_cnn.h5\n",
            "55/55 [==============================] - 15s 265ms/step - loss: 3.0936 - accuracy: 0.2472 - val_loss: 3.3563 - val_accuracy: 0.2242\n",
            "Epoch 18/20\n",
            "55/55 [==============================] - ETA: 0s - loss: 3.0977 - accuracy: 0.2466\n",
            "Epoch 00018: val_accuracy did not improve from 0.22418\n",
            "55/55 [==============================] - 14s 259ms/step - loss: 3.0977 - accuracy: 0.2466 - val_loss: 3.3478 - val_accuracy: 0.2174\n",
            "Epoch 19/20\n",
            "55/55 [==============================] - ETA: 0s - loss: 3.0000 - accuracy: 0.2759\n",
            "Epoch 00019: val_accuracy did not improve from 0.22418\n",
            "55/55 [==============================] - 15s 264ms/step - loss: 3.0000 - accuracy: 0.2759 - val_loss: 3.3198 - val_accuracy: 0.1943\n",
            "Epoch 20/20\n",
            "55/55 [==============================] - ETA: 0s - loss: 2.9186 - accuracy: 0.2778\n",
            "Epoch 00020: val_accuracy improved from 0.22418 to 0.22962, saving model to dogbreed_cnn.h5\n",
            "55/55 [==============================] - 14s 262ms/step - loss: 2.9186 - accuracy: 0.2778 - val_loss: 3.3491 - val_accuracy: 0.2296\n"
          ],
          "name": "stdout"
        },
        {
          "output_type": "execute_result",
          "data": {
            "text/plain": [
              "<tensorflow.python.keras.callbacks.History at 0x7f9fbb141ac8>"
            ]
          },
          "metadata": {
            "tags": []
          },
          "execution_count": 47
        }
      ]
    },
    {
      "cell_type": "code",
      "metadata": {
        "id": "kvADjtIEtE8S",
        "colab_type": "code",
        "outputId": "d8d44d18-07c4-423b-831c-9f30b3316ad1",
        "colab": {
          "base_uri": "https://localhost:8080/",
          "height": 1000
        }
      },
      "source": [
        "#Lets train for 30 more steps\n",
        "final_model.fit_generator(train_generator, \n",
        "                          epochs=50,\n",
        "                          initial_epoch=20,\n",
        "                          steps_per_epoch= 7155//128,\n",
        "                          validation_data=val_generator,\n",
        "                          validation_steps = 3067//128, \n",
        "                          callbacks=[model_checkpoint])"
      ],
      "execution_count": 49,
      "outputs": [
        {
          "output_type": "stream",
          "text": [
            "Epoch 21/50\n",
            "55/55 [==============================] - ETA: 0s - loss: 2.9015 - accuracy: 0.2891\n",
            "Epoch 00021: val_accuracy did not improve from 0.22962\n",
            "55/55 [==============================] - 14s 257ms/step - loss: 2.9015 - accuracy: 0.2891 - val_loss: 3.2296 - val_accuracy: 0.2228\n",
            "Epoch 22/50\n",
            "55/55 [==============================] - ETA: 0s - loss: 2.9160 - accuracy: 0.2784\n",
            "Epoch 00022: val_accuracy did not improve from 0.22962\n",
            "55/55 [==============================] - 14s 261ms/step - loss: 2.9160 - accuracy: 0.2784 - val_loss: 3.2774 - val_accuracy: 0.2228\n",
            "Epoch 23/50\n",
            "55/55 [==============================] - ETA: 0s - loss: 2.9186 - accuracy: 0.2739\n",
            "Epoch 00023: val_accuracy did not improve from 0.22962\n",
            "55/55 [==============================] - 14s 259ms/step - loss: 2.9186 - accuracy: 0.2739 - val_loss: 3.2471 - val_accuracy: 0.2255\n",
            "Epoch 24/50\n",
            "55/55 [==============================] - ETA: 0s - loss: 3.0289 - accuracy: 0.2597\n",
            "Epoch 00024: val_accuracy improved from 0.22962 to 0.23641, saving model to dogbreed_cnn.h5\n",
            "55/55 [==============================] - 14s 259ms/step - loss: 3.0289 - accuracy: 0.2597 - val_loss: 3.2777 - val_accuracy: 0.2364\n",
            "Epoch 25/50\n",
            "55/55 [==============================] - ETA: 0s - loss: 2.8529 - accuracy: 0.2851\n",
            "Epoch 00025: val_accuracy did not improve from 0.23641\n",
            "55/55 [==============================] - 14s 257ms/step - loss: 2.8529 - accuracy: 0.2851 - val_loss: 3.3369 - val_accuracy: 0.2242\n",
            "Epoch 26/50\n",
            "55/55 [==============================] - ETA: 0s - loss: 2.8092 - accuracy: 0.2977\n",
            "Epoch 00026: val_accuracy did not improve from 0.23641\n",
            "55/55 [==============================] - 14s 257ms/step - loss: 2.8092 - accuracy: 0.2977 - val_loss: 3.2604 - val_accuracy: 0.2174\n",
            "Epoch 27/50\n",
            "55/55 [==============================] - ETA: 0s - loss: 2.8881 - accuracy: 0.2818\n",
            "Epoch 00027: val_accuracy did not improve from 0.23641\n",
            "55/55 [==============================] - 14s 258ms/step - loss: 2.8881 - accuracy: 0.2818 - val_loss: 3.3346 - val_accuracy: 0.1997\n",
            "Epoch 28/50\n",
            "55/55 [==============================] - ETA: 0s - loss: 3.0046 - accuracy: 0.2619\n",
            "Epoch 00028: val_accuracy did not improve from 0.23641\n",
            "55/55 [==============================] - 14s 260ms/step - loss: 3.0046 - accuracy: 0.2619 - val_loss: 3.2589 - val_accuracy: 0.2269\n",
            "Epoch 29/50\n",
            "55/55 [==============================] - ETA: 0s - loss: 2.8246 - accuracy: 0.2954\n",
            "Epoch 00029: val_accuracy did not improve from 0.23641\n",
            "55/55 [==============================] - 14s 260ms/step - loss: 2.8246 - accuracy: 0.2954 - val_loss: 3.1516 - val_accuracy: 0.2201\n",
            "Epoch 30/50\n",
            "55/55 [==============================] - ETA: 0s - loss: 2.7444 - accuracy: 0.2977\n",
            "Epoch 00030: val_accuracy improved from 0.23641 to 0.24728, saving model to dogbreed_cnn.h5\n",
            "55/55 [==============================] - 15s 265ms/step - loss: 2.7444 - accuracy: 0.2977 - val_loss: 3.2116 - val_accuracy: 0.2473\n",
            "Epoch 31/50\n",
            "55/55 [==============================] - ETA: 0s - loss: 2.8450 - accuracy: 0.2841\n",
            "Epoch 00031: val_accuracy did not improve from 0.24728\n",
            "55/55 [==============================] - 15s 265ms/step - loss: 2.8450 - accuracy: 0.2841 - val_loss: 3.3400 - val_accuracy: 0.2188\n",
            "Epoch 32/50\n",
            "55/55 [==============================] - ETA: 0s - loss: 2.8380 - accuracy: 0.3102\n",
            "Epoch 00032: val_accuracy did not improve from 0.24728\n",
            "55/55 [==============================] - 14s 260ms/step - loss: 2.8380 - accuracy: 0.3102 - val_loss: 3.2571 - val_accuracy: 0.2242\n",
            "Epoch 33/50\n",
            "55/55 [==============================] - ETA: 0s - loss: 2.8269 - accuracy: 0.2942\n",
            "Epoch 00033: val_accuracy did not improve from 0.24728\n",
            "55/55 [==============================] - 14s 257ms/step - loss: 2.8269 - accuracy: 0.2942 - val_loss: 3.1773 - val_accuracy: 0.2405\n",
            "Epoch 34/50\n",
            "55/55 [==============================] - ETA: 0s - loss: 2.6479 - accuracy: 0.3301\n",
            "Epoch 00034: val_accuracy did not improve from 0.24728\n",
            "55/55 [==============================] - 14s 261ms/step - loss: 2.6479 - accuracy: 0.3301 - val_loss: 3.1932 - val_accuracy: 0.2473\n",
            "Epoch 35/50\n",
            "55/55 [==============================] - ETA: 0s - loss: 2.8393 - accuracy: 0.2972\n",
            "Epoch 00035: val_accuracy did not improve from 0.24728\n",
            "55/55 [==============================] - 14s 261ms/step - loss: 2.8393 - accuracy: 0.2972 - val_loss: 3.4134 - val_accuracy: 0.1984\n",
            "Epoch 36/50\n",
            "55/55 [==============================] - ETA: 0s - loss: 2.9048 - accuracy: 0.2943\n",
            "Epoch 00036: val_accuracy did not improve from 0.24728\n",
            "55/55 [==============================] - 14s 261ms/step - loss: 2.9048 - accuracy: 0.2943 - val_loss: 3.3896 - val_accuracy: 0.2024\n",
            "Epoch 37/50\n",
            "55/55 [==============================] - ETA: 0s - loss: 2.7622 - accuracy: 0.3039\n",
            "Epoch 00037: val_accuracy did not improve from 0.24728\n",
            "55/55 [==============================] - 14s 257ms/step - loss: 2.7622 - accuracy: 0.3039 - val_loss: 3.2842 - val_accuracy: 0.2228\n",
            "Epoch 38/50\n",
            "55/55 [==============================] - ETA: 0s - loss: 2.6106 - accuracy: 0.3483\n",
            "Epoch 00038: val_accuracy did not improve from 0.24728\n",
            "55/55 [==============================] - 14s 258ms/step - loss: 2.6106 - accuracy: 0.3483 - val_loss: 3.3346 - val_accuracy: 0.2337\n",
            "Epoch 39/50\n",
            "55/55 [==============================] - ETA: 0s - loss: 2.8071 - accuracy: 0.2920\n",
            "Epoch 00039: val_accuracy did not improve from 0.24728\n",
            "55/55 [==============================] - 15s 268ms/step - loss: 2.8071 - accuracy: 0.2920 - val_loss: 3.2164 - val_accuracy: 0.2323\n",
            "Epoch 40/50\n",
            "55/55 [==============================] - ETA: 0s - loss: 2.7912 - accuracy: 0.3091\n",
            "Epoch 00040: val_accuracy improved from 0.24728 to 0.25408, saving model to dogbreed_cnn.h5\n",
            "55/55 [==============================] - 16s 284ms/step - loss: 2.7912 - accuracy: 0.3091 - val_loss: 3.0555 - val_accuracy: 0.2541\n",
            "Epoch 41/50\n",
            "55/55 [==============================] - ETA: 0s - loss: 2.6864 - accuracy: 0.3234\n",
            "Epoch 00041: val_accuracy did not improve from 0.25408\n",
            "55/55 [==============================] - 15s 265ms/step - loss: 2.6864 - accuracy: 0.3234 - val_loss: 3.2227 - val_accuracy: 0.2242\n",
            "Epoch 42/50\n",
            "55/55 [==============================] - ETA: 0s - loss: 2.5629 - accuracy: 0.3619\n",
            "Epoch 00042: val_accuracy did not improve from 0.25408\n",
            "55/55 [==============================] - 15s 273ms/step - loss: 2.5629 - accuracy: 0.3619 - val_loss: 3.1630 - val_accuracy: 0.2446\n",
            "Epoch 43/50\n",
            "55/55 [==============================] - ETA: 0s - loss: 2.6590 - accuracy: 0.3318\n",
            "Epoch 00043: val_accuracy did not improve from 0.25408\n",
            "55/55 [==============================] - 15s 268ms/step - loss: 2.6590 - accuracy: 0.3318 - val_loss: 3.3484 - val_accuracy: 0.2541\n",
            "Epoch 44/50\n",
            "55/55 [==============================] - ETA: 0s - loss: 2.8208 - accuracy: 0.3023\n",
            "Epoch 00044: val_accuracy did not improve from 0.25408\n",
            "55/55 [==============================] - 14s 263ms/step - loss: 2.8208 - accuracy: 0.3023 - val_loss: 3.2644 - val_accuracy: 0.2310\n",
            "Epoch 45/50\n",
            "55/55 [==============================] - ETA: 0s - loss: 2.7148 - accuracy: 0.2982\n",
            "Epoch 00045: val_accuracy did not improve from 0.25408\n",
            "55/55 [==============================] - 15s 268ms/step - loss: 2.7148 - accuracy: 0.2982 - val_loss: 3.3061 - val_accuracy: 0.2052\n",
            "Epoch 46/50\n",
            "55/55 [==============================] - ETA: 0s - loss: 2.6672 - accuracy: 0.3256\n",
            "Epoch 00046: val_accuracy did not improve from 0.25408\n",
            "55/55 [==============================] - 14s 262ms/step - loss: 2.6672 - accuracy: 0.3256 - val_loss: 3.3358 - val_accuracy: 0.2418\n",
            "Epoch 47/50\n",
            "55/55 [==============================] - ETA: 0s - loss: 2.6685 - accuracy: 0.3210\n",
            "Epoch 00047: val_accuracy did not improve from 0.25408\n",
            "55/55 [==============================] - 15s 265ms/step - loss: 2.6685 - accuracy: 0.3210 - val_loss: 3.3528 - val_accuracy: 0.2337\n",
            "Epoch 48/50\n",
            "55/55 [==============================] - ETA: 0s - loss: 2.7250 - accuracy: 0.3227\n",
            "Epoch 00048: val_accuracy did not improve from 0.25408\n",
            "55/55 [==============================] - 14s 261ms/step - loss: 2.7250 - accuracy: 0.3227 - val_loss: 3.2127 - val_accuracy: 0.2473\n",
            "Epoch 49/50\n",
            "55/55 [==============================] - ETA: 0s - loss: 2.7082 - accuracy: 0.3097\n",
            "Epoch 00049: val_accuracy did not improve from 0.25408\n",
            "55/55 [==============================] - 14s 258ms/step - loss: 2.7082 - accuracy: 0.3097 - val_loss: 3.2525 - val_accuracy: 0.2160\n",
            "Epoch 50/50\n",
            "55/55 [==============================] - ETA: 0s - loss: 2.5662 - accuracy: 0.3335\n",
            "Epoch 00050: val_accuracy did not improve from 0.25408\n",
            "55/55 [==============================] - 15s 264ms/step - loss: 2.5662 - accuracy: 0.3335 - val_loss: 3.1911 - val_accuracy: 0.2486\n"
          ],
          "name": "stdout"
        },
        {
          "output_type": "execute_result",
          "data": {
            "text/plain": [
              "<tensorflow.python.keras.callbacks.History at 0x7fa0556e1390>"
            ]
          },
          "metadata": {
            "tags": []
          },
          "execution_count": 49
        }
      ]
    },
    {
      "cell_type": "markdown",
      "metadata": {
        "id": "-ppCPJgWKqVv",
        "colab_type": "text"
      },
      "source": [
        " The first model build using convolutional neural network is overfitted. Fine tuned this model with image augmentation but accuracy is very poor. Lastly, with the use of the pretrained model VGG-16 and fine-tuned with image augmentation, batch normalization and dropout,  could achieve an accuracy of 25.9%"
      ]
    }
  ]
}